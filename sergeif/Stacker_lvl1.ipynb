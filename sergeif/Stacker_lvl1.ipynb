{
 "cells": [
  {
   "cell_type": "code",
   "execution_count": 1,
   "metadata": {
    "collapsed": true
   },
   "outputs": [],
   "source": [
    "import pandas as pd\n",
    "import numpy as np\n",
    "from sklearn.metrics import roc_auc_score\n",
    "from sklearn.preprocessing import minmax_scale"
   ]
  },
  {
   "cell_type": "code",
   "execution_count": 3,
   "metadata": {},
   "outputs": [],
   "source": [
    "cols = ['toxic', 'severe_toxic', 'obscene', 'threat', 'insult', 'identity_hate']\n",
    "orig_cols = ['id', 'comment_text', 'toxic', 'severe_toxic', 'obscene', 'threat', 'insult', 'identity_hate','clean_comment']\n",
    "train = pd.read_csv('../train_meta.csv')"
   ]
  },
  {
   "cell_type": "code",
   "execution_count": 4,
   "metadata": {},
   "outputs": [
    {
     "data": {
      "text/plain": [
       "(159571, 269)"
      ]
     },
     "execution_count": 4,
     "metadata": {},
     "output_type": "execute_result"
    }
   ],
   "source": [
    "train.shape"
   ]
  },
  {
   "cell_type": "code",
   "execution_count": 5,
   "metadata": {},
   "outputs": [
    {
     "data": {
      "text/plain": [
       "(153164, 263)"
      ]
     },
     "execution_count": 5,
     "metadata": {},
     "output_type": "execute_result"
    }
   ],
   "source": [
    "test = pd.read_csv('../test_meta.csv')\n",
    "test.shape"
   ]
  },
  {
   "cell_type": "code",
   "execution_count": 6,
   "metadata": {},
   "outputs": [
    {
     "name": "stdout",
     "output_type": "stream",
     "text": [
      "toxic\n",
      "AUC: 0.9899130757581646\n",
      "AUC: 0.990396659518011\n",
      "AUC: 0.9893189749873188\n",
      "AUC: 0.9901955337416918\n",
      "AUC: 0.9900996385195607\n",
      "AUC: 0.9897545506859042\n",
      "AUC: 0.9905374357225498\n",
      "AUC: 0.9890456601252697\n",
      "AUC: 0.9909183512252722\n",
      "AUC: 0.9895523405401543\n",
      "toxic 0.9899732220823896\n",
      "severe_toxic\n",
      "AUC: 0.9920230590807871\n",
      "AUC: 0.9931723771359539\n",
      "AUC: 0.9924369374585343\n",
      "AUC: 0.9937881964040958\n",
      "AUC: 0.9907073039164446\n",
      "AUC: 0.992363223843655\n",
      "AUC: 0.9920593487425766\n",
      "AUC: 0.9932111911341657\n",
      "AUC: 0.9915504313472546\n",
      "AUC: 0.9933215242192279\n",
      "severe_toxic 0.9924633593282696\n",
      "obscene\n",
      "AUC: 0.9963279485363086\n",
      "AUC: 0.9960808721633464\n",
      "AUC: 0.9965764811362505\n",
      "AUC: 0.9961726679420453\n",
      "AUC: 0.9957607256092087\n",
      "AUC: 0.9960230924194133\n",
      "AUC: 0.9963302232412863\n",
      "AUC: 0.9953402618681836\n",
      "AUC: 0.9955918604012135\n",
      "AUC: 0.9957518928174246\n",
      "obscene 0.995995602613468\n",
      "threat\n",
      "AUC: 0.995767482020679\n",
      "AUC: 0.9835470488402791\n",
      "AUC: 0.9962462732138367\n",
      "AUC: 0.9976921520911615\n",
      "AUC: 0.9964488670713126\n",
      "AUC: 0.9970992841758882\n",
      "AUC: 0.9902917434780178\n",
      "AUC: 0.9968167273529737\n",
      "AUC: 0.9954208838875966\n",
      "AUC: 0.996254983563463\n",
      "threat 0.9945585445695209\n",
      "insult\n",
      "AUC: 0.9908032115715157\n",
      "AUC: 0.9914328567871622\n",
      "AUC: 0.9913843323774747\n",
      "AUC: 0.9909837449522978\n",
      "AUC: 0.9913276636991422\n",
      "AUC: 0.9904358181250799\n",
      "AUC: 0.9913100526723447\n",
      "AUC: 0.990130597298224\n",
      "AUC: 0.9908328198503321\n",
      "AUC: 0.990097051445916\n",
      "insult 0.990873814877949\n",
      "identity_hate\n",
      "AUC: 0.9940805178728247\n",
      "AUC: 0.9931477335006713\n",
      "AUC: 0.9945980364707051\n",
      "AUC: 0.9947613990335862\n",
      "AUC: 0.993759053597296\n",
      "AUC: 0.9886412887942657\n",
      "AUC: 0.990405476566614\n",
      "AUC: 0.9934977605937998\n",
      "AUC: 0.9941031164727847\n",
      "AUC: 0.9874350682162708\n",
      "identity_hate 0.9924429451118819\n",
      "CV score: 0.9927179147639131\n"
     ]
    }
   ],
   "source": [
    "import lightgbm as lgb\n",
    "from sklearn.model_selection import cross_val_score\n",
    "from sklearn.model_selection import KFold\n",
    "from sklearn.metrics import roc_auc_score,log_loss\n",
    "\n",
    "stacker = lgb.LGBMClassifier(max_depth=4, metric=\"auc\", n_estimators=90, num_leaves=9, boosting_type=\"gbdt\", learning_rate=0.1, feature_fraction=0.4, colsample_bytree=0.4, bagging_fraction=0.8, bagging_freq=5, reg_lambda=10.2)\n",
    "\n",
    "sub = pd.read_csv('../input/sample_submission.csv')\n",
    "for c in cols:\n",
    "    sub[c] = 0\n",
    "\n",
    "scores = []\n",
    "for label in cols:\n",
    "    print(label)\n",
    "    kf = KFold(n_splits=10, shuffle=True, random_state=1256)\n",
    "    c_score = []\n",
    "    for train_index, test_index in kf.split(train):\n",
    "        stacker.fit(train.drop(orig_cols, axis=1).iloc[train_index,:], train[label][train_index])\n",
    "        score = roc_auc_score(train[label][test_index], stacker.predict_proba(train.drop(orig_cols, axis=1).iloc[test_index,:])[:,1])\n",
    "        print(\"AUC:\", score)    \n",
    "        scores.append(score)\n",
    "        c_score.append(score)\n",
    "        sub[label] += minmax_scale(stacker.predict_proba(test.drop(['id','comment_text','clean_comment'],axis=1))[:,1])*0.1\n",
    "    print(label,np.mean(c_score))\n",
    "print(\"CV score:\", np.mean(scores))"
   ]
  },
  {
   "cell_type": "code",
   "execution_count": 7,
   "metadata": {
    "collapsed": true
   },
   "outputs": [],
   "source": [
    "sub.to_csv('stack.csv',index=False)"
   ]
  },
  {
   "cell_type": "code",
   "execution_count": 9,
   "metadata": {},
   "outputs": [
    {
     "data": {
      "text/plain": [
       "[0.9940805178728247,\n",
       " 0.9931477335006713,\n",
       " 0.9945980364707051,\n",
       " 0.9947613990335862,\n",
       " 0.993759053597296,\n",
       " 0.9886412887942657,\n",
       " 0.990405476566614,\n",
       " 0.9934977605937998,\n",
       " 0.9941031164727847,\n",
       " 0.9874350682162708]"
      ]
     },
     "execution_count": 9,
     "metadata": {},
     "output_type": "execute_result"
    }
   ],
   "source": [
    "c_score"
   ]
  },
  {
   "cell_type": "code",
   "execution_count": null,
   "metadata": {
    "collapsed": true
   },
   "outputs": [],
   "source": []
  }
 ],
 "metadata": {
  "kernelspec": {
   "display_name": "Python 3",
   "language": "python",
   "name": "python3"
  },
  "language_info": {
   "codemirror_mode": {
    "name": "ipython",
    "version": 3
   },
   "file_extension": ".py",
   "mimetype": "text/x-python",
   "name": "python",
   "nbconvert_exporter": "python",
   "pygments_lexer": "ipython3",
   "version": "3.6.1"
  }
 },
 "nbformat": 4,
 "nbformat_minor": 2
}
