{
 "cells": [
  {
   "cell_type": "code",
   "execution_count": 117,
   "metadata": {},
   "outputs": [],
   "source": [
    "from os import walk\n",
    "import pandas as pd\n",
    "import numpy as np\n",
    "\n",
    "cols = ['toxic', 'severe_toxic', 'obscene', 'threat', 'insult', 'identity_hate']\n",
    "\n",
    "f = []\n",
    "for (dirpath, dirnames, filenames) in walk('../blend/'):\n",
    "    f.extend(filenames)\n",
    "    break\n",
    "\n",
    "ff = []\n",
    "for (dirpath, dirnames, filenames) in walk('../skolbachev/'):\n",
    "    for d in dirnames:\n",
    "        for (dirpath, dirnames2, filenames) in walk('../skolbachev/'+d):\n",
    "            for qf in filenames:\n",
    "                ff.append('../skolbachev/'+d+'/'+qf)\n",
    "\n",
    "train_idx = pd.read_csv('../input/train.csv')['id'].values\n",
    "train = pd.read_csv('../input/train.csv').sort_values('id').reset_index(drop=True)"
   ]
  },
  {
   "cell_type": "code",
   "execution_count": 118,
   "metadata": {},
   "outputs": [
    {
     "name": "stdout",
     "output_type": "stream",
     "text": [
      "_att 0.9887701275576107\n",
      "2ycnn 0.9873606598169475\n",
      "4gru 0.9876478836087786\n",
      "5cnn 0.9852476095999143\n",
      "att 0.9880287618175224\n",
      "grucnn 0.9895349799724892\n",
      "grucnn_fl 0.9880106712925772\n",
      "grucnn_fl3 0.9897685069751564\n",
      "grucnn_fl4 0.9899923857692398\n",
      "nbsvm 0.9820123460744199\n",
      "ycnn 0.9847277643406013\n",
      "sk0 0.9910875692487013\n",
      "sk1 0.9908130451768224\n",
      "sk2 0.9899530158503688\n",
      "sk3 0.9911913850256058\n",
      "sk4 0.9905625848095353\n",
      "sk5 0.9902882130480376\n",
      "sk6 0.990813388694949\n",
      "sk7 0.9904216084142267\n",
      "sk8 0.9911659724246551\n",
      "sk9 0.9907451200741724\n"
     ]
    }
   ],
   "source": [
    "from sklearn.metrics import roc_auc_score\n",
    "from sklearn.preprocessing import minmax_scale\n",
    "oofs = []\n",
    "onms = []\n",
    "\n",
    "train_files = [q for q in f if q.startswith('train')]\n",
    "for q in train_files:\n",
    "    nm = q[6:-4]\n",
    "    nf = pd.read_csv('../blend/'+q).sort_values('id').reset_index(drop=True)\n",
    "    for c in cols:\n",
    "        nf[c] = minmax_scale(nf[c])\n",
    "        #print(nm,c,roc_auc_score(train[c],nf[c]))\n",
    "    nf.columns = ['id'] + [nm+'_' + q for q in cols]\n",
    "    print(nm, roc_auc_score(train[['toxic', 'severe_toxic', 'obscene', 'threat', 'insult','identity_hate']],nf[[nm+'_toxic',nm+'_severe_toxic',nm+'_obscene',nm+'_threat',nm+'_insult',nm+'_identity_hate']]))\n",
    "    onms.append(nm)\n",
    "    oofs.append(nf)\n",
    "    \n",
    "sk_train = [q for q in ff if not q.endswith('test_X_pred.npy')]\n",
    "suf = 'sk'\n",
    "i = 0\n",
    "for q in sk_train:\n",
    "    nf = pd.DataFrame(np.load(q))\n",
    "    nm = suf+str(i)\n",
    "    nf.columns = [nm+'_'+q for q in cols]\n",
    "    nf['id'] = train_idx\n",
    "    nf = nf.sort_values('id').reset_index(drop=True)\n",
    "    for c in cols:\n",
    "        nf[nm+'_'+c] = minmax_scale(nf[nm+'_'+c])\n",
    "    print(nm, roc_auc_score(train[['toxic', 'severe_toxic', 'obscene', 'threat', 'insult','identity_hate']],nf[[nm+'_toxic',nm+'_severe_toxic',nm+'_obscene',nm+'_threat',nm+'_insult',nm+'_identity_hate']]))\n",
    "    onms.append(nm)\n",
    "    oofs.append(nf)\n",
    "    i = i + 1"
   ]
  },
  {
   "cell_type": "code",
   "execution_count": 119,
   "metadata": {
    "collapsed": true
   },
   "outputs": [],
   "source": [
    "train = pd.read_csv('../input/train.csv').sort_values('id').reset_index(drop=True)\n",
    "for o in oofs:\n",
    "    train = train.merge(o, on='id', how='left')"
   ]
  },
  {
   "cell_type": "code",
   "execution_count": 120,
   "metadata": {},
   "outputs": [
    {
     "data": {
      "text/plain": [
       "['_att',\n",
       " '2ycnn',\n",
       " '4gru',\n",
       " '5cnn',\n",
       " 'att',\n",
       " 'grucnn',\n",
       " 'grucnn_fl',\n",
       " 'grucnn_fl3',\n",
       " 'grucnn_fl4',\n",
       " 'nbsvm',\n",
       " 'ycnn',\n",
       " 'sk0',\n",
       " 'sk1',\n",
       " 'sk2',\n",
       " 'sk3',\n",
       " 'sk4',\n",
       " 'sk5',\n",
       " 'sk6',\n",
       " 'sk7',\n",
       " 'sk8',\n",
       " 'sk9']"
      ]
     },
     "execution_count": 120,
     "metadata": {},
     "output_type": "execute_result"
    }
   ],
   "source": [
    "onms"
   ]
  },
  {
   "cell_type": "code",
   "execution_count": 96,
   "metadata": {},
   "outputs": [
    {
     "data": {
      "text/plain": [
       "Index(['id', 'comment_text', 'toxic', 'severe_toxic', 'obscene', 'threat',\n",
       "       'insult', 'identity_hate', '_att_toxic', '_att_severe_toxic',\n",
       "       ...\n",
       "       'sk7_obscene', 'sk7_threat', 'sk7_insult', 'sk7_identity_hate',\n",
       "       'sk8_toxic', 'sk8_severe_toxic', 'sk8_obscene', 'sk8_threat',\n",
       "       'sk8_insult', 'sk8_identity_hate'],\n",
       "      dtype='object', length=128)"
      ]
     },
     "execution_count": 96,
     "metadata": {},
     "output_type": "execute_result"
    }
   ],
   "source": [
    "train.columns"
   ]
  },
  {
   "cell_type": "code",
   "execution_count": 121,
   "metadata": {
    "collapsed": true
   },
   "outputs": [],
   "source": [
    "orig_cols = ['id', 'comment_text', 'toxic', 'severe_toxic', 'obscene', 'threat', 'insult', 'identity_hate']"
   ]
  },
  {
   "cell_type": "code",
   "execution_count": 122,
   "metadata": {
    "collapsed": true
   },
   "outputs": [],
   "source": [
    "from sklearn.linear_model import Ridge"
   ]
  },
  {
   "cell_type": "code",
   "execution_count": 99,
   "metadata": {},
   "outputs": [
    {
     "name": "stdout",
     "output_type": "stream",
     "text": [
      "[0.98472914 0.98562069 0.98650374 0.98598169 0.98558993 0.98480296\n",
      " 0.98168425 0.98371927 0.98639106 0.98581688] 0.985083962437276\n",
      "[0.99074378 0.98775953 0.98442865 0.99211569 0.98704678 0.98335224\n",
      " 0.97720848 0.98032745 0.98054624 0.98509982] 0.9848628648050239\n",
      "[0.98994167 0.99040779 0.98843374 0.9901125  0.99329596 0.99098916\n",
      " 0.99116923 0.99404594 0.99215182 0.99072418] 0.9911271991238454\n",
      "[0.99236474 0.99477086 0.99541594 0.98515622 0.99722962 0.99424732\n",
      " 0.98207517 0.97125441 0.99600022 0.99539668] 0.9903911175832661\n",
      "[0.98520965 0.98264065 0.98615862 0.98419373 0.98673295 0.98316835\n",
      " 0.98073277 0.98369183 0.98875661 0.98399784] 0.9845283007320557\n",
      "[0.9758174  0.98416528 0.98560318 0.98232427 0.99108667 0.97647954\n",
      " 0.9618444  0.98038886 0.97933769 0.97923957] 0.9796286851281062\n"
     ]
    }
   ],
   "source": [
    "from sklearn.model_selection import cross_val_score\n",
    "for c in ['toxic', 'severe_toxic', 'obscene', 'threat', 'insult', 'identity_hate']:\n",
    "    y = train[c]\n",
    "    q = train.drop(orig_cols, axis=1)[['grucnn_fl4_toxic',\n",
    "       'grucnn_fl4_severe_toxic', 'grucnn_fl4_obscene', 'grucnn_fl4_threat',\n",
    "       'grucnn_fl4_insult', 'grucnn_fl4_identity_hate']]\n",
    "    c = cross_val_score(Ridge(), q, y, scoring='roc_auc', cv=10, n_jobs=4)\n",
    "    print(c,np.mean(c))"
   ]
  },
  {
   "cell_type": "code",
   "execution_count": 100,
   "metadata": {},
   "outputs": [
    {
     "name": "stdout",
     "output_type": "stream",
     "text": [
      "[0.9886     0.98895616 0.98862214 0.98938489 0.99027366 0.98863888\n",
      " 0.9868265  0.98795015 0.98823728 0.98988634] 0.9887375998314265\n",
      "[0.98566743 0.98167486 0.98539811 0.98703947 0.98757604 0.97436425\n",
      " 0.99038048 0.97521192 0.99317423 0.9844962 ] 0.9844982993019343\n",
      "[0.99415615 0.99573892 0.99462091 0.99579508 0.99327641 0.99249492\n",
      " 0.99347025 0.99249526 0.99475028 0.99323542] 0.9940033599040058\n",
      "[0.98782104 0.99594518 0.99738479 0.93685547 0.99828609 0.99450476\n",
      " 0.96383614 0.97058768 0.99669711 0.99632123] 0.9838239498308846\n",
      "[0.98378575 0.98822147 0.99060971 0.99061278 0.98980544 0.98494558\n",
      " 0.98599986 0.99041442 0.99162943 0.98881515] 0.9884839581916658\n",
      "[0.98032598 0.98504133 0.99433088 0.97300961 0.98119227 0.98668671\n",
      " 0.95962165 0.97685965 0.97713227 0.98471917] 0.9798919515308547\n"
     ]
    }
   ],
   "source": [
    "from sklearn.model_selection import cross_val_score\n",
    "for c in ['toxic', 'severe_toxic', 'obscene', 'threat', 'insult', 'identity_hate']:\n",
    "    y = train[c]\n",
    "    q = train.drop(orig_cols, axis=1)\n",
    "    c = cross_val_score(Ridge(alpha=0.01), q, y, scoring='roc_auc', cv=10, n_jobs=4)\n",
    "    print(c,np.mean(c))"
   ]
  },
  {
   "cell_type": "code",
   "execution_count": 123,
   "metadata": {},
   "outputs": [],
   "source": [
    "scores = {}\n",
    "for c in cols:\n",
    "    y = train[c]\n",
    "    q = train.drop(orig_cols, axis=1)\n",
    "    scores[c] = []\n",
    "    for n in onms:\n",
    "        w = roc_auc_score(y,train[n+'_'+c])\n",
    "        scores[c].append(w)\n",
    "        #print(n,w)"
   ]
  },
  {
   "cell_type": "code",
   "execution_count": 124,
   "metadata": {},
   "outputs": [
    {
     "data": {
      "text/plain": [
       "{'identity_hate': [0.986755867062143,\n",
       "  0.9853225493122388,\n",
       "  0.987369281780307,\n",
       "  0.9842576223916824,\n",
       "  0.986799649613589,\n",
       "  0.987598454491009,\n",
       "  0.9851903736616555,\n",
       "  0.9887543124991929,\n",
       "  0.9883244024488349,\n",
       "  0.9743026325375614,\n",
       "  0.9830583823302361,\n",
       "  0.9893201196832573,\n",
       "  0.988678816341568,\n",
       "  0.9877394388516448,\n",
       "  0.990484253153912,\n",
       "  0.988861659512374,\n",
       "  0.9881943935384252,\n",
       "  0.9893613642462132,\n",
       "  0.9888579065293939,\n",
       "  0.9895454854112237,\n",
       "  0.9886383165252346],\n",
       " 'insult': [0.9874042312040496,\n",
       "  0.986756542175179,\n",
       "  0.9863483058397539,\n",
       "  0.9846323715215898,\n",
       "  0.9871613275758357,\n",
       "  0.988039410332855,\n",
       "  0.9853919458227126,\n",
       "  0.9882840685105397,\n",
       "  0.9882289928971904,\n",
       "  0.9814768203661656,\n",
       "  0.984986247788525,\n",
       "  0.9897227191530162,\n",
       "  0.9895313774362904,\n",
       "  0.9888093089838679,\n",
       "  0.9896438924717081,\n",
       "  0.9891784719670589,\n",
       "  0.9890702723785026,\n",
       "  0.9893435448185054,\n",
       "  0.9890715323232812,\n",
       "  0.9897561543465176,\n",
       "  0.9894528281855326],\n",
       " 'obscene': [0.9927528671719308,\n",
       "  0.9925781845291518,\n",
       "  0.9903255099365329,\n",
       "  0.9883387094689141,\n",
       "  0.9919610870009018,\n",
       "  0.993146239889778,\n",
       "  0.9928410022561363,\n",
       "  0.9931960660303459,\n",
       "  0.9931384906187549,\n",
       "  0.9890213047647138,\n",
       "  0.9899320945348441,\n",
       "  0.994639463209637,\n",
       "  0.9942377788905233,\n",
       "  0.9936016435857278,\n",
       "  0.9948303379089896,\n",
       "  0.9942026763257397,\n",
       "  0.9940187477363173,\n",
       "  0.9942804854446307,\n",
       "  0.9938650584948999,\n",
       "  0.9944648436136332,\n",
       "  0.9941730576556149],\n",
       " 'severe_toxic': [0.9906008737805974,\n",
       "  0.989654658467228,\n",
       "  0.9907956337322299,\n",
       "  0.9895386434636395,\n",
       "  0.9901974793044237,\n",
       "  0.990640503227902,\n",
       "  0.9897476748581151,\n",
       "  0.9910781078924253,\n",
       "  0.9911638933131068,\n",
       "  0.982173318894676,\n",
       "  0.9887624432614898,\n",
       "  0.9917436131324578,\n",
       "  0.9916219328105551,\n",
       "  0.9914732732705083,\n",
       "  0.9916346128049609,\n",
       "  0.991357415030544,\n",
       "  0.9915143810583187,\n",
       "  0.9911695804592673,\n",
       "  0.9913089373680508,\n",
       "  0.9917501217993829,\n",
       "  0.9916603676793571],\n",
       " 'threat': [0.9910822206121537,\n",
       "  0.9884699226080942,\n",
       "  0.9892687698495448,\n",
       "  0.9860728417396031,\n",
       "  0.9897586480495199,\n",
       "  0.9927940427044764,\n",
       "  0.9912987067089283,\n",
       "  0.9923436863998945,\n",
       "  0.9935978803166812,\n",
       "  0.9857494144302902,\n",
       "  0.9849857562063316,\n",
       "  0.9939836445233856,\n",
       "  0.9941061683165398,\n",
       "  0.992428542427501,\n",
       "  0.9936444636853152,\n",
       "  0.9933125612931275,\n",
       "  0.9929671539977393,\n",
       "  0.994405689185718,\n",
       "  0.9932168303337326,\n",
       "  0.9942792401602315,\n",
       "  0.9937202989109788],\n",
       " 'toxic': [0.984024705514789,\n",
       "  0.9813821018097936,\n",
       "  0.9817798005143035,\n",
       "  0.9786454690140567,\n",
       "  0.9822943793608646,\n",
       "  0.9849912291889146,\n",
       "  0.9835943244479155,\n",
       "  0.9849548005185407,\n",
       "  0.9855006550208709,\n",
       "  0.9793505854531117,\n",
       "  0.9766416619221815,\n",
       "  0.9871158557904547,\n",
       "  0.9867021972654586,\n",
       "  0.9856658879829623,\n",
       "  0.9869107501287478,\n",
       "  0.9864627247283689,\n",
       "  0.9859643295789233,\n",
       "  0.9863196680153585,\n",
       "  0.9862093854360017,\n",
       "  0.9871999892169413,\n",
       "  0.9868258514883164]}"
      ]
     },
     "execution_count": 124,
     "metadata": {},
     "output_type": "execute_result"
    }
   ],
   "source": [
    "scores"
   ]
  },
  {
   "cell_type": "code",
   "execution_count": 125,
   "metadata": {},
   "outputs": [
    {
     "name": "stdout",
     "output_type": "stream",
     "text": [
      "toxic 0.9887227450268732\n",
      "severe_toxic 0.9923648495156521\n",
      "obscene 0.9952125067058077\n",
      "threat 0.9952909178381941\n",
      "insult 0.9902860642731115\n",
      "identity_hate 0.9909840568873022\n"
     ]
    },
    {
     "data": {
      "text/plain": [
       "0.9921435233744901"
      ]
     },
     "execution_count": 125,
     "metadata": {},
     "output_type": "execute_result"
    }
   ],
   "source": [
    "p = []\n",
    "for c in cols:\n",
    "    ws = scores[c]\n",
    "    y = train[c]\n",
    "    pred = 0\n",
    "    i = 0\n",
    "    for n in onms:\n",
    "        pred += ((ws[i]-np.min(ws))/(np.max(ws)-np.min(ws))+0.1)*train[n+'_'+c]\n",
    "    p.append(roc_auc_score(y,pred))\n",
    "    print(c,roc_auc_score(y,pred))\n",
    "np.mean(p)"
   ]
  },
  {
   "cell_type": "code",
   "execution_count": 126,
   "metadata": {
    "collapsed": true
   },
   "outputs": [],
   "source": [
    "preds = []\n",
    "\n",
    "train_files = [q for q in f if q.startswith('test')]\n",
    "for q in train_files:\n",
    "    nf = pd.read_csv('../blend/'+q)\n",
    "    for c in cols:\n",
    "        nf[c] = minmax_scale(nf[c])\n",
    "    preds.append(nf)\n",
    "    \n",
    "sk_train = [q for q in ff if q.endswith('test_X_pred.npy')]\n",
    "suf = 'sk'\n",
    "i = 0\n",
    "for q in sk_train:\n",
    "    nf = pd.DataFrame(np.mean(np.load(q),axis=0))\n",
    "    nf.columns = cols\n",
    "    for c in cols:\n",
    "        nf[c] = minmax_scale(nf[c])\n",
    "    preds.append(nf)\n",
    "    i = i + 1"
   ]
  },
  {
   "cell_type": "code",
   "execution_count": 127,
   "metadata": {},
   "outputs": [
    {
     "data": {
      "text/plain": [
       "21"
      ]
     },
     "execution_count": 127,
     "metadata": {},
     "output_type": "execute_result"
    }
   ],
   "source": [
    "len(preds)"
   ]
  },
  {
   "cell_type": "code",
   "execution_count": 128,
   "metadata": {},
   "outputs": [
    {
     "data": {
      "text/plain": [
       "21"
      ]
     },
     "execution_count": 128,
     "metadata": {},
     "output_type": "execute_result"
    }
   ],
   "source": [
    "len(ws)"
   ]
  },
  {
   "cell_type": "code",
   "execution_count": 129,
   "metadata": {},
   "outputs": [
    {
     "data": {
      "text/html": [
       "<div>\n",
       "<style>\n",
       "    .dataframe thead tr:only-child th {\n",
       "        text-align: right;\n",
       "    }\n",
       "\n",
       "    .dataframe thead th {\n",
       "        text-align: left;\n",
       "    }\n",
       "\n",
       "    .dataframe tbody tr th {\n",
       "        vertical-align: top;\n",
       "    }\n",
       "</style>\n",
       "<table border=\"1\" class=\"dataframe\">\n",
       "  <thead>\n",
       "    <tr style=\"text-align: right;\">\n",
       "      <th></th>\n",
       "      <th>id</th>\n",
       "      <th>toxic</th>\n",
       "      <th>severe_toxic</th>\n",
       "      <th>obscene</th>\n",
       "      <th>threat</th>\n",
       "      <th>insult</th>\n",
       "      <th>identity_hate</th>\n",
       "    </tr>\n",
       "  </thead>\n",
       "  <tbody>\n",
       "    <tr>\n",
       "      <th>0</th>\n",
       "      <td>00001cee341fdb12</td>\n",
       "      <td>0.987099</td>\n",
       "      <td>0.433757</td>\n",
       "      <td>0.966528</td>\n",
       "      <td>0.143219</td>\n",
       "      <td>0.936795</td>\n",
       "      <td>0.545967</td>\n",
       "    </tr>\n",
       "    <tr>\n",
       "      <th>1</th>\n",
       "      <td>0000247867823ef7</td>\n",
       "      <td>0.004816</td>\n",
       "      <td>0.000764</td>\n",
       "      <td>0.002298</td>\n",
       "      <td>0.000717</td>\n",
       "      <td>0.001950</td>\n",
       "      <td>0.001048</td>\n",
       "    </tr>\n",
       "    <tr>\n",
       "      <th>2</th>\n",
       "      <td>00013b17ad220c46</td>\n",
       "      <td>0.005392</td>\n",
       "      <td>0.001375</td>\n",
       "      <td>0.003499</td>\n",
       "      <td>0.001403</td>\n",
       "      <td>0.002486</td>\n",
       "      <td>0.001882</td>\n",
       "    </tr>\n",
       "  </tbody>\n",
       "</table>\n",
       "</div>"
      ],
      "text/plain": [
       "                 id     toxic  severe_toxic   obscene    threat    insult  \\\n",
       "0  00001cee341fdb12  0.987099      0.433757  0.966528  0.143219  0.936795   \n",
       "1  0000247867823ef7  0.004816      0.000764  0.002298  0.000717  0.001950   \n",
       "2  00013b17ad220c46  0.005392      0.001375  0.003499  0.001403  0.002486   \n",
       "\n",
       "   identity_hate  \n",
       "0       0.545967  \n",
       "1       0.001048  \n",
       "2       0.001882  "
      ]
     },
     "execution_count": 129,
     "metadata": {},
     "output_type": "execute_result"
    }
   ],
   "source": [
    "sub = pd.read_csv('../input/sample_submission.csv')\n",
    "for c in cols:\n",
    "    sub[c] = 0\n",
    "    ws = scores[c]\n",
    "    for j in range(len(ws)):\n",
    "        sub[c] += ((ws[j]-np.min(ws))/(np.max(ws)-np.min(ws))+0.1) * preds[j][c]\n",
    "    sub[c] = minmax_scale(sub[c])\n",
    "sub.head(n=3)"
   ]
  },
  {
   "cell_type": "code",
   "execution_count": 130,
   "metadata": {
    "collapsed": true
   },
   "outputs": [],
   "source": [
    "sub.to_csv('weighted_blend_21models.csv', index=False)"
   ]
  },
  {
   "cell_type": "code",
   "execution_count": null,
   "metadata": {
    "collapsed": true
   },
   "outputs": [],
   "source": []
  }
 ],
 "metadata": {
  "kernelspec": {
   "display_name": "Python 3",
   "language": "python",
   "name": "python3"
  },
  "language_info": {
   "codemirror_mode": {
    "name": "ipython",
    "version": 3
   },
   "file_extension": ".py",
   "mimetype": "text/x-python",
   "name": "python",
   "nbconvert_exporter": "python",
   "pygments_lexer": "ipython3",
   "version": "3.6.1"
  }
 },
 "nbformat": 4,
 "nbformat_minor": 2
}
