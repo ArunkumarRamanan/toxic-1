{
 "cells": [
  {
   "cell_type": "code",
   "execution_count": 39,
   "metadata": {
    "collapsed": true
   },
   "outputs": [],
   "source": [
    "from os import walk\n",
    "import pandas as pd\n",
    "import numpy as np\n",
    "\n",
    "cols = ['toxic', 'severe_toxic', 'obscene', 'threat', 'insult', 'identity_hate']\n",
    "\n",
    "f = []\n",
    "for (dirpath, dirnames, filenames) in walk('../blend/'):\n",
    "    f.extend(filenames)\n",
    "    break\n",
    "\n",
    "ff = []\n",
    "for (dirpath, dirnames, filenames) in walk('../skolbachev/'):\n",
    "    for d in dirnames:\n",
    "        for (dirpath, dirnames2, filenames) in walk('../skolbachev/'+d):\n",
    "            for qf in filenames:\n",
    "                ff.append('../skolbachev/'+d+'/'+qf)\n",
    "\n",
    "train_idx = pd.read_csv('../input/train.csv')['id'].values\n",
    "train = pd.read_csv('../input/train.csv').sort_values('id').reset_index(drop=True)"
   ]
  },
  {
   "cell_type": "code",
   "execution_count": 40,
   "metadata": {},
   "outputs": [
    {
     "name": "stdout",
     "output_type": "stream",
     "text": [
      "_att 0.9887701275576107\n",
      "2ycnn 0.9873606598169475\n",
      "4gru 0.9876478836087786\n",
      "5cnn 0.9852476095999143\n",
      "att 0.9880287618175224\n",
      "cnnb 0.9852844588080257\n",
      "grucnn 0.9895349799724892\n",
      "grucnn_fl 0.9880106712925772\n",
      "grucnn_fl3 0.9897685069751564\n",
      "grucnn_fl4 0.9899923857692398\n",
      "lr 0.9858536442716596\n",
      "nbsvm 0.9820123460744199\n",
      "wordbatch2 0.9865481886607744\n",
      "ycnn 0.9847277643406013\n",
      "sk0 0.9910875692487013\n",
      "sk1 0.9911913850256058\n",
      "sk2 0.9908130451768224\n",
      "sk3 0.9899530158503688\n",
      "sk4 0.9905625848095353\n",
      "sk5 0.9902882130480376\n",
      "sk6 0.990813388694949\n",
      "sk7 0.9904216084142267\n",
      "sk8 0.9911659724246551\n",
      "sk9 0.9905731062720363\n",
      "sk10 0.9907451200741724\n"
     ]
    }
   ],
   "source": [
    "from sklearn.metrics import roc_auc_score\n",
    "from sklearn.preprocessing import minmax_scale\n",
    "oofs = []\n",
    "onms = []\n",
    "\n",
    "train_files = [q for q in f if q.startswith('train')]\n",
    "for q in train_files:\n",
    "    nm = q[6:-4]\n",
    "    nf = pd.read_csv('../blend/'+q).sort_values('id').reset_index(drop=True)\n",
    "    for c in cols:\n",
    "        nf[c] = minmax_scale(nf[c])\n",
    "        #print(nm,c,roc_auc_score(train[c],nf[c]))\n",
    "    nf.columns = ['id'] + [nm+'_' + q for q in cols]\n",
    "    print(nm, roc_auc_score(train[['toxic', 'severe_toxic', 'obscene', 'threat', 'insult','identity_hate']],nf[[nm+'_toxic',nm+'_severe_toxic',nm+'_obscene',nm+'_threat',nm+'_insult',nm+'_identity_hate']]))\n",
    "    onms.append(nm)\n",
    "    oofs.append(nf)\n",
    "    \n",
    "sk_train = [q for q in ff if not q.endswith('test_X_pred.npy')]\n",
    "suf = 'sk'\n",
    "i = 0\n",
    "for q in sk_train:\n",
    "    nf = pd.DataFrame(np.load(q))\n",
    "    nm = suf+str(i)\n",
    "    nf.columns = [nm+'_'+q for q in cols]\n",
    "    nf['id'] = train_idx\n",
    "    nf = nf.sort_values('id').reset_index(drop=True)\n",
    "    for c in cols:\n",
    "        nf[nm+'_'+c] = minmax_scale(nf[nm+'_'+c])\n",
    "    print(nm, roc_auc_score(train[['toxic', 'severe_toxic', 'obscene', 'threat', 'insult','identity_hate']],nf[[nm+'_toxic',nm+'_severe_toxic',nm+'_obscene',nm+'_threat',nm+'_insult',nm+'_identity_hate']]))\n",
    "    onms.append(nm)\n",
    "    oofs.append(nf)\n",
    "    i = i + 1"
   ]
  },
  {
   "cell_type": "code",
   "execution_count": 41,
   "metadata": {
    "collapsed": true
   },
   "outputs": [],
   "source": [
    "train = pd.read_csv('../input/train.csv').sort_values('id').reset_index(drop=True)\n",
    "for o in oofs:\n",
    "    train = train.merge(o, on='id', how='left')"
   ]
  },
  {
   "cell_type": "code",
   "execution_count": 42,
   "metadata": {},
   "outputs": [
    {
     "data": {
      "text/plain": [
       "['_att',\n",
       " '2ycnn',\n",
       " '4gru',\n",
       " '5cnn',\n",
       " 'att',\n",
       " 'cnnb',\n",
       " 'grucnn',\n",
       " 'grucnn_fl',\n",
       " 'grucnn_fl3',\n",
       " 'grucnn_fl4',\n",
       " 'lr',\n",
       " 'nbsvm',\n",
       " 'wordbatch2',\n",
       " 'ycnn',\n",
       " 'sk0',\n",
       " 'sk1',\n",
       " 'sk2',\n",
       " 'sk3',\n",
       " 'sk4',\n",
       " 'sk5',\n",
       " 'sk6',\n",
       " 'sk7',\n",
       " 'sk8',\n",
       " 'sk9',\n",
       " 'sk10']"
      ]
     },
     "execution_count": 42,
     "metadata": {},
     "output_type": "execute_result"
    }
   ],
   "source": [
    "onms"
   ]
  },
  {
   "cell_type": "code",
   "execution_count": 43,
   "metadata": {},
   "outputs": [
    {
     "data": {
      "text/plain": [
       "Index(['id', 'comment_text', 'toxic', 'severe_toxic', 'obscene', 'threat',\n",
       "       'insult', 'identity_hate', '_att_toxic', '_att_severe_toxic',\n",
       "       ...\n",
       "       'sk9_obscene', 'sk9_threat', 'sk9_insult', 'sk9_identity_hate',\n",
       "       'sk10_toxic', 'sk10_severe_toxic', 'sk10_obscene', 'sk10_threat',\n",
       "       'sk10_insult', 'sk10_identity_hate'],\n",
       "      dtype='object', length=158)"
      ]
     },
     "execution_count": 43,
     "metadata": {},
     "output_type": "execute_result"
    }
   ],
   "source": [
    "train.columns"
   ]
  },
  {
   "cell_type": "code",
   "execution_count": 44,
   "metadata": {
    "collapsed": true
   },
   "outputs": [],
   "source": [
    "orig_cols = ['id', 'comment_text', 'toxic', 'severe_toxic', 'obscene', 'threat', 'insult', 'identity_hate']"
   ]
  },
  {
   "cell_type": "code",
   "execution_count": 45,
   "metadata": {
    "collapsed": true
   },
   "outputs": [],
   "source": [
    "scores = {}\n",
    "for c in cols:\n",
    "    y = train[c]\n",
    "    q = train.drop(orig_cols, axis=1)\n",
    "    scores[c] = []\n",
    "    for n in onms:\n",
    "        w = roc_auc_score(y,train[n+'_'+c])\n",
    "        scores[c].append(w)\n",
    "        #print(n,w)"
   ]
  },
  {
   "cell_type": "code",
   "execution_count": 46,
   "metadata": {},
   "outputs": [
    {
     "name": "stdout",
     "output_type": "stream",
     "text": [
      "toxic 0.9888762745435871\n",
      "severe_toxic 0.992433472296018\n",
      "obscene 0.9954761589214753\n",
      "threat 0.9954818406128444\n",
      "insult 0.9903930486907487\n",
      "identity_hate 0.9918056541613584\n"
     ]
    },
    {
     "data": {
      "text/plain": [
       "0.9924110748710052"
      ]
     },
     "execution_count": 46,
     "metadata": {},
     "output_type": "execute_result"
    }
   ],
   "source": [
    "from sklearn.metrics import log_loss\n",
    "p = []\n",
    "for c in cols:\n",
    "    ws = scores[c]\n",
    "    y = train[c]\n",
    "    pred = 0\n",
    "    i = 0\n",
    "    for n in onms:\n",
    "        pred += train[n+'_'+c]\n",
    "    p.append(roc_auc_score(y,minmax_scale(pred)))\n",
    "    print(c,roc_auc_score(y,minmax_scale(pred)))\n",
    "np.mean(p)"
   ]
  },
  {
   "cell_type": "code",
   "execution_count": 11,
   "metadata": {},
   "outputs": [
    {
     "name": "stdout",
     "output_type": "stream",
     "text": [
      "toxic 0.9887502736948446\n",
      "severe_toxic 0.9923729893180075\n",
      "obscene 0.9952371552537522\n",
      "threat 0.9952858814429402\n",
      "insult 0.9903213795502691\n",
      "identity_hate 0.9910213977179613\n"
     ]
    },
    {
     "data": {
      "text/plain": [
       "0.9921648461629625"
      ]
     },
     "execution_count": 11,
     "metadata": {},
     "output_type": "execute_result"
    }
   ],
   "source": [
    "from sklearn.metrics import log_loss\n",
    "p = []\n",
    "for c in cols:\n",
    "    ws = scores[c]\n",
    "    y = train[c]\n",
    "    pred = 0\n",
    "    i = 0\n",
    "    for n in onms:\n",
    "        pred += ((ws[i]-np.min(ws))/(np.max(ws)-np.min(ws))+0.1)*train[n+'_'+c]\n",
    "    p.append(roc_auc_score(y,minmax_scale(pred)))\n",
    "    print(c,roc_auc_score(y,minmax_scale(pred)))\n",
    "np.mean(p)"
   ]
  },
  {
   "cell_type": "code",
   "execution_count": 50,
   "metadata": {
    "collapsed": true
   },
   "outputs": [],
   "source": [
    "preds = []\n",
    "\n",
    "train_files = [q for q in f if q.startswith('test')]\n",
    "for q in train_files:\n",
    "    nf = pd.read_csv('../blend/'+q)\n",
    "    for c in cols:\n",
    "        nf[c] = minmax_scale(nf[c])\n",
    "    preds.append(nf)\n",
    "    \n",
    "sk_train = [q for q in ff if q.endswith('test_X_pred.npy')]\n",
    "suf = 'sk'\n",
    "i = 0\n",
    "for q in sk_train:\n",
    "    nf = pd.DataFrame(np.mean(np.load(q),axis=0))\n",
    "    nf.columns = cols\n",
    "    for c in cols:\n",
    "        nf[c] = minmax_scale(nf[c])\n",
    "    preds.append(nf)\n",
    "    i = i + 1"
   ]
  },
  {
   "cell_type": "code",
   "execution_count": 51,
   "metadata": {},
   "outputs": [
    {
     "data": {
      "text/plain": [
       "['_att',\n",
       " '2ycnn',\n",
       " '4gru',\n",
       " '5cnn',\n",
       " 'att',\n",
       " 'cnnb',\n",
       " 'grucnn',\n",
       " 'grucnn_fl',\n",
       " 'grucnn_fl3',\n",
       " 'grucnn_fl4',\n",
       " 'lr',\n",
       " 'nbsvm',\n",
       " 'wordbatch2',\n",
       " 'ycnn',\n",
       " 'sk0',\n",
       " 'sk1',\n",
       " 'sk2',\n",
       " 'sk3',\n",
       " 'sk4',\n",
       " 'sk5',\n",
       " 'sk6',\n",
       " 'sk7',\n",
       " 'sk8',\n",
       " 'sk9',\n",
       " 'sk10']"
      ]
     },
     "execution_count": 51,
     "metadata": {},
     "output_type": "execute_result"
    }
   ],
   "source": [
    "onms"
   ]
  },
  {
   "cell_type": "code",
   "execution_count": 76,
   "metadata": {},
   "outputs": [
    {
     "name": "stdout",
     "output_type": "stream",
     "text": [
      "toxic 0.9889388979125824\n",
      "severe_toxic 0.9924436758220326\n",
      "obscene 0.9955034460357016\n",
      "threat 0.9955527709418247\n",
      "insult 0.9904630565955026\n",
      "identity_hate 0.9919069352020486\n"
     ]
    },
    {
     "data": {
      "text/plain": [
       "0.992468130418282"
      ]
     },
     "execution_count": 76,
     "metadata": {},
     "output_type": "execute_result"
    }
   ],
   "source": [
    "p = []\n",
    "for c in cols:\n",
    "    ws = scores[c]\n",
    "    y = train[c]\n",
    "    pred = 0\n",
    "    i = 0\n",
    "    for n in onms:\n",
    "        pred += ((ws[i]-np.min(ws))/(np.max(ws)-np.min(ws))+0.1)*train[n+'_'+c]\n",
    "        i = i + 1\n",
    "    p.append(roc_auc_score(y,pred))\n",
    "    print(c,roc_auc_score(y,pred))\n",
    "np.mean(p)"
   ]
  },
  {
   "cell_type": "code",
   "execution_count": 56,
   "metadata": {},
   "outputs": [
    {
     "data": {
      "text/plain": [
       "25"
      ]
     },
     "execution_count": 56,
     "metadata": {},
     "output_type": "execute_result"
    }
   ],
   "source": [
    "len(preds)"
   ]
  },
  {
   "cell_type": "code",
   "execution_count": 57,
   "metadata": {},
   "outputs": [
    {
     "data": {
      "text/plain": [
       "25"
      ]
     },
     "execution_count": 57,
     "metadata": {},
     "output_type": "execute_result"
    }
   ],
   "source": [
    "len(ws)"
   ]
  },
  {
   "cell_type": "code",
   "execution_count": 58,
   "metadata": {},
   "outputs": [
    {
     "data": {
      "text/html": [
       "<div>\n",
       "<style>\n",
       "    .dataframe thead tr:only-child th {\n",
       "        text-align: right;\n",
       "    }\n",
       "\n",
       "    .dataframe thead th {\n",
       "        text-align: left;\n",
       "    }\n",
       "\n",
       "    .dataframe tbody tr th {\n",
       "        vertical-align: top;\n",
       "    }\n",
       "</style>\n",
       "<table border=\"1\" class=\"dataframe\">\n",
       "  <thead>\n",
       "    <tr style=\"text-align: right;\">\n",
       "      <th></th>\n",
       "      <th>id</th>\n",
       "      <th>toxic</th>\n",
       "      <th>severe_toxic</th>\n",
       "      <th>obscene</th>\n",
       "      <th>threat</th>\n",
       "      <th>insult</th>\n",
       "      <th>identity_hate</th>\n",
       "    </tr>\n",
       "  </thead>\n",
       "  <tbody>\n",
       "    <tr>\n",
       "      <th>0</th>\n",
       "      <td>00001cee341fdb12</td>\n",
       "      <td>0.981775</td>\n",
       "      <td>0.442928</td>\n",
       "      <td>0.954507</td>\n",
       "      <td>0.162944</td>\n",
       "      <td>0.932912</td>\n",
       "      <td>0.553202</td>\n",
       "    </tr>\n",
       "    <tr>\n",
       "      <th>1</th>\n",
       "      <td>0000247867823ef7</td>\n",
       "      <td>0.005639</td>\n",
       "      <td>0.004155</td>\n",
       "      <td>0.003097</td>\n",
       "      <td>0.002642</td>\n",
       "      <td>0.003744</td>\n",
       "      <td>0.004337</td>\n",
       "    </tr>\n",
       "    <tr>\n",
       "      <th>2</th>\n",
       "      <td>00013b17ad220c46</td>\n",
       "      <td>0.006603</td>\n",
       "      <td>0.003422</td>\n",
       "      <td>0.004544</td>\n",
       "      <td>0.003536</td>\n",
       "      <td>0.003556</td>\n",
       "      <td>0.004095</td>\n",
       "    </tr>\n",
       "  </tbody>\n",
       "</table>\n",
       "</div>"
      ],
      "text/plain": [
       "                 id     toxic  severe_toxic   obscene    threat    insult  \\\n",
       "0  00001cee341fdb12  0.981775      0.442928  0.954507  0.162944  0.932912   \n",
       "1  0000247867823ef7  0.005639      0.004155  0.003097  0.002642  0.003744   \n",
       "2  00013b17ad220c46  0.006603      0.003422  0.004544  0.003536  0.003556   \n",
       "\n",
       "   identity_hate  \n",
       "0       0.553202  \n",
       "1       0.004337  \n",
       "2       0.004095  "
      ]
     },
     "execution_count": 58,
     "metadata": {},
     "output_type": "execute_result"
    }
   ],
   "source": [
    "sub = pd.read_csv('../input/sample_submission.csv')\n",
    "for c in cols:\n",
    "    sub[c] = 0\n",
    "    ws = scores[c]\n",
    "    for j in range(len(ws)):\n",
    "        sub[c] += ((ws[j]-np.min(ws))/(np.max(ws)-np.min(ws))+0.1) * preds[j][c]\n",
    "    sub[c] = minmax_scale(sub[c])\n",
    "sub.head(n=3)"
   ]
  },
  {
   "cell_type": "code",
   "execution_count": 59,
   "metadata": {
    "collapsed": true
   },
   "outputs": [],
   "source": [
    "sub.to_csv('weighted_blend_25models.csv', index=False)"
   ]
  },
  {
   "cell_type": "code",
   "execution_count": 62,
   "metadata": {},
   "outputs": [
    {
     "data": {
      "text/plain": [
       "17"
      ]
     },
     "execution_count": 62,
     "metadata": {},
     "output_type": "execute_result"
    }
   ],
   "source": [
    "fof = []\n",
    "for (dirpath, dirnames, filenames) in walk('../nooof/'):\n",
    "    fof.extend(filenames)\n",
    "    break\n",
    "len(fof)    "
   ]
  },
  {
   "cell_type": "code",
   "execution_count": 63,
   "metadata": {},
   "outputs": [
    {
     "data": {
      "text/html": [
       "<div>\n",
       "<style>\n",
       "    .dataframe thead tr:only-child th {\n",
       "        text-align: right;\n",
       "    }\n",
       "\n",
       "    .dataframe thead th {\n",
       "        text-align: left;\n",
       "    }\n",
       "\n",
       "    .dataframe tbody tr th {\n",
       "        vertical-align: top;\n",
       "    }\n",
       "</style>\n",
       "<table border=\"1\" class=\"dataframe\">\n",
       "  <thead>\n",
       "    <tr style=\"text-align: right;\">\n",
       "      <th></th>\n",
       "      <th>id</th>\n",
       "      <th>toxic</th>\n",
       "      <th>severe_toxic</th>\n",
       "      <th>obscene</th>\n",
       "      <th>threat</th>\n",
       "      <th>insult</th>\n",
       "      <th>identity_hate</th>\n",
       "    </tr>\n",
       "  </thead>\n",
       "  <tbody>\n",
       "    <tr>\n",
       "      <th>0</th>\n",
       "      <td>00001cee341fdb12</td>\n",
       "      <td>0.956421</td>\n",
       "      <td>0.383945</td>\n",
       "      <td>0.936247</td>\n",
       "      <td>0.152043</td>\n",
       "      <td>0.908394</td>\n",
       "      <td>0.448139</td>\n",
       "    </tr>\n",
       "    <tr>\n",
       "      <th>1</th>\n",
       "      <td>0000247867823ef7</td>\n",
       "      <td>0.037360</td>\n",
       "      <td>0.035600</td>\n",
       "      <td>0.034143</td>\n",
       "      <td>0.031197</td>\n",
       "      <td>0.035935</td>\n",
       "      <td>0.031023</td>\n",
       "    </tr>\n",
       "    <tr>\n",
       "      <th>2</th>\n",
       "      <td>00013b17ad220c46</td>\n",
       "      <td>0.039175</td>\n",
       "      <td>0.039903</td>\n",
       "      <td>0.037541</td>\n",
       "      <td>0.031671</td>\n",
       "      <td>0.031913</td>\n",
       "      <td>0.033962</td>\n",
       "    </tr>\n",
       "  </tbody>\n",
       "</table>\n",
       "</div>"
      ],
      "text/plain": [
       "                 id     toxic  severe_toxic   obscene    threat    insult  \\\n",
       "0  00001cee341fdb12  0.956421      0.383945  0.936247  0.152043  0.908394   \n",
       "1  0000247867823ef7  0.037360      0.035600  0.034143  0.031197  0.035935   \n",
       "2  00013b17ad220c46  0.039175      0.039903  0.037541  0.031671  0.031913   \n",
       "\n",
       "   identity_hate  \n",
       "0       0.448139  \n",
       "1       0.031023  \n",
       "2       0.033962  "
      ]
     },
     "execution_count": 63,
     "metadata": {},
     "output_type": "execute_result"
    }
   ],
   "source": [
    "sub = pd.read_csv('../input/sample_submission.csv')\n",
    "for c in cols:\n",
    "    sub[c] = 0\n",
    "    for j in range(len(fof)):\n",
    "        tm = pd.read_csv('../nooof/'+fof[j])\n",
    "        sub[c] += minmax_scale(tm[c])\n",
    "    sub[c] = minmax_scale(sub[c])\n",
    "sub.head(n=3)"
   ]
  },
  {
   "cell_type": "code",
   "execution_count": 64,
   "metadata": {
    "collapsed": true
   },
   "outputs": [],
   "source": [
    "sub.to_csv('all_no_oof_models_blend.csv', index=False)"
   ]
  },
  {
   "cell_type": "code",
   "execution_count": 135,
   "metadata": {
    "collapsed": true
   },
   "outputs": [],
   "source": [
    "sub1 = pd.read_csv('all_no_oof_models_blend.csv')\n",
    "sub2 = pd.read_csv('weighted_blend_21models.csv')"
   ]
  },
  {
   "cell_type": "code",
   "execution_count": 136,
   "metadata": {},
   "outputs": [
    {
     "data": {
      "text/html": [
       "<div>\n",
       "<style>\n",
       "    .dataframe thead tr:only-child th {\n",
       "        text-align: right;\n",
       "    }\n",
       "\n",
       "    .dataframe thead th {\n",
       "        text-align: left;\n",
       "    }\n",
       "\n",
       "    .dataframe tbody tr th {\n",
       "        vertical-align: top;\n",
       "    }\n",
       "</style>\n",
       "<table border=\"1\" class=\"dataframe\">\n",
       "  <thead>\n",
       "    <tr style=\"text-align: right;\">\n",
       "      <th></th>\n",
       "      <th>toxic_oof</th>\n",
       "      <th>toxic_nooof</th>\n",
       "    </tr>\n",
       "  </thead>\n",
       "  <tbody>\n",
       "    <tr>\n",
       "      <th>toxic_oof</th>\n",
       "      <td>1.000000</td>\n",
       "      <td>0.990209</td>\n",
       "    </tr>\n",
       "    <tr>\n",
       "      <th>toxic_nooof</th>\n",
       "      <td>0.990209</td>\n",
       "      <td>1.000000</td>\n",
       "    </tr>\n",
       "  </tbody>\n",
       "</table>\n",
       "</div>"
      ],
      "text/plain": [
       "             toxic_oof  toxic_nooof\n",
       "toxic_oof     1.000000     0.990209\n",
       "toxic_nooof   0.990209     1.000000"
      ]
     },
     "execution_count": 136,
     "metadata": {},
     "output_type": "execute_result"
    }
   ],
   "source": [
    "q = pd.DataFrame()\n",
    "q['toxic_oof'] = sub2.toxic\n",
    "q['toxic_nooof'] = sub1.toxic\n",
    "q.corr()"
   ]
  },
  {
   "cell_type": "code",
   "execution_count": 137,
   "metadata": {},
   "outputs": [
    {
     "data": {
      "text/html": [
       "<div>\n",
       "<style>\n",
       "    .dataframe thead tr:only-child th {\n",
       "        text-align: right;\n",
       "    }\n",
       "\n",
       "    .dataframe thead th {\n",
       "        text-align: left;\n",
       "    }\n",
       "\n",
       "    .dataframe tbody tr th {\n",
       "        vertical-align: top;\n",
       "    }\n",
       "</style>\n",
       "<table border=\"1\" class=\"dataframe\">\n",
       "  <thead>\n",
       "    <tr style=\"text-align: right;\">\n",
       "      <th></th>\n",
       "      <th>toxic_oof</th>\n",
       "      <th>toxic_nooof</th>\n",
       "    </tr>\n",
       "  </thead>\n",
       "  <tbody>\n",
       "    <tr>\n",
       "      <th>toxic_oof</th>\n",
       "      <td>1.000000</td>\n",
       "      <td>0.968748</td>\n",
       "    </tr>\n",
       "    <tr>\n",
       "      <th>toxic_nooof</th>\n",
       "      <td>0.968748</td>\n",
       "      <td>1.000000</td>\n",
       "    </tr>\n",
       "  </tbody>\n",
       "</table>\n",
       "</div>"
      ],
      "text/plain": [
       "             toxic_oof  toxic_nooof\n",
       "toxic_oof     1.000000     0.968748\n",
       "toxic_nooof   0.968748     1.000000"
      ]
     },
     "execution_count": 137,
     "metadata": {},
     "output_type": "execute_result"
    }
   ],
   "source": [
    "q = pd.DataFrame()\n",
    "q['toxic_oof'] = sub2.severe_toxic\n",
    "q['toxic_nooof'] = sub1.severe_toxic\n",
    "q.corr()"
   ]
  },
  {
   "cell_type": "code",
   "execution_count": 142,
   "metadata": {},
   "outputs": [
    {
     "data": {
      "text/plain": [
       "0.9687477351009827"
      ]
     },
     "execution_count": 142,
     "metadata": {},
     "output_type": "execute_result"
    }
   ],
   "source": [
    "q.corr()['toxic_oof'][1]"
   ]
  },
  {
   "cell_type": "code",
   "execution_count": 145,
   "metadata": {},
   "outputs": [
    {
     "name": "stdout",
     "output_type": "stream",
     "text": [
      "toxic 0.9912796513988811\n",
      "severe_toxic 0.9799256447811807\n",
      "obscene 0.9912714161127426\n",
      "threat 0.9735262656618802\n",
      "insult 0.9861293153974795\n",
      "identity_hate 0.9709932081423762\n"
     ]
    }
   ],
   "source": [
    "for c in cols:\n",
    "    q = pd.DataFrame()\n",
    "    q['toxic_oof'] = preds[17][c]\n",
    "    q['toxic_nooof'] = preds[18][c]\n",
    "    print(c, q.corr()['toxic_oof'][1])"
   ]
  },
  {
   "cell_type": "code",
   "execution_count": 65,
   "metadata": {
    "collapsed": true
   },
   "outputs": [],
   "source": [
    "sub1 = pd.read_csv(\"weighted_blend_25models.csv\")\n",
    "sub2 = pd.read_csv(\"all_no_oof_models_blend.csv\")\n",
    "sub3 = pd.read_csv(\"blend_32_sol.csv\")\n",
    "\n",
    "b1 = sub1.copy()\n",
    "col = sub1.columns\n",
    "\n",
    "col = col.tolist()\n",
    "col.remove('id')\n",
    "\n",
    "for i in col:\n",
    "    b1[i] = minmax_scale(minmax_scale(sub1[i]) + minmax_scale(sub2[i]) + minmax_scale(sub3[i]))\n",
    "    \n",
    "b1.to_csv('blend_oof2_nooof_all.csv', index = False)"
   ]
  },
  {
   "cell_type": "code",
   "execution_count": 23,
   "metadata": {
    "collapsed": true
   },
   "outputs": [],
   "source": [
    "sub1 = pd.read_csv('mean__crawl_300d_0123__cleaned_lstm_03__glove_300d_0123__glove_twitter_200d_0__emb_drop05__bs256__10f__0.03518_0.99215.csv')\n",
    "sub2 = pd.read_csv('weighted_blend_22models.csv')\n",
    "sub1['toxic'] = sub2['toxic']\n",
    "sub1.to_csv('toxic_fixed_in_69model.csv',index=False)"
   ]
  },
  {
   "cell_type": "code",
   "execution_count": 31,
   "metadata": {},
   "outputs": [
    {
     "data": {
      "text/html": [
       "<div>\n",
       "<style>\n",
       "    .dataframe thead tr:only-child th {\n",
       "        text-align: right;\n",
       "    }\n",
       "\n",
       "    .dataframe thead th {\n",
       "        text-align: left;\n",
       "    }\n",
       "\n",
       "    .dataframe tbody tr th {\n",
       "        vertical-align: top;\n",
       "    }\n",
       "</style>\n",
       "<table border=\"1\" class=\"dataframe\">\n",
       "  <thead>\n",
       "    <tr style=\"text-align: right;\">\n",
       "      <th></th>\n",
       "      <th>id</th>\n",
       "      <th>toxic</th>\n",
       "      <th>severe_toxic</th>\n",
       "      <th>obscene</th>\n",
       "      <th>threat</th>\n",
       "      <th>insult</th>\n",
       "      <th>identity_hate</th>\n",
       "      <th>prediction_toxic</th>\n",
       "      <th>prediction_severe_toxic</th>\n",
       "      <th>prediction_obscene</th>\n",
       "      <th>prediction_threat</th>\n",
       "      <th>prediction_insult</th>\n",
       "      <th>prediction_identity_hate</th>\n",
       "    </tr>\n",
       "  </thead>\n",
       "  <tbody>\n",
       "    <tr>\n",
       "      <th>0</th>\n",
       "      <td>0000997932d777bf</td>\n",
       "      <td>0</td>\n",
       "      <td>0</td>\n",
       "      <td>0</td>\n",
       "      <td>0</td>\n",
       "      <td>0</td>\n",
       "      <td>0</td>\n",
       "      <td>0.004372</td>\n",
       "      <td>0.007445</td>\n",
       "      <td>0.013798</td>\n",
       "      <td>0.002682</td>\n",
       "      <td>0.011628</td>\n",
       "      <td>0.006198</td>\n",
       "    </tr>\n",
       "    <tr>\n",
       "      <th>1</th>\n",
       "      <td>000103f0d9cfb60f</td>\n",
       "      <td>0</td>\n",
       "      <td>0</td>\n",
       "      <td>0</td>\n",
       "      <td>0</td>\n",
       "      <td>0</td>\n",
       "      <td>0</td>\n",
       "      <td>0.011266</td>\n",
       "      <td>0.024178</td>\n",
       "      <td>0.027765</td>\n",
       "      <td>0.005054</td>\n",
       "      <td>0.035209</td>\n",
       "      <td>0.008024</td>\n",
       "    </tr>\n",
       "    <tr>\n",
       "      <th>2</th>\n",
       "      <td>000113f07ec002fd</td>\n",
       "      <td>0</td>\n",
       "      <td>0</td>\n",
       "      <td>0</td>\n",
       "      <td>0</td>\n",
       "      <td>0</td>\n",
       "      <td>0</td>\n",
       "      <td>0.016494</td>\n",
       "      <td>0.007536</td>\n",
       "      <td>0.042107</td>\n",
       "      <td>0.002213</td>\n",
       "      <td>0.022258</td>\n",
       "      <td>0.002235</td>\n",
       "    </tr>\n",
       "    <tr>\n",
       "      <th>3</th>\n",
       "      <td>0001b41b1c6bb37e</td>\n",
       "      <td>0</td>\n",
       "      <td>0</td>\n",
       "      <td>0</td>\n",
       "      <td>0</td>\n",
       "      <td>0</td>\n",
       "      <td>0</td>\n",
       "      <td>0.001094</td>\n",
       "      <td>0.003275</td>\n",
       "      <td>0.007093</td>\n",
       "      <td>0.002568</td>\n",
       "      <td>0.002749</td>\n",
       "      <td>0.002481</td>\n",
       "    </tr>\n",
       "    <tr>\n",
       "      <th>4</th>\n",
       "      <td>0001d958c54c6e35</td>\n",
       "      <td>0</td>\n",
       "      <td>0</td>\n",
       "      <td>0</td>\n",
       "      <td>0</td>\n",
       "      <td>0</td>\n",
       "      <td>0</td>\n",
       "      <td>0.031645</td>\n",
       "      <td>0.042135</td>\n",
       "      <td>0.214759</td>\n",
       "      <td>0.004717</td>\n",
       "      <td>0.122849</td>\n",
       "      <td>0.044512</td>\n",
       "    </tr>\n",
       "  </tbody>\n",
       "</table>\n",
       "</div>"
      ],
      "text/plain": [
       "                 id  toxic  severe_toxic  obscene  threat  insult  \\\n",
       "0  0000997932d777bf      0             0        0       0       0   \n",
       "1  000103f0d9cfb60f      0             0        0       0       0   \n",
       "2  000113f07ec002fd      0             0        0       0       0   \n",
       "3  0001b41b1c6bb37e      0             0        0       0       0   \n",
       "4  0001d958c54c6e35      0             0        0       0       0   \n",
       "\n",
       "   identity_hate  prediction_toxic  prediction_severe_toxic  \\\n",
       "0              0          0.004372                 0.007445   \n",
       "1              0          0.011266                 0.024178   \n",
       "2              0          0.016494                 0.007536   \n",
       "3              0          0.001094                 0.003275   \n",
       "4              0          0.031645                 0.042135   \n",
       "\n",
       "   prediction_obscene  prediction_threat  prediction_insult  \\\n",
       "0            0.013798           0.002682           0.011628   \n",
       "1            0.027765           0.005054           0.035209   \n",
       "2            0.042107           0.002213           0.022258   \n",
       "3            0.007093           0.002568           0.002749   \n",
       "4            0.214759           0.004717           0.122849   \n",
       "\n",
       "   prediction_identity_hate  \n",
       "0                  0.006198  \n",
       "1                  0.008024  \n",
       "2                  0.002235  \n",
       "3                  0.002481  \n",
       "4                  0.044512  "
      ]
     },
     "execution_count": 31,
     "metadata": {},
     "output_type": "execute_result"
    }
   ],
   "source": [
    "sub1 = pd.read_csv('../blend/train_lr.csv')\n",
    "sub1.head()"
   ]
  },
  {
   "cell_type": "code",
   "execution_count": 32,
   "metadata": {},
   "outputs": [
    {
     "data": {
      "text/html": [
       "<div>\n",
       "<style>\n",
       "    .dataframe thead tr:only-child th {\n",
       "        text-align: right;\n",
       "    }\n",
       "\n",
       "    .dataframe thead th {\n",
       "        text-align: left;\n",
       "    }\n",
       "\n",
       "    .dataframe tbody tr th {\n",
       "        vertical-align: top;\n",
       "    }\n",
       "</style>\n",
       "<table border=\"1\" class=\"dataframe\">\n",
       "  <thead>\n",
       "    <tr style=\"text-align: right;\">\n",
       "      <th></th>\n",
       "      <th>id</th>\n",
       "      <th>prediction_toxic</th>\n",
       "      <th>prediction_severe_toxic</th>\n",
       "      <th>prediction_obscene</th>\n",
       "      <th>prediction_threat</th>\n",
       "      <th>prediction_insult</th>\n",
       "      <th>prediction_identity_hate</th>\n",
       "    </tr>\n",
       "  </thead>\n",
       "  <tbody>\n",
       "    <tr>\n",
       "      <th>0</th>\n",
       "      <td>0000997932d777bf</td>\n",
       "      <td>0.004372</td>\n",
       "      <td>0.007445</td>\n",
       "      <td>0.013798</td>\n",
       "      <td>0.002682</td>\n",
       "      <td>0.011628</td>\n",
       "      <td>0.006198</td>\n",
       "    </tr>\n",
       "    <tr>\n",
       "      <th>1</th>\n",
       "      <td>000103f0d9cfb60f</td>\n",
       "      <td>0.011266</td>\n",
       "      <td>0.024178</td>\n",
       "      <td>0.027765</td>\n",
       "      <td>0.005054</td>\n",
       "      <td>0.035209</td>\n",
       "      <td>0.008024</td>\n",
       "    </tr>\n",
       "    <tr>\n",
       "      <th>2</th>\n",
       "      <td>000113f07ec002fd</td>\n",
       "      <td>0.016494</td>\n",
       "      <td>0.007536</td>\n",
       "      <td>0.042107</td>\n",
       "      <td>0.002213</td>\n",
       "      <td>0.022258</td>\n",
       "      <td>0.002235</td>\n",
       "    </tr>\n",
       "    <tr>\n",
       "      <th>3</th>\n",
       "      <td>0001b41b1c6bb37e</td>\n",
       "      <td>0.001094</td>\n",
       "      <td>0.003275</td>\n",
       "      <td>0.007093</td>\n",
       "      <td>0.002568</td>\n",
       "      <td>0.002749</td>\n",
       "      <td>0.002481</td>\n",
       "    </tr>\n",
       "    <tr>\n",
       "      <th>4</th>\n",
       "      <td>0001d958c54c6e35</td>\n",
       "      <td>0.031645</td>\n",
       "      <td>0.042135</td>\n",
       "      <td>0.214759</td>\n",
       "      <td>0.004717</td>\n",
       "      <td>0.122849</td>\n",
       "      <td>0.044512</td>\n",
       "    </tr>\n",
       "  </tbody>\n",
       "</table>\n",
       "</div>"
      ],
      "text/plain": [
       "                 id  prediction_toxic  prediction_severe_toxic  \\\n",
       "0  0000997932d777bf          0.004372                 0.007445   \n",
       "1  000103f0d9cfb60f          0.011266                 0.024178   \n",
       "2  000113f07ec002fd          0.016494                 0.007536   \n",
       "3  0001b41b1c6bb37e          0.001094                 0.003275   \n",
       "4  0001d958c54c6e35          0.031645                 0.042135   \n",
       "\n",
       "   prediction_obscene  prediction_threat  prediction_insult  \\\n",
       "0            0.013798           0.002682           0.011628   \n",
       "1            0.027765           0.005054           0.035209   \n",
       "2            0.042107           0.002213           0.022258   \n",
       "3            0.007093           0.002568           0.002749   \n",
       "4            0.214759           0.004717           0.122849   \n",
       "\n",
       "   prediction_identity_hate  \n",
       "0                  0.006198  \n",
       "1                  0.008024  \n",
       "2                  0.002235  \n",
       "3                  0.002481  \n",
       "4                  0.044512  "
      ]
     },
     "execution_count": 32,
     "metadata": {},
     "output_type": "execute_result"
    }
   ],
   "source": [
    "sub1.drop(cols,axis=1,inplace=True)\n",
    "sub1.head()"
   ]
  },
  {
   "cell_type": "code",
   "execution_count": 33,
   "metadata": {},
   "outputs": [
    {
     "data": {
      "text/html": [
       "<div>\n",
       "<style>\n",
       "    .dataframe thead tr:only-child th {\n",
       "        text-align: right;\n",
       "    }\n",
       "\n",
       "    .dataframe thead th {\n",
       "        text-align: left;\n",
       "    }\n",
       "\n",
       "    .dataframe tbody tr th {\n",
       "        vertical-align: top;\n",
       "    }\n",
       "</style>\n",
       "<table border=\"1\" class=\"dataframe\">\n",
       "  <thead>\n",
       "    <tr style=\"text-align: right;\">\n",
       "      <th></th>\n",
       "      <th>id</th>\n",
       "      <th>toxic</th>\n",
       "      <th>severe_toxic</th>\n",
       "      <th>obscene</th>\n",
       "      <th>threat</th>\n",
       "      <th>insult</th>\n",
       "      <th>identity_hate</th>\n",
       "    </tr>\n",
       "  </thead>\n",
       "  <tbody>\n",
       "    <tr>\n",
       "      <th>0</th>\n",
       "      <td>0000997932d777bf</td>\n",
       "      <td>0.004372</td>\n",
       "      <td>0.007445</td>\n",
       "      <td>0.013798</td>\n",
       "      <td>0.002682</td>\n",
       "      <td>0.011628</td>\n",
       "      <td>0.006198</td>\n",
       "    </tr>\n",
       "    <tr>\n",
       "      <th>1</th>\n",
       "      <td>000103f0d9cfb60f</td>\n",
       "      <td>0.011266</td>\n",
       "      <td>0.024178</td>\n",
       "      <td>0.027765</td>\n",
       "      <td>0.005054</td>\n",
       "      <td>0.035209</td>\n",
       "      <td>0.008024</td>\n",
       "    </tr>\n",
       "    <tr>\n",
       "      <th>2</th>\n",
       "      <td>000113f07ec002fd</td>\n",
       "      <td>0.016494</td>\n",
       "      <td>0.007536</td>\n",
       "      <td>0.042107</td>\n",
       "      <td>0.002213</td>\n",
       "      <td>0.022258</td>\n",
       "      <td>0.002235</td>\n",
       "    </tr>\n",
       "    <tr>\n",
       "      <th>3</th>\n",
       "      <td>0001b41b1c6bb37e</td>\n",
       "      <td>0.001094</td>\n",
       "      <td>0.003275</td>\n",
       "      <td>0.007093</td>\n",
       "      <td>0.002568</td>\n",
       "      <td>0.002749</td>\n",
       "      <td>0.002481</td>\n",
       "    </tr>\n",
       "    <tr>\n",
       "      <th>4</th>\n",
       "      <td>0001d958c54c6e35</td>\n",
       "      <td>0.031645</td>\n",
       "      <td>0.042135</td>\n",
       "      <td>0.214759</td>\n",
       "      <td>0.004717</td>\n",
       "      <td>0.122849</td>\n",
       "      <td>0.044512</td>\n",
       "    </tr>\n",
       "  </tbody>\n",
       "</table>\n",
       "</div>"
      ],
      "text/plain": [
       "                 id     toxic  severe_toxic   obscene    threat    insult  \\\n",
       "0  0000997932d777bf  0.004372      0.007445  0.013798  0.002682  0.011628   \n",
       "1  000103f0d9cfb60f  0.011266      0.024178  0.027765  0.005054  0.035209   \n",
       "2  000113f07ec002fd  0.016494      0.007536  0.042107  0.002213  0.022258   \n",
       "3  0001b41b1c6bb37e  0.001094      0.003275  0.007093  0.002568  0.002749   \n",
       "4  0001d958c54c6e35  0.031645      0.042135  0.214759  0.004717  0.122849   \n",
       "\n",
       "   identity_hate  \n",
       "0       0.006198  \n",
       "1       0.008024  \n",
       "2       0.002235  \n",
       "3       0.002481  \n",
       "4       0.044512  "
      ]
     },
     "execution_count": 33,
     "metadata": {},
     "output_type": "execute_result"
    }
   ],
   "source": [
    "sub1.columns = ['id'] + cols\n",
    "sub1.head()"
   ]
  },
  {
   "cell_type": "code",
   "execution_count": 34,
   "metadata": {
    "collapsed": true
   },
   "outputs": [],
   "source": [
    "sub1.to_csv('../blend/train_lr.csv',index=False)"
   ]
  },
  {
   "cell_type": "code",
   "execution_count": null,
   "metadata": {
    "collapsed": true
   },
   "outputs": [],
   "source": []
  }
 ],
 "metadata": {
  "kernelspec": {
   "display_name": "Python 3",
   "language": "python",
   "name": "python3"
  },
  "language_info": {
   "codemirror_mode": {
    "name": "ipython",
    "version": 3
   },
   "file_extension": ".py",
   "mimetype": "text/x-python",
   "name": "python",
   "nbconvert_exporter": "python",
   "pygments_lexer": "ipython3",
   "version": "3.6.1"
  }
 },
 "nbformat": 4,
 "nbformat_minor": 2
}
