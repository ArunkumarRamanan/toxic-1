{
 "cells": [
  {
   "cell_type": "code",
   "execution_count": 1,
   "metadata": {
    "ExecuteTime": {
     "end_time": "2018-02-26T06:20:09.711415Z",
     "start_time": "2018-02-26T06:20:08.543712Z"
    }
   },
   "outputs": [
    {
     "name": "stderr",
     "output_type": "stream",
     "text": [
      "/opt/conda/lib/python3.5/site-packages/h5py/__init__.py:36: FutureWarning: Conversion of the second argument of issubdtype from `float` to `np.floating` is deprecated. In future, it will be treated as `np.float64 == np.dtype(float).type`.\n",
      "  from ._conv import register_converters as _register_converters\n",
      "Using TensorFlow backend.\n"
     ]
    },
    {
     "name": "stdout",
     "output_type": "stream",
     "text": [
      "Seed: 7961730\n"
     ]
    }
   ],
   "source": [
    "# import importlib\n",
    "# import local_utils; importlib.reload(local_utils)\n",
    "from local_utils import *"
   ]
  },
  {
   "cell_type": "code",
   "execution_count": 2,
   "metadata": {
    "ExecuteTime": {
     "end_time": "2018-02-26T06:20:09.728055Z",
     "start_time": "2018-02-26T06:20:09.712348Z"
    }
   },
   "outputs": [],
   "source": [
    "from textblob import TextBlob\n",
    "from textblob.translate import NotTranslated"
   ]
  },
  {
   "cell_type": "code",
   "execution_count": 3,
   "metadata": {
    "ExecuteTime": {
     "end_time": "2018-02-26T06:20:13.972605Z",
     "start_time": "2018-02-26T06:20:09.729095Z"
    }
   },
   "outputs": [
    {
     "name": "stdout",
     "output_type": "stream",
     "text": [
      "Original:\n",
      "Explanation\n",
      "Why the edits made under my username Hardcore Metallica Fan were reverted? They weren't vandalisms, just closure on some GAs after I voted at New York Dolls FAC. And please don't remove the template from the talk page since I'm retired now.89.205.38.27\n",
      "\n",
      "Processed:\n",
      "Explanation Why the edits made under my username Hardcore Metallica Fan were reverted? They weren't vandalisms, just closure on some GAs after I voted at New York Dolls FAC. And please don't remove the template from the talk page since I'm retired now. \n"
     ]
    }
   ],
   "source": [
    "ids, comments, Y, test_ids, test_comments, inx2label, label2inx = load_data()\n",
    "Y_wblank = np.concatenate([Y, np.expand_dims((~Y.any(axis=1)).astype(int), 1)], axis=1)\n",
    "print(\"Original:\\n\" + comments[0])\n",
    "print()\n",
    "\n",
    "comments = Parallel(n_jobs=cpu_cores)(delayed(preprocess)(text, False) for text in comments)\n",
    "test_comments = Parallel(n_jobs=cpu_cores)(delayed(preprocess)(text, False) for text in test_comments)\n",
    "print(\"Processed:\\n\" + comments[0])"
   ]
  },
  {
   "cell_type": "code",
   "execution_count": 5,
   "metadata": {
    "ExecuteTime": {
     "end_time": "2018-02-26T06:20:15.023772Z",
     "start_time": "2018-02-26T06:20:15.017212Z"
    }
   },
   "outputs": [],
   "source": [
    "def translate(comment, language):\n",
    "    text = TextBlob(comment)\n",
    "    try:\n",
    "        text = text.translate(to=language)\n",
    "        text = text.translate(to=\"en\")\n",
    "    except NotTranslated:\n",
    "        pass\n",
    "    except:\n",
    "        return translate(comment, language)\n",
    "    \n",
    "    return str(text)"
   ]
  },
  {
   "cell_type": "code",
   "execution_count": 6,
   "metadata": {
    "ExecuteTime": {
     "end_time": "2018-02-26T06:47:38.897209Z",
     "start_time": "2018-02-26T06:20:15.025207Z"
    }
   },
   "outputs": [
    {
     "name": "stderr",
     "output_type": "stream",
     "text": [
      "[Parallel(n_jobs=300)]: Done  48 tasks      | elapsed:    0.6s\n",
      "[Parallel(n_jobs=300)]: Done 282 tasks      | elapsed:    1.1s\n",
      "[Parallel(n_jobs=300)]: Done 552 tasks      | elapsed:    1.8s\n",
      "[Parallel(n_jobs=300)]: Done 858 tasks      | elapsed:    2.2s\n",
      "[Parallel(n_jobs=300)]: Done 1200 tasks      | elapsed:    2.9s\n",
      "[Parallel(n_jobs=300)]: Done 1578 tasks      | elapsed:    3.6s\n",
      "[Parallel(n_jobs=300)]: Done 1992 tasks      | elapsed:    5.0s\n",
      "[Parallel(n_jobs=300)]: Done 2442 tasks      | elapsed:    6.0s\n",
      "[Parallel(n_jobs=300)]: Done 2928 tasks      | elapsed:    6.1s\n",
      "[Parallel(n_jobs=300)]: Done 3450 tasks      | elapsed:    7.4s\n",
      "[Parallel(n_jobs=300)]: Done 4008 tasks      | elapsed:    8.5s\n",
      "[Parallel(n_jobs=300)]: Done 4602 tasks      | elapsed:    9.7s\n",
      "[Parallel(n_jobs=300)]: Done 5232 tasks      | elapsed:   11.1s\n",
      "[Parallel(n_jobs=300)]: Done 5898 tasks      | elapsed:   12.9s\n",
      "[Parallel(n_jobs=300)]: Done 6600 tasks      | elapsed:   14.2s\n",
      "[Parallel(n_jobs=300)]: Done 7338 tasks      | elapsed:   15.6s\n",
      "[Parallel(n_jobs=300)]: Done 8112 tasks      | elapsed:   17.0s\n",
      "[Parallel(n_jobs=300)]: Done 8922 tasks      | elapsed:   19.3s\n",
      "[Parallel(n_jobs=300)]: Done 9768 tasks      | elapsed:   20.8s\n",
      "[Parallel(n_jobs=300)]: Done 10650 tasks      | elapsed:   22.2s\n",
      "[Parallel(n_jobs=300)]: Done 11568 tasks      | elapsed:   24.1s\n",
      "[Parallel(n_jobs=300)]: Done 12522 tasks      | elapsed:   26.0s\n",
      "[Parallel(n_jobs=300)]: Done 13512 tasks      | elapsed:   28.0s\n",
      "[Parallel(n_jobs=300)]: Done 14538 tasks      | elapsed:  1.1min\n",
      "[Parallel(n_jobs=300)]: Done 15600 tasks      | elapsed:  2.1min\n",
      "[Parallel(n_jobs=300)]: Done 16698 tasks      | elapsed:  2.2min\n",
      "[Parallel(n_jobs=300)]: Done 17832 tasks      | elapsed:  2.3min\n",
      "[Parallel(n_jobs=300)]: Done 19002 tasks      | elapsed:  2.3min\n",
      "[Parallel(n_jobs=300)]: Done 20208 tasks      | elapsed:  2.4min\n",
      "[Parallel(n_jobs=300)]: Done 21450 tasks      | elapsed:  2.4min\n",
      "[Parallel(n_jobs=300)]: Done 22728 tasks      | elapsed:  2.5min\n",
      "[Parallel(n_jobs=300)]: Done 24042 tasks      | elapsed:  2.5min\n",
      "[Parallel(n_jobs=300)]: Done 25392 tasks      | elapsed:  2.6min\n",
      "[Parallel(n_jobs=300)]: Done 26778 tasks      | elapsed:  2.8min\n",
      "[Parallel(n_jobs=300)]: Done 28200 tasks      | elapsed:  3.5min\n",
      "[Parallel(n_jobs=300)]: Done 29658 tasks      | elapsed:  4.2min\n",
      "[Parallel(n_jobs=300)]: Done 31152 tasks      | elapsed:  4.3min\n",
      "[Parallel(n_jobs=300)]: Done 32682 tasks      | elapsed:  4.4min\n",
      "[Parallel(n_jobs=300)]: Done 34248 tasks      | elapsed:  4.4min\n",
      "[Parallel(n_jobs=300)]: Done 35850 tasks      | elapsed:  4.5min\n",
      "[Parallel(n_jobs=300)]: Done 37488 tasks      | elapsed:  4.5min\n",
      "[Parallel(n_jobs=300)]: Done 39162 tasks      | elapsed:  4.6min\n",
      "[Parallel(n_jobs=300)]: Done 40872 tasks      | elapsed:  5.4min\n",
      "[Parallel(n_jobs=300)]: Done 42618 tasks      | elapsed:  6.3min\n",
      "[Parallel(n_jobs=300)]: Done 44400 tasks      | elapsed:  6.5min\n",
      "[Parallel(n_jobs=300)]: Done 46218 tasks      | elapsed:  6.5min\n",
      "[Parallel(n_jobs=300)]: Done 48072 tasks      | elapsed:  6.6min\n",
      "[Parallel(n_jobs=300)]: Done 49962 tasks      | elapsed:  7.1min\n",
      "[Parallel(n_jobs=300)]: Done 51888 tasks      | elapsed:  8.3min\n",
      "[Parallel(n_jobs=300)]: Done 53850 tasks      | elapsed:  8.4min\n",
      "[Parallel(n_jobs=300)]: Done 55848 tasks      | elapsed:  8.5min\n",
      "[Parallel(n_jobs=300)]: Done 57882 tasks      | elapsed:  8.5min\n",
      "[Parallel(n_jobs=300)]: Done 59952 tasks      | elapsed: 10.0min\n",
      "[Parallel(n_jobs=300)]: Done 62058 tasks      | elapsed: 10.4min\n",
      "[Parallel(n_jobs=300)]: Done 64200 tasks      | elapsed: 10.4min\n",
      "[Parallel(n_jobs=300)]: Done 66378 tasks      | elapsed: 10.5min\n",
      "[Parallel(n_jobs=300)]: Done 68592 tasks      | elapsed: 10.6min\n",
      "[Parallel(n_jobs=300)]: Done 70842 tasks      | elapsed: 10.7min\n",
      "[Parallel(n_jobs=300)]: Done 73128 tasks      | elapsed: 11.2min\n",
      "[Parallel(n_jobs=300)]: Done 75450 tasks      | elapsed: 12.4min\n",
      "[Parallel(n_jobs=300)]: Done 77808 tasks      | elapsed: 12.5min\n",
      "[Parallel(n_jobs=300)]: Done 80202 tasks      | elapsed: 12.6min\n",
      "[Parallel(n_jobs=300)]: Done 82632 tasks      | elapsed: 12.7min\n",
      "[Parallel(n_jobs=300)]: Done 85098 tasks      | elapsed: 13.3min\n",
      "[Parallel(n_jobs=300)]: Done 87600 tasks      | elapsed: 14.5min\n",
      "[Parallel(n_jobs=300)]: Done 90138 tasks      | elapsed: 14.6min\n",
      "[Parallel(n_jobs=300)]: Done 92712 tasks      | elapsed: 14.7min\n",
      "[Parallel(n_jobs=300)]: Done 95322 tasks      | elapsed: 14.8min\n",
      "[Parallel(n_jobs=300)]: Done 97968 tasks      | elapsed: 15.9min\n",
      "[Parallel(n_jobs=300)]: Done 100650 tasks      | elapsed: 16.6min\n",
      "[Parallel(n_jobs=300)]: Done 103368 tasks      | elapsed: 16.8min\n",
      "[Parallel(n_jobs=300)]: Done 106122 tasks      | elapsed: 17.0min\n",
      "[Parallel(n_jobs=300)]: Done 108912 tasks      | elapsed: 17.5min\n",
      "[Parallel(n_jobs=300)]: Done 111738 tasks      | elapsed: 18.5min\n",
      "[Parallel(n_jobs=300)]: Done 114600 tasks      | elapsed: 18.7min\n",
      "[Parallel(n_jobs=300)]: Done 117498 tasks      | elapsed: 18.9min\n",
      "[Parallel(n_jobs=300)]: Done 120432 tasks      | elapsed: 19.2min\n",
      "[Parallel(n_jobs=300)]: Done 123402 tasks      | elapsed: 20.6min\n",
      "[Parallel(n_jobs=300)]: Done 126408 tasks      | elapsed: 20.9min\n",
      "[Parallel(n_jobs=300)]: Done 129450 tasks      | elapsed: 21.1min\n",
      "[Parallel(n_jobs=300)]: Done 132528 tasks      | elapsed: 21.5min\n",
      "[Parallel(n_jobs=300)]: Done 135642 tasks      | elapsed: 22.5min\n",
      "[Parallel(n_jobs=300)]: Done 138792 tasks      | elapsed: 22.9min\n",
      "[Parallel(n_jobs=300)]: Done 141978 tasks      | elapsed: 23.1min\n",
      "[Parallel(n_jobs=300)]: Done 145200 tasks      | elapsed: 23.6min\n",
      "[Parallel(n_jobs=300)]: Done 148458 tasks      | elapsed: 24.5min\n",
      "[Parallel(n_jobs=300)]: Done 151752 tasks      | elapsed: 24.9min\n",
      "[Parallel(n_jobs=300)]: Done 155082 tasks      | elapsed: 25.7min\n",
      "[Parallel(n_jobs=300)]: Done 158448 tasks      | elapsed: 26.7min\n",
      "[Parallel(n_jobs=300)]: Done 159571 out of 159571 | elapsed: 27.4min finished\n"
     ]
    }
   ],
   "source": [
    "tl_fr = Parallel(n_jobs=300, backend=\"threading\", verbose=5)(delayed(translate)(text, \"fr\") for text in comments)"
   ]
  },
  {
   "cell_type": "code",
   "execution_count": 7,
   "metadata": {
    "ExecuteTime": {
     "end_time": "2018-02-26T07:14:17.800244Z",
     "start_time": "2018-02-26T06:47:38.900639Z"
    }
   },
   "outputs": [
    {
     "name": "stderr",
     "output_type": "stream",
     "text": [
      "[Parallel(n_jobs=300)]: Done  48 tasks      | elapsed:    0.5s\n",
      "[Parallel(n_jobs=300)]: Done 282 tasks      | elapsed:    1.1s\n",
      "[Parallel(n_jobs=300)]: Done 552 tasks      | elapsed:    2.2s\n",
      "[Parallel(n_jobs=300)]: Done 858 tasks      | elapsed:    3.7s\n",
      "[Parallel(n_jobs=300)]: Done 1200 tasks      | elapsed:    4.5s\n",
      "[Parallel(n_jobs=300)]: Done 1578 tasks      | elapsed:    5.8s\n",
      "[Parallel(n_jobs=300)]: Done 1992 tasks      | elapsed:    7.3s\n",
      "[Parallel(n_jobs=300)]: Done 2442 tasks      | elapsed:    8.9s\n",
      "[Parallel(n_jobs=300)]: Done 2928 tasks      | elapsed:   10.6s\n",
      "[Parallel(n_jobs=300)]: Done 3450 tasks      | elapsed:   13.8s\n",
      "[Parallel(n_jobs=300)]: Done 4008 tasks      | elapsed:   15.9s\n",
      "[Parallel(n_jobs=300)]: Done 4602 tasks      | elapsed:   17.0s\n",
      "[Parallel(n_jobs=300)]: Done 5232 tasks      | elapsed:   25.0s\n",
      "[Parallel(n_jobs=300)]: Done 5898 tasks      | elapsed:   37.2s\n",
      "[Parallel(n_jobs=300)]: Done 6600 tasks      | elapsed:   57.0s\n",
      "[Parallel(n_jobs=300)]: Done 7338 tasks      | elapsed:  1.1min\n",
      "[Parallel(n_jobs=300)]: Done 8112 tasks      | elapsed:  1.1min\n",
      "[Parallel(n_jobs=300)]: Done 8922 tasks      | elapsed:  1.2min\n",
      "[Parallel(n_jobs=300)]: Done 9768 tasks      | elapsed:  1.3min\n",
      "[Parallel(n_jobs=300)]: Done 10650 tasks      | elapsed:  1.3min\n",
      "[Parallel(n_jobs=300)]: Done 11568 tasks      | elapsed:  1.4min\n",
      "[Parallel(n_jobs=300)]: Done 12522 tasks      | elapsed:  1.4min\n",
      "[Parallel(n_jobs=300)]: Done 13512 tasks      | elapsed:  1.6min\n",
      "[Parallel(n_jobs=300)]: Done 14538 tasks      | elapsed:  2.1min\n",
      "[Parallel(n_jobs=300)]: Done 15600 tasks      | elapsed:  2.2min\n",
      "[Parallel(n_jobs=300)]: Done 16698 tasks      | elapsed:  2.3min\n",
      "[Parallel(n_jobs=300)]: Done 17832 tasks      | elapsed:  2.4min\n",
      "[Parallel(n_jobs=300)]: Done 19002 tasks      | elapsed:  2.6min\n",
      "[Parallel(n_jobs=300)]: Done 20208 tasks      | elapsed:  2.9min\n",
      "[Parallel(n_jobs=300)]: Done 21450 tasks      | elapsed:  3.2min\n",
      "[Parallel(n_jobs=300)]: Done 22728 tasks      | elapsed:  3.3min\n",
      "[Parallel(n_jobs=300)]: Done 24042 tasks      | elapsed:  3.5min\n",
      "[Parallel(n_jobs=300)]: Done 25392 tasks      | elapsed:  3.6min\n",
      "[Parallel(n_jobs=300)]: Done 26778 tasks      | elapsed:  3.8min\n",
      "[Parallel(n_jobs=300)]: Done 28200 tasks      | elapsed:  4.2min\n",
      "[Parallel(n_jobs=300)]: Done 29658 tasks      | elapsed:  4.4min\n",
      "[Parallel(n_jobs=300)]: Done 31152 tasks      | elapsed:  4.6min\n",
      "[Parallel(n_jobs=300)]: Done 32682 tasks      | elapsed:  4.7min\n",
      "[Parallel(n_jobs=300)]: Done 34248 tasks      | elapsed:  5.0min\n",
      "[Parallel(n_jobs=300)]: Done 35850 tasks      | elapsed:  5.3min\n",
      "[Parallel(n_jobs=300)]: Done 37488 tasks      | elapsed:  5.5min\n",
      "[Parallel(n_jobs=300)]: Done 39162 tasks      | elapsed:  5.7min\n",
      "[Parallel(n_jobs=300)]: Done 40872 tasks      | elapsed:  6.1min\n",
      "[Parallel(n_jobs=300)]: Done 42618 tasks      | elapsed:  6.3min\n",
      "[Parallel(n_jobs=300)]: Done 44400 tasks      | elapsed:  6.6min\n",
      "[Parallel(n_jobs=300)]: Done 46218 tasks      | elapsed:  6.8min\n",
      "[Parallel(n_jobs=300)]: Done 48072 tasks      | elapsed:  7.1min\n",
      "[Parallel(n_jobs=300)]: Done 49962 tasks      | elapsed:  7.4min\n",
      "[Parallel(n_jobs=300)]: Done 51888 tasks      | elapsed:  7.6min\n",
      "[Parallel(n_jobs=300)]: Done 53850 tasks      | elapsed:  8.0min\n",
      "[Parallel(n_jobs=300)]: Done 55848 tasks      | elapsed:  8.4min\n",
      "[Parallel(n_jobs=300)]: Done 57882 tasks      | elapsed:  8.6min\n",
      "[Parallel(n_jobs=300)]: Done 59952 tasks      | elapsed:  8.9min\n",
      "[Parallel(n_jobs=300)]: Done 62058 tasks      | elapsed:  9.4min\n",
      "[Parallel(n_jobs=300)]: Done 64200 tasks      | elapsed: 10.2min\n",
      "[Parallel(n_jobs=300)]: Done 66378 tasks      | elapsed: 10.6min\n",
      "[Parallel(n_jobs=300)]: Done 68592 tasks      | elapsed: 10.9min\n",
      "[Parallel(n_jobs=300)]: Done 70842 tasks      | elapsed: 11.3min\n",
      "[Parallel(n_jobs=300)]: Done 73128 tasks      | elapsed: 12.2min\n",
      "[Parallel(n_jobs=300)]: Done 75450 tasks      | elapsed: 12.6min\n",
      "[Parallel(n_jobs=300)]: Done 77808 tasks      | elapsed: 12.8min\n",
      "[Parallel(n_jobs=300)]: Done 80202 tasks      | elapsed: 13.1min\n",
      "[Parallel(n_jobs=300)]: Done 82632 tasks      | elapsed: 13.4min\n",
      "[Parallel(n_jobs=300)]: Done 85098 tasks      | elapsed: 13.9min\n",
      "[Parallel(n_jobs=300)]: Done 87600 tasks      | elapsed: 14.5min\n",
      "[Parallel(n_jobs=300)]: Done 90138 tasks      | elapsed: 14.8min\n",
      "[Parallel(n_jobs=300)]: Done 92712 tasks      | elapsed: 15.1min\n",
      "[Parallel(n_jobs=300)]: Done 95322 tasks      | elapsed: 15.5min\n",
      "[Parallel(n_jobs=300)]: Done 97968 tasks      | elapsed: 16.0min\n",
      "[Parallel(n_jobs=300)]: Done 100650 tasks      | elapsed: 16.5min\n",
      "[Parallel(n_jobs=300)]: Done 103368 tasks      | elapsed: 16.9min\n",
      "[Parallel(n_jobs=300)]: Done 106122 tasks      | elapsed: 17.2min\n",
      "[Parallel(n_jobs=300)]: Done 108912 tasks      | elapsed: 17.6min\n",
      "[Parallel(n_jobs=300)]: Done 111738 tasks      | elapsed: 18.3min\n",
      "[Parallel(n_jobs=300)]: Done 114600 tasks      | elapsed: 18.8min\n",
      "[Parallel(n_jobs=300)]: Done 117498 tasks      | elapsed: 19.1min\n",
      "[Parallel(n_jobs=300)]: Done 120432 tasks      | elapsed: 20.2min\n",
      "[Parallel(n_jobs=300)]: Done 123402 tasks      | elapsed: 20.6min\n",
      "[Parallel(n_jobs=300)]: Done 126408 tasks      | elapsed: 21.0min\n",
      "[Parallel(n_jobs=300)]: Done 129450 tasks      | elapsed: 21.6min\n",
      "[Parallel(n_jobs=300)]: Done 132528 tasks      | elapsed: 22.1min\n",
      "[Parallel(n_jobs=300)]: Done 135642 tasks      | elapsed: 22.5min\n",
      "[Parallel(n_jobs=300)]: Done 138792 tasks      | elapsed: 23.0min\n",
      "[Parallel(n_jobs=300)]: Done 141978 tasks      | elapsed: 23.6min\n",
      "[Parallel(n_jobs=300)]: Done 145200 tasks      | elapsed: 24.1min\n",
      "[Parallel(n_jobs=300)]: Done 148458 tasks      | elapsed: 24.8min\n",
      "[Parallel(n_jobs=300)]: Done 151752 tasks      | elapsed: 25.3min\n",
      "[Parallel(n_jobs=300)]: Done 155082 tasks      | elapsed: 25.9min\n",
      "[Parallel(n_jobs=300)]: Done 158448 tasks      | elapsed: 26.4min\n",
      "[Parallel(n_jobs=300)]: Done 159571 out of 159571 | elapsed: 26.6min finished\n"
     ]
    }
   ],
   "source": [
    "tl_de = Parallel(n_jobs=300, backend=\"threading\", verbose=5)(delayed(translate)(text, \"de\") for text in comments)"
   ]
  },
  {
   "cell_type": "code",
   "execution_count": 8,
   "metadata": {
    "ExecuteTime": {
     "end_time": "2018-02-26T07:44:02.783056Z",
     "start_time": "2018-02-26T07:14:17.805500Z"
    }
   },
   "outputs": [
    {
     "name": "stderr",
     "output_type": "stream",
     "text": [
      "[Parallel(n_jobs=300)]: Done  48 tasks      | elapsed:    1.7s\n",
      "[Parallel(n_jobs=300)]: Done 282 tasks      | elapsed:    3.6s\n",
      "[Parallel(n_jobs=300)]: Done 552 tasks      | elapsed:    7.9s\n",
      "[Parallel(n_jobs=300)]: Done 858 tasks      | elapsed:    9.6s\n",
      "[Parallel(n_jobs=300)]: Done 1200 tasks      | elapsed:   10.2s\n",
      "[Parallel(n_jobs=300)]: Done 1578 tasks      | elapsed:   11.8s\n",
      "[Parallel(n_jobs=300)]: Done 1992 tasks      | elapsed:   14.4s\n",
      "[Parallel(n_jobs=300)]: Done 2442 tasks      | elapsed:   17.9s\n",
      "[Parallel(n_jobs=300)]: Done 2928 tasks      | elapsed:   22.8s\n",
      "[Parallel(n_jobs=300)]: Done 3450 tasks      | elapsed:   27.1s\n",
      "[Parallel(n_jobs=300)]: Done 4008 tasks      | elapsed:   31.1s\n",
      "[Parallel(n_jobs=300)]: Done 4602 tasks      | elapsed:   36.4s\n",
      "[Parallel(n_jobs=300)]: Done 5232 tasks      | elapsed:   42.0s\n",
      "[Parallel(n_jobs=300)]: Done 5898 tasks      | elapsed:   49.6s\n",
      "[Parallel(n_jobs=300)]: Done 6600 tasks      | elapsed:   59.8s\n",
      "[Parallel(n_jobs=300)]: Done 7338 tasks      | elapsed:  1.2min\n",
      "[Parallel(n_jobs=300)]: Done 8112 tasks      | elapsed:  1.3min\n",
      "[Parallel(n_jobs=300)]: Done 8922 tasks      | elapsed:  1.4min\n",
      "[Parallel(n_jobs=300)]: Done 9768 tasks      | elapsed:  1.5min\n",
      "[Parallel(n_jobs=300)]: Done 10650 tasks      | elapsed:  1.7min\n",
      "[Parallel(n_jobs=300)]: Done 11568 tasks      | elapsed:  1.8min\n",
      "[Parallel(n_jobs=300)]: Done 12522 tasks      | elapsed:  1.9min\n",
      "[Parallel(n_jobs=300)]: Done 13512 tasks      | elapsed:  2.1min\n",
      "[Parallel(n_jobs=300)]: Done 14538 tasks      | elapsed:  2.3min\n",
      "[Parallel(n_jobs=300)]: Done 15600 tasks      | elapsed:  2.4min\n",
      "[Parallel(n_jobs=300)]: Done 16698 tasks      | elapsed:  2.6min\n",
      "[Parallel(n_jobs=300)]: Done 17832 tasks      | elapsed:  3.1min\n",
      "[Parallel(n_jobs=300)]: Done 19002 tasks      | elapsed:  3.6min\n",
      "[Parallel(n_jobs=300)]: Done 20208 tasks      | elapsed:  3.8min\n",
      "[Parallel(n_jobs=300)]: Done 21450 tasks      | elapsed:  3.9min\n",
      "[Parallel(n_jobs=300)]: Done 22728 tasks      | elapsed:  4.2min\n",
      "[Parallel(n_jobs=300)]: Done 24042 tasks      | elapsed:  4.4min\n",
      "[Parallel(n_jobs=300)]: Done 25392 tasks      | elapsed:  4.5min\n",
      "[Parallel(n_jobs=300)]: Done 26778 tasks      | elapsed:  5.0min\n",
      "[Parallel(n_jobs=300)]: Done 28200 tasks      | elapsed:  5.6min\n",
      "[Parallel(n_jobs=300)]: Done 29658 tasks      | elapsed:  5.8min\n",
      "[Parallel(n_jobs=300)]: Done 31152 tasks      | elapsed:  6.1min\n",
      "[Parallel(n_jobs=300)]: Done 32682 tasks      | elapsed:  6.3min\n",
      "[Parallel(n_jobs=300)]: Done 34248 tasks      | elapsed:  6.5min\n",
      "[Parallel(n_jobs=300)]: Done 35850 tasks      | elapsed:  6.8min\n",
      "[Parallel(n_jobs=300)]: Done 37488 tasks      | elapsed:  7.1min\n",
      "[Parallel(n_jobs=300)]: Done 39162 tasks      | elapsed:  7.4min\n",
      "[Parallel(n_jobs=300)]: Done 40872 tasks      | elapsed:  7.7min\n",
      "[Parallel(n_jobs=300)]: Done 42618 tasks      | elapsed:  8.0min\n",
      "[Parallel(n_jobs=300)]: Done 44400 tasks      | elapsed:  8.3min\n",
      "[Parallel(n_jobs=300)]: Done 46218 tasks      | elapsed:  8.5min\n",
      "[Parallel(n_jobs=300)]: Done 48072 tasks      | elapsed:  8.9min\n",
      "[Parallel(n_jobs=300)]: Done 49962 tasks      | elapsed:  9.3min\n",
      "[Parallel(n_jobs=300)]: Done 51888 tasks      | elapsed:  9.6min\n",
      "[Parallel(n_jobs=300)]: Done 53850 tasks      | elapsed:  9.9min\n",
      "[Parallel(n_jobs=300)]: Done 55848 tasks      | elapsed: 10.2min\n",
      "[Parallel(n_jobs=300)]: Done 57882 tasks      | elapsed: 10.5min\n",
      "[Parallel(n_jobs=300)]: Done 59952 tasks      | elapsed: 10.8min\n",
      "[Parallel(n_jobs=300)]: Done 62058 tasks      | elapsed: 11.2min\n",
      "[Parallel(n_jobs=300)]: Done 64200 tasks      | elapsed: 11.5min\n",
      "[Parallel(n_jobs=300)]: Done 66378 tasks      | elapsed: 11.9min\n",
      "[Parallel(n_jobs=300)]: Done 68592 tasks      | elapsed: 12.2min\n",
      "[Parallel(n_jobs=300)]: Done 70842 tasks      | elapsed: 12.6min\n",
      "[Parallel(n_jobs=300)]: Done 73128 tasks      | elapsed: 13.0min\n",
      "[Parallel(n_jobs=300)]: Done 75450 tasks      | elapsed: 13.5min\n",
      "[Parallel(n_jobs=300)]: Done 77808 tasks      | elapsed: 13.8min\n",
      "[Parallel(n_jobs=300)]: Done 80202 tasks      | elapsed: 14.2min\n",
      "[Parallel(n_jobs=300)]: Done 82632 tasks      | elapsed: 14.6min\n",
      "[Parallel(n_jobs=300)]: Done 85098 tasks      | elapsed: 15.0min\n",
      "[Parallel(n_jobs=300)]: Done 87600 tasks      | elapsed: 15.4min\n",
      "[Parallel(n_jobs=300)]: Done 90138 tasks      | elapsed: 15.8min\n",
      "[Parallel(n_jobs=300)]: Done 92712 tasks      | elapsed: 16.2min\n",
      "[Parallel(n_jobs=300)]: Done 95322 tasks      | elapsed: 16.7min\n",
      "[Parallel(n_jobs=300)]: Done 97968 tasks      | elapsed: 17.2min\n",
      "[Parallel(n_jobs=300)]: Done 100650 tasks      | elapsed: 17.6min\n",
      "[Parallel(n_jobs=300)]: Done 103368 tasks      | elapsed: 18.5min\n",
      "[Parallel(n_jobs=300)]: Done 106122 tasks      | elapsed: 19.0min\n",
      "[Parallel(n_jobs=300)]: Done 108912 tasks      | elapsed: 19.5min\n",
      "[Parallel(n_jobs=300)]: Done 111738 tasks      | elapsed: 20.2min\n",
      "[Parallel(n_jobs=300)]: Done 114600 tasks      | elapsed: 20.9min\n",
      "[Parallel(n_jobs=300)]: Done 117498 tasks      | elapsed: 21.3min\n",
      "[Parallel(n_jobs=300)]: Done 120432 tasks      | elapsed: 21.7min\n",
      "[Parallel(n_jobs=300)]: Done 123402 tasks      | elapsed: 22.1min\n",
      "[Parallel(n_jobs=300)]: Done 126408 tasks      | elapsed: 22.8min\n",
      "[Parallel(n_jobs=300)]: Done 129450 tasks      | elapsed: 23.7min\n",
      "[Parallel(n_jobs=300)]: Done 132528 tasks      | elapsed: 24.0min\n",
      "[Parallel(n_jobs=300)]: Done 135642 tasks      | elapsed: 24.9min\n",
      "[Parallel(n_jobs=300)]: Done 138792 tasks      | elapsed: 25.5min\n",
      "[Parallel(n_jobs=300)]: Done 141978 tasks      | elapsed: 25.9min\n",
      "[Parallel(n_jobs=300)]: Done 145200 tasks      | elapsed: 26.3min\n",
      "[Parallel(n_jobs=300)]: Done 148458 tasks      | elapsed: 26.7min\n",
      "[Parallel(n_jobs=300)]: Done 151752 tasks      | elapsed: 27.5min\n",
      "[Parallel(n_jobs=300)]: Done 155082 tasks      | elapsed: 28.3min\n",
      "[Parallel(n_jobs=300)]: Done 158448 tasks      | elapsed: 29.0min\n",
      "[Parallel(n_jobs=300)]: Done 159571 out of 159571 | elapsed: 29.7min finished\n"
     ]
    }
   ],
   "source": [
    "tl_es = Parallel(n_jobs=300, backend=\"threading\", verbose=5)(delayed(translate)(text, \"es\") for text in comments)"
   ]
  },
  {
   "cell_type": "code",
   "execution_count": 19,
   "metadata": {
    "ExecuteTime": {
     "end_time": "2018-02-26T07:58:10.774299Z",
     "start_time": "2018-02-26T07:58:10.769416Z"
    }
   },
   "outputs": [
    {
     "data": {
      "text/plain": [
       "['\":::::And for the second time of asking, when your view completely contradicts the coverage in reliable sources, why should anyone care what you feel? You can\\'t even give a consistent argument - is the opening only supposed to mention significant aspects, or the \"\"most significant\"\" ones?     \"',\n",
       " 'You should be ashamed of yourself   That is a horrible thing you put on my talk page.   ',\n",
       " 'Spitzer   Umm, theres no actual article for prostitution ring.  - Crunch Captain.',\n",
       " 'And it looks like it was actually you who put on the speedy to have the first version deleted now that I look at it.']"
      ]
     },
     "execution_count": 19,
     "metadata": {},
     "output_type": "execute_result"
    }
   ],
   "source": [
    "comments[-5:-1]"
   ]
  },
  {
   "cell_type": "code",
   "execution_count": 18,
   "metadata": {
    "ExecuteTime": {
     "end_time": "2018-02-26T07:58:02.647608Z",
     "start_time": "2018-02-26T07:58:02.642757Z"
    }
   },
   "outputs": [
    {
     "data": {
      "text/plain": [
       "['\"::::: And for the second time to ask, when your view completely contradicts coverage in reliable sources, why should anyone care about how you feel? You can not even give a coherent argument - is the opening only meant to mention significant aspects, or the \"most significant\" ones?',\n",
       " \"You should be ashamed of yourself It's a horrible thing you put on my talk page.\",\n",
       " \"Spitzer Umm, there's no real article for the ring of prostitution. - Captain Crunch.\",\n",
       " \"And it seems that it's actually you who have gotten hold of the speed of having the first version removed now that I look at it.\"]"
      ]
     },
     "execution_count": 18,
     "metadata": {},
     "output_type": "execute_result"
    }
   ],
   "source": [
    "tl_fr[-5:-1]"
   ]
  },
  {
   "cell_type": "code",
   "execution_count": 17,
   "metadata": {
    "ExecuteTime": {
     "end_time": "2018-02-26T07:57:50.500669Z",
     "start_time": "2018-02-26T07:57:50.496259Z"
    }
   },
   "outputs": [
    {
     "data": {
      "text/plain": [
       "['\"For the second time to ask, if your point of view completely contradicts reporting in reliable sources, why would anyone care about what you feel? You can not even give a consistent argument - the opening is just to mention important aspects, or the\" most significant \"\"? \"',\n",
       " \"You should be ashamed of yourself. That's a terrible thing you put on my talk page.\",\n",
       " 'Spitzer Umm, there is no actual article on the prostitution ring. - Crunch captain.',\n",
       " \"And it looks like it's you who has increased the speed to clear the first version now that I'm looking at it.\"]"
      ]
     },
     "execution_count": 17,
     "metadata": {},
     "output_type": "execute_result"
    }
   ],
   "source": [
    "tl_de[-5:-1]"
   ]
  },
  {
   "cell_type": "code",
   "execution_count": 16,
   "metadata": {
    "ExecuteTime": {
     "end_time": "2018-02-26T07:57:45.576835Z",
     "start_time": "2018-02-26T07:57:45.572406Z"
    }
   },
   "outputs": [
    {
     "data": {
      "text/plain": [
       "['\"::::: And for the second time asking, when your point of view completely contradicts coverage in reliable sources, why should it matter to someone what you feel? You can not even give a consistent argument: the opening is supposed to only mention significant aspects, or the \"most significant\"?',\n",
       " \"You should be ashamed of yourself. It's something horrible that you put on my talk page.\",\n",
       " 'Spitzer Umm, there is no real item for the prostitution ring. - Captain Crunch.',\n",
       " 'And it seems that in reality it was you who accelerated so that the first version is deleted now that I look at it.']"
      ]
     },
     "execution_count": 16,
     "metadata": {},
     "output_type": "execute_result"
    }
   ],
   "source": [
    "tl_es[-5:-1]"
   ]
  },
  {
   "cell_type": "code",
   "execution_count": 20,
   "metadata": {
    "ExecuteTime": {
     "end_time": "2018-02-26T08:01:03.165987Z",
     "start_time": "2018-02-26T08:01:03.104466Z"
    }
   },
   "outputs": [],
   "source": [
    "pickle.dump(tl_fr, open('augmented/comments_fr.pkl', 'wb'))"
   ]
  },
  {
   "cell_type": "code",
   "execution_count": 21,
   "metadata": {
    "ExecuteTime": {
     "end_time": "2018-02-26T08:01:06.101756Z",
     "start_time": "2018-02-26T08:01:06.037804Z"
    }
   },
   "outputs": [],
   "source": [
    "pickle.dump(tl_de, open('augmented/comments_de.pkl', 'wb'))"
   ]
  },
  {
   "cell_type": "code",
   "execution_count": 22,
   "metadata": {
    "ExecuteTime": {
     "end_time": "2018-02-26T08:01:06.505922Z",
     "start_time": "2018-02-26T08:01:06.442041Z"
    }
   },
   "outputs": [],
   "source": [
    "pickle.dump(tl_es, open('augmented/comments_es.pkl', 'wb'))"
   ]
  },
  {
   "cell_type": "code",
   "execution_count": null,
   "metadata": {},
   "outputs": [],
   "source": []
  }
 ],
 "metadata": {
  "kernelspec": {
   "display_name": "Python 3",
   "language": "python",
   "name": "python3"
  },
  "language_info": {
   "codemirror_mode": {
    "name": "ipython",
    "version": 3
   },
   "file_extension": ".py",
   "mimetype": "text/x-python",
   "name": "python",
   "nbconvert_exporter": "python",
   "pygments_lexer": "ipython3",
   "version": "3.5.4"
  },
  "toc": {
   "nav_menu": {},
   "number_sections": true,
   "sideBar": true,
   "skip_h1_title": false,
   "toc_cell": false,
   "toc_position": {},
   "toc_section_display": "block",
   "toc_window_display": false
  }
 },
 "nbformat": 4,
 "nbformat_minor": 2
}
