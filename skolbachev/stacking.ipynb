{
 "cells": [
  {
   "cell_type": "code",
   "execution_count": 1,
   "metadata": {
    "ExecuteTime": {
     "end_time": "2018-03-21T00:05:42.302903Z",
     "start_time": "2018-03-21T00:05:40.471779Z"
    }
   },
   "outputs": [
    {
     "name": "stderr",
     "output_type": "stream",
     "text": [
      "/opt/conda/lib/python3.5/site-packages/h5py/__init__.py:36: FutureWarning: Conversion of the second argument of issubdtype from `float` to `np.floating` is deprecated. In future, it will be treated as `np.float64 == np.dtype(float).type`.\n",
      "  from ._conv import register_converters as _register_converters\n",
      "Using TensorFlow backend.\n"
     ]
    },
    {
     "name": "stdout",
     "output_type": "stream",
     "text": [
      "Seed: 7961730\n"
     ]
    }
   ],
   "source": [
    "from local_utils import *\n",
    "from sklearn.preprocessing import minmax_scale"
   ]
  },
  {
   "cell_type": "code",
   "execution_count": 2,
   "metadata": {
    "ExecuteTime": {
     "end_time": "2018-03-21T00:05:43.210083Z",
     "start_time": "2018-03-21T00:05:42.304848Z"
    }
   },
   "outputs": [],
   "source": [
    "ids, comments, Y, test_ids, test_comments, inx2label, label2inx = load_data(True)"
   ]
  },
  {
   "cell_type": "code",
   "execution_count": 3,
   "metadata": {
    "ExecuteTime": {
     "end_time": "2018-03-21T00:05:43.543297Z",
     "start_time": "2018-03-21T00:05:43.211125Z"
    }
   },
   "outputs": [
    {
     "name": "stdout",
     "output_type": "stream",
     "text": [
      "train: 143613, valid: 15958\n"
     ]
    }
   ],
   "source": [
    "trn_inx, val_inx = stratified_sampling(Y, 0.1, seed)\n",
    "print(\"train: {}, valid: {}\".format(len(trn_inx), len(val_inx)))"
   ]
  },
  {
   "cell_type": "markdown",
   "metadata": {},
   "source": [
    "### Single models"
   ]
  },
  {
   "cell_type": "code",
   "execution_count": 4,
   "metadata": {
    "ExecuteTime": {
     "end_time": "2018-03-21T00:05:43.545774Z",
     "start_time": "2018-03-21T00:05:43.544327Z"
    }
   },
   "outputs": [],
   "source": [
    "# FastText"
   ]
  },
  {
   "cell_type": "code",
   "execution_count": 5,
   "metadata": {
    "ExecuteTime": {
     "end_time": "2018-03-21T00:05:43.799649Z",
     "start_time": "2018-03-21T00:05:43.546662Z"
    }
   },
   "outputs": [
    {
     "name": "stdout",
     "output_type": "stream",
     "text": [
      "toxic: 0.07933850891978035\n",
      "severe_toxic: 0.02050739268757332\n",
      "obscene: 0.040153623659924156\n",
      "threat: 0.006984141327248989\n",
      "insult: 0.054676719075161063\n",
      "identity_hate: 0.01836913919754603\n",
      "\n",
      "avg_loss: 0.03667158747787232\n",
      "ROC AUC: 0.9910875692487013\n"
     ]
    }
   ],
   "source": [
    "model0__crawl_300d__emb_drop05__bs256__10f_pred = np.load(file = models_dir+\"model0__crawl_300d__emb_drop05__bs256__10f/X_pred.npy\")\n",
    "model0__crawl_300d__emb_drop05__bs256__10f_test_pred = np.load(file = models_dir+\"model0__crawl_300d__emb_drop05__bs256__10f/test_X_pred.npy\").mean(0)\n",
    "\n",
    "losses = compute_losses(Y, model0__crawl_300d__emb_drop05__bs256__10f_pred, eps=1e-5)\n",
    "for label, label_loss in zip(inx2label, losses):\n",
    "    print(\"{}: {}\".format(label, label_loss))\n",
    "print()\n",
    "loss = sum(losses)/len(losses)\n",
    "auc = metrics.roc_auc_score(Y, model0__crawl_300d__emb_drop05__bs256__10f_pred)\n",
    "print(\"avg_loss: {}\".format(loss))\n",
    "print(\"ROC AUC: {}\".format(auc))"
   ]
  },
  {
   "cell_type": "code",
   "execution_count": 6,
   "metadata": {
    "ExecuteTime": {
     "end_time": "2018-03-21T00:05:44.044209Z",
     "start_time": "2018-03-21T00:05:43.800662Z"
    }
   },
   "outputs": [
    {
     "name": "stdout",
     "output_type": "stream",
     "text": [
      "toxic: 0.08103924908208092\n",
      "severe_toxic: 0.020903291360567698\n",
      "obscene: 0.04161338493812825\n",
      "threat: 0.007510723575262411\n",
      "insult: 0.05593571740127185\n",
      "identity_hate: 0.018765017082118182\n",
      "\n",
      "avg_loss: 0.03762789723990489\n",
      "ROC AUC: 0.9905625848095353\n"
     ]
    }
   ],
   "source": [
    "model1__crawl_300d__emb_drop05__bs256__10f_pred = np.load(file = models_dir+\"model1__crawl_300d__emb_drop05__bs256__10f/X_pred.npy\")\n",
    "model1__crawl_300d__emb_drop05__bs256__10f_test_pred = np.load(file = models_dir+\"model1__crawl_300d__emb_drop05__bs256__10f/test_X_pred.npy\").mean(0)\n",
    "\n",
    "losses = compute_losses(Y, model1__crawl_300d__emb_drop05__bs256__10f_pred, eps=1e-5)\n",
    "for label, label_loss in zip(inx2label, losses):\n",
    "    print(\"{}: {}\".format(label, label_loss))\n",
    "print()\n",
    "loss = sum(losses)/len(losses)\n",
    "auc = metrics.roc_auc_score(Y, model1__crawl_300d__emb_drop05__bs256__10f_pred)\n",
    "print(\"avg_loss: {}\".format(loss))\n",
    "print(\"ROC AUC: {}\".format(auc))"
   ]
  },
  {
   "cell_type": "code",
   "execution_count": 7,
   "metadata": {
    "ExecuteTime": {
     "end_time": "2018-03-21T00:05:44.288466Z",
     "start_time": "2018-03-21T00:05:44.045163Z"
    }
   },
   "outputs": [
    {
     "name": "stdout",
     "output_type": "stream",
     "text": [
      "toxic: 0.08199803548989595\n",
      "severe_toxic: 0.021182779661474315\n",
      "obscene: 0.041519026660523\n",
      "threat: 0.007252970761590207\n",
      "insult: 0.05559800788130675\n",
      "identity_hate: 0.01874067749940531\n",
      "\n",
      "avg_loss: 0.03771524965903259\n",
      "ROC AUC: 0.990813388694949\n"
     ]
    }
   ],
   "source": [
    "model2__crawl_300d__emb_drop05__bs256__10f_pred = np.load(file = models_dir+\"model2__crawl_300d__emb_drop05__bs256__10f/X_pred.npy\")\n",
    "model2__crawl_300d__emb_drop05__bs256__10f_test_pred = np.load(file = models_dir+\"model2__crawl_300d__emb_drop05__bs256__10f/test_X_pred.npy\").mean(0)\n",
    "\n",
    "losses = compute_losses(Y, model2__crawl_300d__emb_drop05__bs256__10f_pred, eps=1e-5)\n",
    "for label, label_loss in zip(inx2label, losses):\n",
    "    print(\"{}: {}\".format(label, label_loss))\n",
    "print()\n",
    "loss = sum(losses)/len(losses)\n",
    "auc = metrics.roc_auc_score(Y, model2__crawl_300d__emb_drop05__bs256__10f_pred)\n",
    "print(\"avg_loss: {}\".format(loss))\n",
    "print(\"ROC AUC: {}\".format(auc))"
   ]
  },
  {
   "cell_type": "code",
   "execution_count": 8,
   "metadata": {
    "ExecuteTime": {
     "end_time": "2018-03-21T00:05:44.533111Z",
     "start_time": "2018-03-21T00:05:44.289455Z"
    }
   },
   "outputs": [
    {
     "name": "stdout",
     "output_type": "stream",
     "text": [
      "toxic: 0.07911813424708117\n",
      "severe_toxic: 0.020493040038301404\n",
      "obscene: 0.04062344714633032\n",
      "threat: 0.007112529739452258\n",
      "insult: 0.05442632091565246\n",
      "identity_hate: 0.01835321843083384\n",
      "\n",
      "avg_loss: 0.03668778175294191\n",
      "ROC AUC: 0.9911659724246551\n"
     ]
    }
   ],
   "source": [
    "model3__crawl_300d__emb_drop05__bs256__10f_pred = np.load(file = models_dir+\"model3__crawl_300d__emb_drop05__bs256__10f/X_pred.npy\")\n",
    "model3__crawl_300d__emb_drop05__bs256__10f_test_pred = np.load(file = models_dir+\"model3__crawl_300d__emb_drop05__bs256__10f/test_X_pred.npy\").mean(0)\n",
    "\n",
    "losses = compute_losses(Y, model3__crawl_300d__emb_drop05__bs256__10f_pred, eps=1e-5)\n",
    "for label, label_loss in zip(inx2label, losses):\n",
    "    print(\"{}: {}\".format(label, label_loss))\n",
    "print()\n",
    "loss = sum(losses)/len(losses)\n",
    "auc = metrics.roc_auc_score(Y, model3__crawl_300d__emb_drop05__bs256__10f_pred)\n",
    "print(\"avg_loss: {}\".format(loss))\n",
    "print(\"ROC AUC: {}\".format(auc))"
   ]
  },
  {
   "cell_type": "code",
   "execution_count": 9,
   "metadata": {
    "ExecuteTime": {
     "end_time": "2018-03-21T00:05:44.535523Z",
     "start_time": "2018-03-21T00:05:44.534086Z"
    }
   },
   "outputs": [],
   "source": [
    "# GloVe"
   ]
  },
  {
   "cell_type": "code",
   "execution_count": 10,
   "metadata": {
    "ExecuteTime": {
     "end_time": "2018-03-21T00:05:44.779905Z",
     "start_time": "2018-03-21T00:05:44.536472Z"
    }
   },
   "outputs": [
    {
     "name": "stdout",
     "output_type": "stream",
     "text": [
      "toxic: 0.08035294625525273\n",
      "severe_toxic: 0.020618421875593665\n",
      "obscene: 0.04128548681647777\n",
      "threat: 0.007260983874462711\n",
      "insult: 0.055039769043514125\n",
      "identity_hate: 0.018641315113266804\n",
      "\n",
      "avg_loss: 0.03719982049642797\n",
      "ROC AUC: 0.9908130451768224\n"
     ]
    }
   ],
   "source": [
    "model0__glove_300d__emb_drop05__bs256__10f_pred = np.load(file = models_dir+\"model0__glove_300d__emb_drop05__bs256__10f/X_pred.npy\")\n",
    "model0__glove_300d__emb_drop05__bs256__10f_test_pred = np.load(file = models_dir+\"model0__glove_300d__emb_drop05__bs256__10f/test_X_pred.npy\").mean(0)\n",
    "\n",
    "losses = compute_losses(Y, model0__glove_300d__emb_drop05__bs256__10f_pred, eps=1e-5)\n",
    "for label, label_loss in zip(inx2label, losses):\n",
    "    print(\"{}: {}\".format(label, label_loss))\n",
    "print()\n",
    "loss = sum(losses)/len(losses)\n",
    "auc = metrics.roc_auc_score(Y, model0__glove_300d__emb_drop05__bs256__10f_pred)\n",
    "print(\"avg_loss: {}\".format(loss))\n",
    "print(\"ROC AUC: {}\".format(auc))"
   ]
  },
  {
   "cell_type": "code",
   "execution_count": 11,
   "metadata": {
    "ExecuteTime": {
     "end_time": "2018-03-21T00:05:45.024889Z",
     "start_time": "2018-03-21T00:05:44.780971Z"
    }
   },
   "outputs": [
    {
     "name": "stdout",
     "output_type": "stream",
     "text": [
      "toxic: 0.08219532261372568\n",
      "severe_toxic: 0.02075455930001706\n",
      "obscene: 0.041967462110854226\n",
      "threat: 0.007588925942332469\n",
      "insult: 0.056156124135880135\n",
      "identity_hate: 0.019005052588140114\n",
      "\n",
      "avg_loss: 0.037944574448491614\n",
      "ROC AUC: 0.9902882130480376\n"
     ]
    }
   ],
   "source": [
    "model1__glove_300d__emb_drop05__bs256__10f_pred = np.load(file = models_dir+\"model1__glove_300d__emb_drop05__bs256__10f/X_pred.npy\")\n",
    "model1__glove_300d__emb_drop05__bs256__10f_test_pred = np.load(file = models_dir+\"model1__glove_300d__emb_drop05__bs256__10f/test_X_pred.npy\").mean(0)\n",
    "\n",
    "losses = compute_losses(Y, model1__glove_300d__emb_drop05__bs256__10f_pred, eps=1e-5)\n",
    "for label, label_loss in zip(inx2label, losses):\n",
    "    print(\"{}: {}\".format(label, label_loss))\n",
    "print()\n",
    "loss = sum(losses)/len(losses)\n",
    "auc = metrics.roc_auc_score(Y, model1__glove_300d__emb_drop05__bs256__10f_pred)\n",
    "print(\"avg_loss: {}\".format(loss))\n",
    "print(\"ROC AUC: {}\".format(auc))"
   ]
  },
  {
   "cell_type": "code",
   "execution_count": 12,
   "metadata": {
    "ExecuteTime": {
     "end_time": "2018-03-21T00:05:45.269553Z",
     "start_time": "2018-03-21T00:05:45.025835Z"
    }
   },
   "outputs": [
    {
     "name": "stdout",
     "output_type": "stream",
     "text": [
      "toxic: 0.08236887759561583\n",
      "severe_toxic: 0.021019196555480544\n",
      "obscene: 0.04287623138427265\n",
      "threat: 0.00776608372899849\n",
      "insult: 0.05645478219981725\n",
      "identity_hate: 0.01901104241314206\n",
      "\n",
      "avg_loss: 0.038249368979554464\n",
      "ROC AUC: 0.9904216084142267\n"
     ]
    }
   ],
   "source": [
    "model2__glove_300d__emb_drop05__bs256__10f_pred = np.load(file = models_dir+\"model2__glove_300d__emb_drop05__bs256__10f/X_pred.npy\")\n",
    "model2__glove_300d__emb_drop05__bs256__10f_test_pred = np.load(file = models_dir+\"model2__glove_300d__emb_drop05__bs256__10f/test_X_pred.npy\").mean(0)\n",
    "\n",
    "losses = compute_losses(Y, model2__glove_300d__emb_drop05__bs256__10f_pred, eps=1e-5)\n",
    "for label, label_loss in zip(inx2label, losses):\n",
    "    print(\"{}: {}\".format(label, label_loss))\n",
    "print()\n",
    "loss = sum(losses)/len(losses)\n",
    "auc = metrics.roc_auc_score(Y, model2__glove_300d__emb_drop05__bs256__10f_pred)\n",
    "print(\"avg_loss: {}\".format(loss))\n",
    "print(\"ROC AUC: {}\".format(auc))"
   ]
  },
  {
   "cell_type": "code",
   "execution_count": 13,
   "metadata": {
    "ExecuteTime": {
     "end_time": "2018-03-21T00:05:45.514311Z",
     "start_time": "2018-03-21T00:05:45.270533Z"
    }
   },
   "outputs": [
    {
     "name": "stdout",
     "output_type": "stream",
     "text": [
      "toxic: 0.07992852984869715\n",
      "severe_toxic: 0.020504997719629752\n",
      "obscene: 0.04157364441270133\n",
      "threat: 0.007440465332642855\n",
      "insult: 0.055313010792933104\n",
      "identity_hate: 0.018421802424761307\n",
      "\n",
      "avg_loss: 0.03719707508856092\n",
      "ROC AUC: 0.9907451200741724\n"
     ]
    }
   ],
   "source": [
    "model3__glove_300d__emb_drop05__bs256__10f_pred = np.load(file = models_dir+\"model3__glove_300d__emb_drop05__bs256__10f/X_pred.npy\")\n",
    "model3__glove_300d__emb_drop05__bs256__10f_test_pred = np.load(file = models_dir+\"model3__glove_300d__emb_drop05__bs256__10f/test_X_pred.npy\").mean(0)\n",
    "\n",
    "losses = compute_losses(Y, model3__glove_300d__emb_drop05__bs256__10f_pred, eps=1e-5)\n",
    "for label, label_loss in zip(inx2label, losses):\n",
    "    print(\"{}: {}\".format(label, label_loss))\n",
    "print()\n",
    "loss = sum(losses)/len(losses)\n",
    "auc = metrics.roc_auc_score(Y, model3__glove_300d__emb_drop05__bs256__10f_pred)\n",
    "print(\"avg_loss: {}\".format(loss))\n",
    "print(\"ROC AUC: {}\".format(auc))"
   ]
  },
  {
   "cell_type": "code",
   "execution_count": 14,
   "metadata": {
    "ExecuteTime": {
     "end_time": "2018-03-21T00:05:45.759110Z",
     "start_time": "2018-03-21T00:05:45.515379Z"
    }
   },
   "outputs": [
    {
     "name": "stdout",
     "output_type": "stream",
     "text": [
      "toxic: 0.08309953588716147\n",
      "severe_toxic: 0.020766948265267815\n",
      "obscene: 0.04284979890437961\n",
      "threat: 0.007648261594850784\n",
      "insult: 0.05642755537409587\n",
      "identity_hate: 0.01924666681341626\n",
      "\n",
      "avg_loss: 0.0383397944731953\n",
      "ROC AUC: 0.9899530158503688\n"
     ]
    }
   ],
   "source": [
    "# Twitter GloVe\n",
    "model0__glove_twitter_200d__emb_drop05__bs256__10f_pred = np.load(file = models_dir+\"model0__glove_twitter_200d__emb_drop05__bs256__10f/X_pred.npy\")\n",
    "model0__glove_twitter_200d__emb_drop05__bs256__10f_test_pred = np.load(file = models_dir+\"model0__glove_twitter_200d__emb_drop05__bs256__10f/test_X_pred.npy\").mean(0)\n",
    "\n",
    "losses = compute_losses(Y, model0__glove_twitter_200d__emb_drop05__bs256__10f_pred, eps=1e-5)\n",
    "for label, label_loss in zip(inx2label, losses):\n",
    "    print(\"{}: {}\".format(label, label_loss))\n",
    "print()\n",
    "loss = sum(losses)/len(losses)\n",
    "auc = metrics.roc_auc_score(Y, model0__glove_twitter_200d__emb_drop05__bs256__10f_pred)\n",
    "print(\"avg_loss: {}\".format(loss))\n",
    "print(\"ROC AUC: {}\".format(auc))"
   ]
  },
  {
   "cell_type": "code",
   "execution_count": 15,
   "metadata": {
    "ExecuteTime": {
     "end_time": "2018-03-21T00:05:46.004557Z",
     "start_time": "2018-03-21T00:05:45.760111Z"
    }
   },
   "outputs": [
    {
     "name": "stdout",
     "output_type": "stream",
     "text": [
      "toxic: 0.0797265391400044\n",
      "severe_toxic: 0.020511199690609685\n",
      "obscene: 0.039770054544941674\n",
      "threat: 0.007250455427830738\n",
      "insult: 0.05463110275940975\n",
      "identity_hate: 0.018037784672897194\n",
      "\n",
      "avg_loss: 0.0366545227059489\n",
      "ROC AUC: 0.9911913850256058\n"
     ]
    }
   ],
   "source": [
    "# Cleaned FastText with LSTM\n",
    "model0__crawl_300d__emb_drop05__bs256__lstm__prep_improved__10f_pred = np.load(file = models_dir+\"model0__crawl_300d__emb_drop05__lstm__bs256__prep_improved__10f/X_pred.npy\")\n",
    "model0__crawl_300d__emb_drop05__bs256__lstm__prep_improved__10f_test_pred = np.load(file = models_dir+\"model0__crawl_300d__emb_drop05__lstm__bs256__prep_improved__10f/test_X_pred.npy\").mean(0)\n",
    "\n",
    "losses = compute_losses(Y, model0__crawl_300d__emb_drop05__bs256__lstm__prep_improved__10f_pred, eps=1e-5)\n",
    "for label, label_loss in zip(inx2label, losses):\n",
    "    print(\"{}: {}\".format(label, label_loss))\n",
    "print()\n",
    "loss = sum(losses)/len(losses)\n",
    "auc = metrics.roc_auc_score(Y, model0__crawl_300d__emb_drop05__bs256__lstm__prep_improved__10f_pred)\n",
    "print(\"avg_loss: {}\".format(loss))\n",
    "print(\"ROC AUC: {}\".format(auc))"
   ]
  },
  {
   "cell_type": "code",
   "execution_count": 16,
   "metadata": {
    "ExecuteTime": {
     "end_time": "2018-03-21T00:05:46.249441Z",
     "start_time": "2018-03-21T00:05:46.005523Z"
    }
   },
   "outputs": [
    {
     "name": "stdout",
     "output_type": "stream",
     "text": [
      "toxic: 0.07944039559422576\n",
      "severe_toxic: 0.020515672957202063\n",
      "obscene: 0.03962146352749042\n",
      "threat: 0.007319814732001411\n",
      "insult: 0.0543586509202267\n",
      "identity_hate: 0.017916554126198626\n",
      "\n",
      "avg_loss: 0.03652875864289084\n",
      "ROC AUC: 0.9914046708072561\n"
     ]
    }
   ],
   "source": [
    "model1__crawl_300d__emb_drop05__bs256__lstm__prep_improved__10f_pred = np.load(file = models_dir+\"model1__crawl_300d__emb_drop05__lstm__bs256__prep_improved__10f/X_pred.npy\")\n",
    "model1__crawl_300d__emb_drop05__bs256__lstm__prep_improved__10f_test_pred = np.load(file = models_dir+\"model1__crawl_300d__emb_drop05__lstm__bs256__prep_improved__10f/test_X_pred.npy\").mean(0)\n",
    "\n",
    "losses = compute_losses(Y, model1__crawl_300d__emb_drop05__bs256__lstm__prep_improved__10f_pred, eps=1e-5)\n",
    "for label, label_loss in zip(inx2label, losses):\n",
    "    print(\"{}: {}\".format(label, label_loss))\n",
    "print()\n",
    "loss = sum(losses)/len(losses)\n",
    "auc = metrics.roc_auc_score(Y, model1__crawl_300d__emb_drop05__bs256__lstm__prep_improved__10f_pred)\n",
    "print(\"avg_loss: {}\".format(loss))\n",
    "print(\"ROC AUC: {}\".format(auc))"
   ]
  },
  {
   "cell_type": "code",
   "execution_count": 17,
   "metadata": {
    "ExecuteTime": {
     "end_time": "2018-03-21T00:05:46.494079Z",
     "start_time": "2018-03-21T00:05:46.250462Z"
    }
   },
   "outputs": [
    {
     "name": "stdout",
     "output_type": "stream",
     "text": [
      "toxic: 0.08117167622564742\n",
      "severe_toxic: 0.021016662570430156\n",
      "obscene: 0.040910037748633096\n",
      "threat: 0.007378410132439203\n",
      "insult: 0.05556884910628737\n",
      "identity_hate: 0.018129885106219965\n",
      "\n",
      "avg_loss: 0.037362586814942866\n",
      "ROC AUC: 0.9911037766745995\n"
     ]
    }
   ],
   "source": [
    "model2__crawl_300d__emb_drop05__bs256__lstm__prep_improved__10f_pred = np.load(file = models_dir+\"model2__crawl_300d__emb_drop05__lstm__bs256__prep_improved__10f/X_pred.npy\")\n",
    "model2__crawl_300d__emb_drop05__bs256__lstm__prep_improved__10f_test_pred = np.load(file = models_dir+\"model2__crawl_300d__emb_drop05__lstm__bs256__prep_improved__10f/test_X_pred.npy\").mean(0)\n",
    "\n",
    "losses = compute_losses(Y, model2__crawl_300d__emb_drop05__bs256__lstm__prep_improved__10f_pred, eps=1e-5)\n",
    "for label, label_loss in zip(inx2label, losses):\n",
    "    print(\"{}: {}\".format(label, label_loss))\n",
    "print()\n",
    "loss = sum(losses)/len(losses)\n",
    "auc = metrics.roc_auc_score(Y, model2__crawl_300d__emb_drop05__bs256__lstm__prep_improved__10f_pred)\n",
    "print(\"avg_loss: {}\".format(loss))\n",
    "print(\"ROC AUC: {}\".format(auc))"
   ]
  },
  {
   "cell_type": "code",
   "execution_count": 18,
   "metadata": {
    "ExecuteTime": {
     "end_time": "2018-03-21T00:05:55.537121Z",
     "start_time": "2018-03-21T00:05:55.289465Z"
    }
   },
   "outputs": [
    {
     "name": "stdout",
     "output_type": "stream",
     "text": [
      "toxic: 0.08016168183045783\n",
      "severe_toxic: 0.020763795247601476\n",
      "obscene: 0.04050075470853633\n",
      "threat: 0.00808012908809796\n",
      "insult: 0.05512319236234735\n",
      "identity_hate: 0.018611088953756915\n",
      "\n",
      "avg_loss: 0.03720677369846631\n",
      "ROC AUC: 0.9905731062720363\n"
     ]
    }
   ],
   "source": [
    "model3__crawl_300d__emb_drop05__bs256__lstm__prep_improved__10f_pred = np.load(file = models_dir+\"model3__crawl_300d__emb_drop05__lstm__bs256__prep_improved__10f/X_pred.npy\")\n",
    "model3__crawl_300d__emb_drop05__bs256__lstm__prep_improved__10f_test_pred = np.load(file = models_dir+\"model3__crawl_300d__emb_drop05__lstm__bs256__prep_improved__10f/test_X_pred.npy\").mean(0)\n",
    "\n",
    "losses = compute_losses(Y, model3__crawl_300d__emb_drop05__bs256__lstm__prep_improved__10f_pred, eps=1e-5)\n",
    "for label, label_loss in zip(inx2label, losses):\n",
    "    print(\"{}: {}\".format(label, label_loss))\n",
    "print()\n",
    "loss = sum(losses)/len(losses)\n",
    "auc = metrics.roc_auc_score(Y, model3__crawl_300d__emb_drop05__bs256__lstm__prep_improved__10f_pred)\n",
    "print(\"avg_loss: {}\".format(loss))\n",
    "print(\"ROC AUC: {}\".format(auc))"
   ]
  },
  {
   "cell_type": "code",
   "execution_count": 19,
   "metadata": {
    "ExecuteTime": {
     "end_time": "2018-03-21T00:05:56.156931Z",
     "start_time": "2018-03-21T00:05:55.872552Z"
    }
   },
   "outputs": [
    {
     "name": "stdout",
     "output_type": "stream",
     "text": [
      "toxic: 0.0864703304188285\n",
      "severe_toxic: 0.02159730181441485\n",
      "obscene: 0.044479848156986274\n",
      "threat: 0.008093089626683042\n",
      "insult: 0.05754135182548506\n",
      "identity_hate: 0.019501333843765793\n",
      "\n",
      "avg_loss: 0.03961387594769392\n",
      "ROC AUC: 0.9885389399052119\n"
     ]
    }
   ],
   "source": [
    "# Cheng GloVe\n",
    "model0__glove_cheng__emb_drop05__bs256__10f_pred = np.load(file = models_dir+\"model0__glove_cheng__emb_drop05__bs256__10f/X_pred.npy\")\n",
    "model0__glove_cheng__emb_drop05__bs256__10f_test_pred = np.load(file = models_dir+\"model0__glove_cheng__emb_drop05__bs256__10f/test_X_pred.npy\").mean(0)\n",
    "\n",
    "losses = compute_losses(Y, model0__glove_cheng__emb_drop05__bs256__10f_pred, eps=1e-5)\n",
    "for label, label_loss in zip(inx2label, losses):\n",
    "    print(\"{}: {}\".format(label, label_loss))\n",
    "print()\n",
    "loss = sum(losses)/len(losses)\n",
    "auc = metrics.roc_auc_score(Y, model0__glove_cheng__emb_drop05__bs256__10f_pred)\n",
    "print(\"avg_loss: {}\".format(loss))\n",
    "print(\"ROC AUC: {}\".format(auc))"
   ]
  },
  {
   "cell_type": "code",
   "execution_count": 20,
   "metadata": {
    "ExecuteTime": {
     "end_time": "2018-03-21T00:05:56.574701Z",
     "start_time": "2018-03-21T00:05:56.327502Z"
    }
   },
   "outputs": [
    {
     "name": "stdout",
     "output_type": "stream",
     "text": [
      "toxic: 0.07938094467230698\n",
      "severe_toxic: 0.020483551997562684\n",
      "obscene: 0.03929623471383\n",
      "threat: 0.007264340236923514\n",
      "insult: 0.05431800068148828\n",
      "identity_hate: 0.017858548540298856\n",
      "\n",
      "avg_loss: 0.03643360347373505\n",
      "ROC AUC: 0.9912738123690882\n"
     ]
    }
   ],
   "source": [
    "# Cleaned FastText reversed with LSTM\n",
    "model0__crawl_300d__emb_drop05__lstm__bs256__reversed__10f_pred = np.load(file = models_dir+\"model0__crawl_300d__emb_drop05__lstm__bs256__reversed__10f/X_pred.npy\")\n",
    "model0__crawl_300d__emb_drop05__lstm__bs256__reversed__10f_test_pred = np.load(file = models_dir+\"model0__crawl_300d__emb_drop05__lstm__bs256__reversed__10f/test_X_pred.npy\").mean(0)\n",
    "\n",
    "losses = compute_losses(Y, model0__crawl_300d__emb_drop05__lstm__bs256__reversed__10f_pred, eps=1e-5)\n",
    "for label, label_loss in zip(inx2label, losses):\n",
    "    print(\"{}: {}\".format(label, label_loss))\n",
    "print()\n",
    "loss = sum(losses)/len(losses)\n",
    "auc = metrics.roc_auc_score(Y, model0__crawl_300d__emb_drop05__lstm__bs256__reversed__10f_pred)\n",
    "print(\"avg_loss: {}\".format(loss))\n",
    "print(\"ROC AUC: {}\".format(auc))"
   ]
  },
  {
   "cell_type": "code",
   "execution_count": 27,
   "metadata": {
    "ExecuteTime": {
     "end_time": "2018-03-21T00:07:41.955802Z",
     "start_time": "2018-03-21T00:07:41.713378Z"
    }
   },
   "outputs": [
    {
     "name": "stdout",
     "output_type": "stream",
     "text": [
      "toxic: 0.08194954768430021\n",
      "severe_toxic: 0.020689611134480528\n",
      "obscene: 0.04142667690970641\n",
      "threat: 0.008409781480885203\n",
      "insult: 0.05684411050176936\n",
      "identity_hate: 0.019342402387123276\n",
      "\n",
      "avg_loss: 0.0381103550163775\n",
      "ROC AUC: 0.9897012450645938\n"
     ]
    }
   ],
   "source": [
    "model0__crawl_300d__emb_drop03__maxlen500__lstm__att2__bs256__reversed__auc__10f_pred = np.load(file = models_dir+\"model0__crawl_300d__emb_drop03__maxlen500__lstm__att2__bs256__reversed__auc__10f/X_pred.npy\")\n",
    "model0__crawl_300d__emb_drop03__maxlen500__lstm__att2__bs256__reversed__auc__10f_test_pred = np.load(file = models_dir+\"model0__crawl_300d__emb_drop03__maxlen500__lstm__att2__bs256__reversed__auc__10f/test_X_pred.npy\").mean(0)\n",
    "\n",
    "losses = compute_losses(Y, model0__crawl_300d__emb_drop03__maxlen500__lstm__att2__bs256__reversed__auc__10f_pred, eps=1e-5)\n",
    "for label, label_loss in zip(inx2label, losses):\n",
    "    print(\"{}: {}\".format(label, label_loss))\n",
    "print()\n",
    "loss = sum(losses)/len(losses)\n",
    "auc = metrics.roc_auc_score(Y, model0__crawl_300d__emb_drop03__maxlen500__lstm__att2__bs256__reversed__auc__10f_pred)\n",
    "print(\"avg_loss: {}\".format(loss))\n",
    "print(\"ROC AUC: {}\".format(auc))"
   ]
  },
  {
   "cell_type": "code",
   "execution_count": 22,
   "metadata": {
    "ExecuteTime": {
     "end_time": "2018-03-21T00:05:57.221863Z",
     "start_time": "2018-03-21T00:05:56.939399Z"
    }
   },
   "outputs": [
    {
     "name": "stdout",
     "output_type": "stream",
     "text": [
      "toxic: 0.08123190244802368\n",
      "severe_toxic: 0.02074408412612813\n",
      "obscene: 0.04065371664279562\n",
      "threat: 0.007833227988256048\n",
      "insult: 0.05558143337129116\n",
      "identity_hate: 0.018137806657716464\n",
      "\n",
      "avg_loss: 0.037363695205701854\n",
      "ROC AUC: 0.9908748614643358\n"
     ]
    }
   ],
   "source": [
    "model1__crawl_300d__emb_drop05__lstm__bs256__reversed__auc__10f_pred = np.load(file = models_dir+\"model1__crawl_300d__emb_drop05__lstm__bs256__reversed__auc__10f/X_pred.npy\")\n",
    "model1__crawl_300d__emb_drop05__lstm__bs256__reversed__auc__10f_test_pred = np.load(file = models_dir+\"model1__crawl_300d__emb_drop05__lstm__bs256__reversed__auc__10f/test_X_pred.npy\").mean(0)\n",
    "\n",
    "losses = compute_losses(Y, model1__crawl_300d__emb_drop05__lstm__bs256__reversed__auc__10f_pred, eps=1e-5)\n",
    "for label, label_loss in zip(inx2label, losses):\n",
    "    print(\"{}: {}\".format(label, label_loss))\n",
    "print()\n",
    "loss = sum(losses)/len(losses)\n",
    "auc = metrics.roc_auc_score(Y, model1__crawl_300d__emb_drop05__lstm__bs256__reversed__auc__10f_pred)\n",
    "print(\"avg_loss: {}\".format(loss))\n",
    "print(\"ROC AUC: {}\".format(auc))"
   ]
  },
  {
   "cell_type": "code",
   "execution_count": 23,
   "metadata": {
    "ExecuteTime": {
     "end_time": "2018-03-21T00:05:57.671635Z",
     "start_time": "2018-03-21T00:05:57.389824Z"
    }
   },
   "outputs": [
    {
     "name": "stdout",
     "output_type": "stream",
     "text": [
      "toxic: 0.0809880684817023\n",
      "severe_toxic: 0.021074085694026894\n",
      "obscene: 0.040633559205983334\n",
      "threat: 0.007482453314842905\n",
      "insult: 0.05551041705610433\n",
      "identity_hate: 0.01860431284266443\n",
      "\n",
      "avg_loss: 0.03738214943255403\n",
      "ROC AUC: 0.9911771400009615\n"
     ]
    }
   ],
   "source": [
    "model2__crawl_300d__emb_drop05__lstm__bs256__reversed__auc__10f_pred = np.load(file = models_dir+\"model2__crawl_300d__emb_drop05__lstm__bs256__reversed__auc__10f/X_pred.npy\")\n",
    "model2__crawl_300d__emb_drop05__lstm__bs256__reversed__auc__10f_test_pred = np.load(file = models_dir+\"model2__crawl_300d__emb_drop05__lstm__bs256__reversed__auc__10f/test_X_pred.npy\").mean(0)\n",
    "\n",
    "losses = compute_losses(Y, model2__crawl_300d__emb_drop05__lstm__bs256__reversed__auc__10f_pred, eps=1e-5)\n",
    "for label, label_loss in zip(inx2label, losses):\n",
    "    print(\"{}: {}\".format(label, label_loss))\n",
    "print()\n",
    "loss = sum(losses)/len(losses)\n",
    "auc = metrics.roc_auc_score(Y, model2__crawl_300d__emb_drop05__lstm__bs256__reversed__auc__10f_pred)\n",
    "print(\"avg_loss: {}\".format(loss))\n",
    "print(\"ROC AUC: {}\".format(auc))"
   ]
  },
  {
   "cell_type": "code",
   "execution_count": 24,
   "metadata": {
    "ExecuteTime": {
     "end_time": "2018-03-21T00:05:57.836347Z",
     "start_time": "2018-03-21T00:05:57.827730Z"
    }
   },
   "outputs": [],
   "source": [
    "# test_pred = model0__crawl_300d__emb_drop05__bs256__lstm__prep_improved__10f_test_pred\n",
    "# submission_name = \"model10__crawl_300d__emb_drop05__bs256__prep_improved__10f_\"+str(round(loss, 5))+\"_\"+str(round(auc, 5))+'.csv'\n",
    "\n",
    "# sample_submission = pd.read_csv(data_dir + 'sample_submission.csv')\n",
    "# sample_submission[inx2label] = test_pred\n",
    "# sample_submission.to_csv(results_dir+submission_name, index=False)\n",
    "\n",
    "# FileLink(results_dir+submission_name)"
   ]
  },
  {
   "cell_type": "markdown",
   "metadata": {},
   "source": [
    "### Averages of models"
   ]
  },
  {
   "cell_type": "code",
   "execution_count": 25,
   "metadata": {
    "ExecuteTime": {
     "end_time": "2018-03-21T00:06:05.338057Z",
     "start_time": "2018-03-21T00:06:04.690782Z"
    }
   },
   "outputs": [
    {
     "name": "stdout",
     "output_type": "stream",
     "text": [
      "mean\n",
      "toxic: 0.07527144120009235\n",
      "severe_toxic: 0.01994295912588301\n",
      "obscene: 0.03814040708346236\n",
      "threat: 0.006777249535770112\n",
      "insult: 0.05253167026119652\n",
      "identity_hate: 0.017134176714771656\n",
      "\n",
      "avg_loss: 0.034966317320196\n",
      "ROC AUC: 0.992301426727376\n",
      "\n",
      "toxic: 0.9886054307273098\n",
      "severe_toxic: 0.9923586424698772\n",
      "obscene: 0.995440882880161\n",
      "threat: 0.9951616087187971\n",
      "insult: 0.9905347784603403\n",
      "identity_hate: 0.9917072171077704\n",
      "ROC AUC: 0.992301426727376\n",
      "\n"
     ]
    }
   ],
   "source": [
    "# FastText + GloVe + Twitter GloVe + cleaned FastText\n",
    "pred = np.stack([minmax_scale(model0__crawl_300d__emb_drop05__bs256__10f_pred),\n",
    "                 minmax_scale(model1__crawl_300d__emb_drop05__bs256__10f_pred),\n",
    "                 minmax_scale(model2__crawl_300d__emb_drop05__bs256__10f_pred),\n",
    "                 minmax_scale(model3__crawl_300d__emb_drop05__bs256__10f_pred),\n",
    "                 minmax_scale(model0__glove_300d__emb_drop05__bs256__10f_pred),\n",
    "                 minmax_scale(model1__glove_300d__emb_drop05__bs256__10f_pred),\n",
    "                 minmax_scale(model2__glove_300d__emb_drop05__bs256__10f_pred),\n",
    "                 minmax_scale(model3__glove_300d__emb_drop05__bs256__10f_pred),\n",
    "                 minmax_scale(model0__glove_twitter_200d__emb_drop05__bs256__10f_pred),\n",
    "                 minmax_scale(model0__crawl_300d__emb_drop05__bs256__lstm__prep_improved__10f_pred),\n",
    "                 minmax_scale(model1__crawl_300d__emb_drop05__bs256__lstm__prep_improved__10f_pred),\n",
    "                 minmax_scale(model2__crawl_300d__emb_drop05__bs256__lstm__prep_improved__10f_pred),\n",
    "                 minmax_scale(model3__crawl_300d__emb_drop05__bs256__lstm__prep_improved__10f_pred),\n",
    "                 minmax_scale(model0__glove_cheng__emb_drop05__bs256__10f_pred),\n",
    "                 minmax_scale(model0__crawl_300d__emb_drop05__lstm__bs256__reversed__10f_pred),\n",
    "                 minmax_scale(model1__crawl_300d__emb_drop05__lstm__bs256__reversed__auc__10f_pred),\n",
    "                 minmax_scale(model2__crawl_300d__emb_drop05__lstm__bs256__reversed__auc__10f_pred),\n",
    "                 minmax_scale(model0__crawl_300d__emb_drop03__maxlen500__lstm__att2__bs256__reversed__auc__10f_pred)])\n",
    "\n",
    "mean_pred = pred.mean(0)\n",
    "losses = compute_losses(Y, mean_pred, eps=1e-5)\n",
    "print(\"mean\")\n",
    "for label, label_loss in zip(inx2label, losses):\n",
    "    print(\"{}: {}\".format(label, label_loss))\n",
    "print()\n",
    "mean_loss = sum(losses)/len(losses)\n",
    "mean_auc = metrics.roc_auc_score(Y, mean_pred)\n",
    "print(\"avg_loss: {}\".format(mean_loss))\n",
    "print(\"ROC AUC: {}\".format(mean_auc))\n",
    "print()\n",
    "\n",
    "mean_pred = pred.mean(0)\n",
    "auc_by_class = []\n",
    "for i in range(Y.shape[1]):\n",
    "    auc = metrics.roc_auc_score(Y[:,i], mean_pred[:,i])\n",
    "    auc_by_class.append(auc)\n",
    "    print(\"{}: {}\".format(inx2label[i], auc))\n",
    "    \n",
    "mean_auc = np.array(auc_by_class).mean()\n",
    "print(\"ROC AUC: {}\".format(mean_auc))\n",
    "print()\n",
    "\n",
    "# geometric_mean_pred = scipy.stats.mstats.gmean(pred+1e-15)\n",
    "# losses = compute_losses(Y, geometric_mean_pred, eps=1e-5)\n",
    "# print(\"geometric mean\")\n",
    "# for label, label_loss in zip(inx2label, losses):\n",
    "#     print(\"{}: {}\".format(label, label_loss))\n",
    "# print()\n",
    "# gmean_loss = sum(losses)/len(losses)\n",
    "# gmean_auc = metrics.roc_auc_score(Y, geometric_mean_pred)\n",
    "# print(\"avg_loss: {}\".format(gmean_loss))\n",
    "# print(\"ROC AUC: {}\".format(gmean_auc))\n",
    "# print()\n",
    "\n",
    "# harmonic_mean_pred = scipy.stats.mstats.hmean(pred+1e-15)\n",
    "# losses = compute_losses(Y, harmonic_mean_pred, eps=1e-5)\n",
    "# print(\"harmonic mean\")\n",
    "# for label, label_loss in zip(inx2label, losses):\n",
    "#     print(\"{}: {}\".format(label, label_loss))\n",
    "# print()\n",
    "# harmonic_loss = sum(losses)/len(losses)\n",
    "# harmonic_auc = metrics.roc_auc_score(Y, harmonic_mean_pred)\n",
    "# print(\"avg_loss: {}\".format(harmonic_loss))\n",
    "# print(\"ROC AUC: {}\".format(harmonic_auc))\n",
    "# print()"
   ]
  },
  {
   "cell_type": "code",
   "execution_count": 28,
   "metadata": {
    "ExecuteTime": {
     "end_time": "2018-03-21T00:07:46.715085Z",
     "start_time": "2018-03-21T00:07:45.356698Z"
    }
   },
   "outputs": [
    {
     "data": {
      "text/html": [
       "<a href='results/all_models_mean0.03497_0.9923.csv' target='_blank'>results/all_models_mean0.03497_0.9923.csv</a><br>"
      ],
      "text/plain": [
       "/src/DL/skolbachev/toxic/skolbachev/results/all_models_mean0.03497_0.9923.csv"
      ]
     },
     "execution_count": 28,
     "metadata": {},
     "output_type": "execute_result"
    }
   ],
   "source": [
    "test_pred = np.stack([minmax_scale(model0__crawl_300d__emb_drop05__bs256__10f_test_pred),\n",
    "                     minmax_scale(model1__crawl_300d__emb_drop05__bs256__10f_test_pred),\n",
    "                     minmax_scale(model2__crawl_300d__emb_drop05__bs256__10f_test_pred),\n",
    "                     minmax_scale(model3__crawl_300d__emb_drop05__bs256__10f_test_pred),\n",
    "                     minmax_scale(model0__glove_300d__emb_drop05__bs256__10f_test_pred),\n",
    "                     minmax_scale(model1__glove_300d__emb_drop05__bs256__10f_test_pred),\n",
    "                     minmax_scale(model2__glove_300d__emb_drop05__bs256__10f_test_pred),\n",
    "                     minmax_scale(model3__glove_300d__emb_drop05__bs256__10f_test_pred),\n",
    "                     minmax_scale(model0__glove_twitter_200d__emb_drop05__bs256__10f_test_pred),\n",
    "                     minmax_scale(model0__crawl_300d__emb_drop05__bs256__lstm__prep_improved__10f_test_pred),\n",
    "                     minmax_scale(model1__crawl_300d__emb_drop05__bs256__lstm__prep_improved__10f_test_pred),\n",
    "                     minmax_scale(model2__crawl_300d__emb_drop05__bs256__lstm__prep_improved__10f_test_pred),\n",
    "                     minmax_scale(model3__crawl_300d__emb_drop05__bs256__lstm__prep_improved__10f_test_pred),\n",
    "                     minmax_scale(model0__glove_cheng__emb_drop05__bs256__10f_test_pred),\n",
    "                     minmax_scale(model0__crawl_300d__emb_drop05__lstm__bs256__reversed__10f_test_pred),\n",
    "                     minmax_scale(model1__crawl_300d__emb_drop05__lstm__bs256__reversed__auc__10f_test_pred),\n",
    "                     minmax_scale(model2__crawl_300d__emb_drop05__lstm__bs256__reversed__auc__10f_test_pred),\n",
    "                     minmax_scale(model0__crawl_300d__emb_drop03__maxlen500__lstm__att2__bs256__reversed__auc__10f_test_pred)]).mean(0)\n",
    "submission_name = \"all_models_mean\"+str(round(mean_loss, 5))+\"_\"+str(round(mean_auc, 5))+'.csv'\n",
    "\n",
    "sample_submission = pd.read_csv(data_dir + 'sample_submission.csv')\n",
    "sample_submission[inx2label] = test_pred\n",
    "sample_submission.to_csv(results_dir+submission_name, index=False)\n",
    "\n",
    "FileLink(results_dir+submission_name)"
   ]
  },
  {
   "cell_type": "code",
   "execution_count": 18,
   "metadata": {
    "ExecuteTime": {
     "end_time": "2018-03-04T10:39:37.646080Z",
     "start_time": "2018-03-04T10:39:36.267578Z"
    }
   },
   "outputs": [
    {
     "data": {
      "text/html": [
       "<a href='results/geometric_mean__models_0_1_2_3__crawl_300d__glove_300d__emb_drop05__bs256__10f__0.03581_0.99171.csv' target='_blank'>results/geometric_mean__models_0_1_2_3__crawl_300d__glove_300d__emb_drop05__bs256__10f__0.03581_0.99171.csv</a><br>"
      ],
      "text/plain": [
       "/src/DL/skolbachev/toxic/skolbachev/results/geometric_mean__models_0_1_2_3__crawl_300d__glove_300d__emb_drop05__bs256__10f__0.03581_0.99171.csv"
      ]
     },
     "execution_count": 18,
     "metadata": {},
     "output_type": "execute_result"
    }
   ],
   "source": [
    "# test_pred = scipy.stats.mstats.gmean(\n",
    "#     np.stack([minmax_scale(model0__crawl_300d__emb_drop05__bs256__10f_test_pred),\n",
    "#               minmax_scale(model1__crawl_300d__emb_drop05__bs256__10f_test_pred),\n",
    "#               minmax_scale(model2__crawl_300d__emb_drop05__bs256__10f_test_pred),\n",
    "#               minmax_scale(model3__crawl_300d__emb_drop05__bs256__10f_test_pred),\n",
    "#               minmax_scale(model0__glove_300d__emb_drop05__bs256__10f_test_pred),\n",
    "#               minmax_scale(model1__glove_300d__emb_drop05__bs256__10f_test_pred),\n",
    "#               minmax_scale(model2__glove_300d__emb_drop05__bs256__10f_test_pred),\n",
    "#               minmax_scale(model3__glove_300d__emb_drop05__bs256__10f_test_pred)])+1e-15)\n",
    "# submission_name = \"geometric_mean__models_0_1_2_3__crawl_300d__glove_300d__emb_drop05__bs256__10f__\"+str(round(gmean_loss, 5))+\"_\"+str(round(gmean_auc, 5))+'.csv'\n",
    "\n",
    "# sample_submission = pd.read_csv(data_dir + 'sample_submission.csv')\n",
    "# sample_submission[inx2label] = test_pred\n",
    "# sample_submission.to_csv(results_dir+submission_name, index=False)\n",
    "\n",
    "# FileLink(results_dir+submission_name)"
   ]
  },
  {
   "cell_type": "markdown",
   "metadata": {},
   "source": [
    "### Stacking"
   ]
  },
  {
   "cell_type": "code",
   "execution_count": 21,
   "metadata": {
    "ExecuteTime": {
     "end_time": "2018-03-12T06:12:36.032398Z",
     "start_time": "2018-03-12T06:12:35.994097Z"
    }
   },
   "outputs": [
    {
     "name": "stdout",
     "output_type": "stream",
     "text": [
      "mean\n",
      "toxic: 0.07850087374078868\n",
      "severe_toxic: 0.01857617971196556\n",
      "obscene: 0.03799611738311301\n",
      "threat: 0.006255824839167778\n",
      "insult: 0.053828973845202306\n",
      "identity_hate: 0.015188286548076671\n",
      "\n",
      "avg_loss: 0.035057709344719\n",
      "ROC AUC: 0.9923061441818471\n",
      "\n"
     ]
    }
   ],
   "source": [
    "mean_pred = pred[:,val_inx].mean(0)\n",
    "losses = compute_losses(Y[val_inx], mean_pred, eps=1e-5)\n",
    "print(\"mean\")\n",
    "for label, label_loss in zip(inx2label, losses):\n",
    "    print(\"{}: {}\".format(label, label_loss))\n",
    "print()\n",
    "mean_loss = sum(losses)/len(losses)\n",
    "mean_auc = metrics.roc_auc_score(Y[val_inx], mean_pred)\n",
    "print(\"avg_loss: {}\".format(mean_loss))\n",
    "print(\"ROC AUC: {}\".format(mean_auc))\n",
    "print()"
   ]
  },
  {
   "cell_type": "code",
   "execution_count": 44,
   "metadata": {
    "ExecuteTime": {
     "end_time": "2018-03-12T06:26:43.976558Z",
     "start_time": "2018-03-12T06:26:43.916270Z"
    }
   },
   "outputs": [
    {
     "name": "stdout",
     "output_type": "stream",
     "text": [
      "(159571, 66)\n",
      "(153164, 66)\n"
     ]
    }
   ],
   "source": [
    "X = np.concatenate([model0__crawl_300d__emb_drop05__bs256__10f_pred,\n",
    "                    model1__crawl_300d__emb_drop05__bs256__10f_pred,\n",
    "                    model2__crawl_300d__emb_drop05__bs256__10f_pred,\n",
    "                    model3__crawl_300d__emb_drop05__bs256__10f_pred,\n",
    "                    model0__glove_300d__emb_drop05__bs256__10f_pred,\n",
    "                    model1__glove_300d__emb_drop05__bs256__10f_pred,\n",
    "                    model2__glove_300d__emb_drop05__bs256__10f_pred,\n",
    "                    model3__glove_300d__emb_drop05__bs256__10f_pred,\n",
    "                    model0__glove_twitter_200d__emb_drop05__bs256__10f_pred,\n",
    "                    model0__crawl_300d__emb_drop05__bs256__lstm__prep_improved__10f_pred,\n",
    "                    model3__crawl_300d__emb_drop05__bs256__lstm__prep_improved__10f_pred], -1)\n",
    "\n",
    "test_X = np.concatenate([model0__crawl_300d__emb_drop05__bs256__10f_test_pred,\n",
    "                        model1__crawl_300d__emb_drop05__bs256__10f_test_pred,\n",
    "                        model2__crawl_300d__emb_drop05__bs256__10f_test_pred,\n",
    "                        model3__crawl_300d__emb_drop05__bs256__10f_test_pred,\n",
    "                        model0__glove_300d__emb_drop05__bs256__10f_test_pred,\n",
    "                        model1__glove_300d__emb_drop05__bs256__10f_test_pred,\n",
    "                        model2__glove_300d__emb_drop05__bs256__10f_test_pred,\n",
    "                        model3__glove_300d__emb_drop05__bs256__10f_test_pred,\n",
    "                        model0__glove_twitter_200d__emb_drop05__bs256__10f_test_pred,\n",
    "                        model0__crawl_300d__emb_drop05__bs256__lstm__prep_improved__10f_test_pred,\n",
    "                        model3__crawl_300d__emb_drop05__bs256__lstm__prep_improved__10f_test_pred], -1)\n",
    "\n",
    "print(X.shape)\n",
    "print(test_X.shape)"
   ]
  },
  {
   "cell_type": "code",
   "execution_count": 83,
   "metadata": {
    "ExecuteTime": {
     "end_time": "2018-03-12T07:02:48.303585Z",
     "start_time": "2018-03-12T07:02:48.112561Z"
    }
   },
   "outputs": [
    {
     "name": "stdout",
     "output_type": "stream",
     "text": [
      "_________________________________________________________________\n",
      "Layer (type)                 Output Shape              Param #   \n",
      "=================================================================\n",
      "input_14 (InputLayer)        (None, 66)                0         \n",
      "_________________________________________________________________\n",
      "batch_normalization_29 (Batc (None, 66)                264       \n",
      "_________________________________________________________________\n",
      "dropout_27 (Dropout)         (None, 66)                0         \n",
      "_________________________________________________________________\n",
      "dense_34 (Dense)             (None, 256)               17152     \n",
      "_________________________________________________________________\n",
      "batch_normalization_30 (Batc (None, 256)               1024      \n",
      "_________________________________________________________________\n",
      "dropout_28 (Dropout)         (None, 256)               0         \n",
      "_________________________________________________________________\n",
      "dense_35 (Dense)             (None, 256)               65792     \n",
      "_________________________________________________________________\n",
      "batch_normalization_31 (Batc (None, 256)               1024      \n",
      "_________________________________________________________________\n",
      "dropout_29 (Dropout)         (None, 256)               0         \n",
      "_________________________________________________________________\n",
      "dense_36 (Dense)             (None, 6)                 1542      \n",
      "=================================================================\n",
      "Total params: 86,798\n",
      "Trainable params: 85,642\n",
      "Non-trainable params: 1,156\n",
      "_________________________________________________________________\n"
     ]
    }
   ],
   "source": [
    "model_name = 'exp_stacking_model'\n",
    "\n",
    "def getSimpleNNModel(input_shape, output_shape):\n",
    "    x_input = Input(shape=input_shape)\n",
    "    x_feat = x_input\n",
    "    x_feat = BatchNormalization()(x_feat)\n",
    "    x_feat = Dropout(0.1)(x_feat) # Providing higher dropout should increase score \n",
    "\n",
    "    x_feat = Dense(256, activation=\"relu\")(x_feat)\n",
    "#     x_feat = Activation('relu')(x_feat)\n",
    "    x_feat = BatchNormalization()(x_feat)\n",
    "    x_feat = Dropout(0.1)(x_feat)\n",
    "\n",
    "    x_feat = Dense(256, activation=\"relu\")(x_feat)\n",
    "#     x_feat = Activation('relu')(x_feat)\n",
    "    x_feat = BatchNormalization()(x_feat)\n",
    "    x_feat = Dropout(0.1)(x_feat)\n",
    "\n",
    "    x_output = Dense(output_shape, activation='sigmoid')(x_feat)\n",
    "    return Model(inputs=x_input, outputs=x_output)\n",
    "\n",
    "model = getSimpleNNModel((X.shape[1],), Y.shape[1])\n",
    "model.summary()"
   ]
  },
  {
   "cell_type": "code",
   "execution_count": 84,
   "metadata": {
    "ExecuteTime": {
     "end_time": "2018-03-12T07:02:49.744107Z",
     "start_time": "2018-03-12T07:02:49.739781Z"
    }
   },
   "outputs": [],
   "source": [
    "model_checkpoint = ModelCheckpoint(models_dir+model_name+'.h5', monitor='val_loss', mode='min', verbose=1, save_best_only=True)\n",
    "early_stop = EarlyStopping(monitor='val_loss', min_delta=0, patience=6, verbose=1, mode='auto')\n",
    "lr_reduce = ReduceLROnPlateau(monitor='val_loss', factor=0.9, patience=1, min_lr=0.0001, verbose=1)"
   ]
  },
  {
   "cell_type": "code",
   "execution_count": 85,
   "metadata": {
    "ExecuteTime": {
     "end_time": "2018-03-12T07:02:49.774506Z",
     "start_time": "2018-03-12T07:02:49.751100Z"
    }
   },
   "outputs": [],
   "source": [
    "batch_size = 256\n",
    "val_batch_size = 10*1024\n",
    "\n",
    "trn_seq = FeatureSequence(X[trn_inx], Y[trn_inx], batch_size, shuffle=True)\n",
    "val_seq = FeatureSequence(X[val_inx], Y[val_inx], val_batch_size)\n",
    "roc_auc_eval = RocAucEvaluation(X[val_inx], Y[val_inx], batch_size=val_batch_size)"
   ]
  },
  {
   "cell_type": "code",
   "execution_count": 86,
   "metadata": {
    "ExecuteTime": {
     "end_time": "2018-03-12T07:04:14.915800Z",
     "start_time": "2018-03-12T07:02:50.671707Z"
    }
   },
   "outputs": [
    {
     "name": "stdout",
     "output_type": "stream",
     "text": [
      "Epoch 1/40\n",
      "561/561 [==============================] - 3s 5ms/step - loss: 0.3959 - val_loss: 0.1273\n",
      "\n",
      "Epoch 00001: val_loss improved from inf to 0.12727, saving model to models/exp_stacking_model.h5\n",
      "ROC-AUC: 0.90747775\n",
      "\n",
      "\n",
      "Epoch 2/40\n",
      "561/561 [==============================] - 2s 4ms/step - loss: 0.0822 - val_loss: 0.0537\n",
      "\n",
      "Epoch 00002: val_loss improved from 0.12727 to 0.05366, saving model to models/exp_stacking_model.h5\n",
      "ROC-AUC: 0.94937070\n",
      "\n",
      "\n",
      "Epoch 3/40\n",
      "561/561 [==============================] - 3s 6ms/step - loss: 0.0559 - val_loss: 0.0431\n",
      "\n",
      "Epoch 00003: val_loss improved from 0.05366 to 0.04313, saving model to models/exp_stacking_model.h5\n",
      "ROC-AUC: 0.96808720\n",
      "\n",
      "\n",
      "Epoch 4/40\n",
      "561/561 [==============================] - 2s 4ms/step - loss: 0.0494 - val_loss: 0.0402\n",
      "\n",
      "Epoch 00004: val_loss improved from 0.04313 to 0.04023, saving model to models/exp_stacking_model.h5\n",
      "ROC-AUC: 0.98438184\n",
      "\n",
      "\n",
      "Epoch 5/40\n",
      "561/561 [==============================] - 2s 4ms/step - loss: 0.0456 - val_loss: 0.0385\n",
      "\n",
      "Epoch 00005: val_loss improved from 0.04023 to 0.03851, saving model to models/exp_stacking_model.h5\n",
      "ROC-AUC: 0.98306185\n",
      "\n",
      "\n",
      "Epoch 6/40\n",
      "561/561 [==============================] - 4s 7ms/step - loss: 0.0436 - val_loss: 0.0373\n",
      "\n",
      "Epoch 00006: val_loss improved from 0.03851 to 0.03731, saving model to models/exp_stacking_model.h5\n",
      "ROC-AUC: 0.98755074\n",
      "\n",
      "\n",
      "Epoch 7/40\n",
      "561/561 [==============================] - 3s 6ms/step - loss: 0.0421 - val_loss: 0.0369\n",
      "\n",
      "Epoch 00007: val_loss improved from 0.03731 to 0.03688, saving model to models/exp_stacking_model.h5\n",
      "ROC-AUC: 0.98623588\n",
      "\n",
      "\n",
      "Epoch 8/40\n",
      "561/561 [==============================] - 3s 6ms/step - loss: 0.0413 - val_loss: 0.0367\n",
      "\n",
      "Epoch 00008: val_loss improved from 0.03688 to 0.03669, saving model to models/exp_stacking_model.h5\n",
      "ROC-AUC: 0.98659279\n",
      "\n",
      "\n",
      "Epoch 9/40\n",
      "561/561 [==============================] - 4s 6ms/step - loss: 0.0412 - val_loss: 0.0373\n",
      "\n",
      "Epoch 00009: val_loss did not improve\n",
      "ROC-AUC: 0.98671220\n",
      "\n",
      "\n",
      "Epoch 10/40\n",
      "561/561 [==============================] - 3s 5ms/step - loss: 0.0407 - val_loss: 0.0379\n",
      "\n",
      "Epoch 00010: val_loss did not improve\n",
      "ROC-AUC: 0.98917134\n",
      "\n",
      "\n",
      "Epoch 11/40\n",
      "561/561 [==============================] - 2s 4ms/step - loss: 0.0406 - val_loss: 0.0369\n",
      "\n",
      "Epoch 00011: val_loss did not improve\n",
      "ROC-AUC: 0.98532738\n",
      "\n",
      "\n",
      "Epoch 12/40\n",
      "561/561 [==============================] - 3s 5ms/step - loss: 0.0405 - val_loss: 0.0394\n",
      "\n",
      "Epoch 00012: val_loss did not improve\n",
      "ROC-AUC: 0.99111252\n",
      "\n",
      "\n",
      "Epoch 13/40\n",
      "561/561 [==============================] - 2s 4ms/step - loss: 0.0400 - val_loss: 0.0366\n",
      "\n",
      "Epoch 00013: val_loss improved from 0.03669 to 0.03660, saving model to models/exp_stacking_model.h5\n",
      "ROC-AUC: 0.99137049\n",
      "\n",
      "\n",
      "Epoch 14/40\n",
      "561/561 [==============================] - 3s 6ms/step - loss: 0.0396 - val_loss: 0.0366\n",
      "\n",
      "Epoch 00014: val_loss did not improve\n",
      "ROC-AUC: 0.99014635\n",
      "\n",
      "\n",
      "Epoch 15/40\n",
      "561/561 [==============================] - 2s 4ms/step - loss: 0.0387 - val_loss: 0.0362\n",
      "\n",
      "Epoch 00015: val_loss improved from 0.03660 to 0.03624, saving model to models/exp_stacking_model.h5\n",
      "ROC-AUC: 0.98744706\n",
      "\n",
      "\n",
      "Epoch 16/40\n",
      "561/561 [==============================] - 2s 4ms/step - loss: 0.0388 - val_loss: 0.0358\n",
      "\n",
      "Epoch 00016: val_loss improved from 0.03624 to 0.03583, saving model to models/exp_stacking_model.h5\n",
      "ROC-AUC: 0.99011904\n",
      "\n",
      "\n",
      "Epoch 17/40\n",
      "561/561 [==============================] - 3s 5ms/step - loss: 0.0387 - val_loss: 0.0359\n",
      "\n",
      "Epoch 00017: val_loss did not improve\n",
      "ROC-AUC: 0.99004723\n",
      "\n",
      "\n",
      "Epoch 18/40\n",
      "561/561 [==============================] - 3s 5ms/step - loss: 0.0385 - val_loss: 0.0358\n",
      "\n",
      "Epoch 00018: val_loss improved from 0.03583 to 0.03580, saving model to models/exp_stacking_model.h5\n",
      "ROC-AUC: 0.99016786\n",
      "\n",
      "\n",
      "Epoch 19/40\n",
      "561/561 [==============================] - 2s 4ms/step - loss: 0.0385 - val_loss: 0.0377\n",
      "\n",
      "Epoch 00019: val_loss did not improve\n",
      "ROC-AUC: 0.98975619\n",
      "\n",
      "\n",
      "Epoch 20/40\n",
      "561/561 [==============================] - 3s 6ms/step - loss: 0.0384 - val_loss: 0.0364\n",
      "\n",
      "Epoch 00020: val_loss did not improve\n",
      "ROC-AUC: 0.99019687\n",
      "\n",
      "\n",
      "Epoch 21/40\n",
      "561/561 [==============================] - 3s 4ms/step - loss: 0.0383 - val_loss: 0.0370\n",
      "\n",
      "Epoch 00021: val_loss did not improve\n",
      "ROC-AUC: 0.99085553\n",
      "\n",
      "\n",
      "Epoch 22/40\n",
      "561/561 [==============================] - 2s 4ms/step - loss: 0.0381 - val_loss: 0.0362\n",
      "\n",
      "Epoch 00022: val_loss did not improve\n",
      "ROC-AUC: 0.98916590\n",
      "\n",
      "\n",
      "Epoch 23/40\n",
      "561/561 [==============================] - 3s 5ms/step - loss: 0.0380 - val_loss: 0.0357\n",
      "\n",
      "Epoch 00023: val_loss improved from 0.03580 to 0.03569, saving model to models/exp_stacking_model.h5\n",
      "ROC-AUC: 0.99049925\n",
      "\n",
      "\n",
      "Epoch 24/40\n",
      "561/561 [==============================] - 3s 5ms/step - loss: 0.0378 - val_loss: 0.0359\n",
      "\n",
      "Epoch 00024: val_loss did not improve\n",
      "ROC-AUC: 0.99120301\n",
      "\n",
      "\n",
      "Epoch 25/40\n",
      "561/561 [==============================] - 2s 4ms/step - loss: 0.0377 - val_loss: 0.0359\n",
      "\n",
      "Epoch 00025: val_loss did not improve\n",
      "ROC-AUC: 0.99144901\n",
      "\n",
      "\n",
      "Epoch 26/40\n",
      "561/561 [==============================] - 2s 4ms/step - loss: 0.0375 - val_loss: 0.0357\n",
      "\n",
      "Epoch 00026: val_loss did not improve\n",
      "ROC-AUC: 0.98994337\n",
      "\n",
      "\n",
      "Epoch 27/40\n",
      "561/561 [==============================] - 3s 5ms/step - loss: 0.0375 - val_loss: 0.0363\n",
      "\n",
      "Epoch 00027: val_loss did not improve\n",
      "ROC-AUC: 0.99118905\n",
      "\n",
      "\n",
      "Epoch 28/40\n",
      "561/561 [==============================] - 2s 4ms/step - loss: 0.0374 - val_loss: 0.0365\n",
      "\n",
      "Epoch 00028: val_loss did not improve\n",
      "ROC-AUC: 0.98719896\n",
      "\n",
      "\n",
      "Epoch 29/40\n",
      "561/561 [==============================] - 3s 5ms/step - loss: 0.0374 - val_loss: 0.0362\n",
      "\n",
      "Epoch 00029: val_loss did not improve\n",
      "ROC-AUC: 0.98987792\n",
      "\n",
      "\n",
      "Epoch 00029: early stopping\n"
     ]
    },
    {
     "data": {
      "text/plain": [
       "<keras.callbacks.History at 0x7fd80699a320>"
      ]
     },
     "execution_count": 86,
     "metadata": {},
     "output_type": "execute_result"
    }
   ],
   "source": [
    "epochs=40\n",
    "clr = CyclicLR(base_lr=0.0001, max_lr=0.001, step_size=4*len(trn_seq), mode='triangular2')\n",
    "model.compile(loss=\"binary_crossentropy\", optimizer=optimizers.Nadam())\n",
    "# model.compile(loss=art_loss, optimizer=optimizers.Nadam())\n",
    "\n",
    "model.fit_generator(\n",
    "    generator=trn_seq, steps_per_epoch=len(trn_seq),\n",
    "    validation_data=val_seq, validation_steps=len(val_seq),\n",
    "    initial_epoch=0, epochs=epochs, shuffle=False, verbose=1,\n",
    "    callbacks=[model_checkpoint, clr, early_stop, roc_auc_eval],\n",
    "#     callbacks=[model_checkpoint, lr_reduce, early_stop, roc_auc_eval],\n",
    "    use_multiprocessing=False, workers=cpu_cores, max_queue_size=8*cpu_cores)"
   ]
  },
  {
   "cell_type": "code",
   "execution_count": 80,
   "metadata": {
    "ExecuteTime": {
     "end_time": "2018-03-12T07:02:23.984719Z",
     "start_time": "2018-03-12T07:02:22.090579Z"
    }
   },
   "outputs": [],
   "source": [
    "del model\n",
    "model = load_model(models_dir+model_name+'.h5', compile=True, \n",
    "                   custom_objects={'Attention':Attention, 'AttentionWeightedAverage':AttentionWeightedAverage,})"
   ]
  },
  {
   "cell_type": "code",
   "execution_count": 81,
   "metadata": {
    "ExecuteTime": {
     "end_time": "2018-03-12T07:02:24.543012Z",
     "start_time": "2018-03-12T07:02:23.985656Z"
    }
   },
   "outputs": [
    {
     "name": "stdout",
     "output_type": "stream",
     "text": [
      "toxic: 0.07247350948075913\n",
      "severe_toxic: 0.019731247020638908\n",
      "obscene: 0.03758337208276597\n",
      "threat: 0.006515034476806187\n",
      "insult: 0.0511227093887107\n",
      "identity_hate: 0.01682209329888373\n",
      "\n",
      "\n",
      "avg_loss: 0.03404132762476077\n",
      "ROC AUC: 0.9923487535515224\n"
     ]
    }
   ],
   "source": [
    "Y_trn_pred = model.predict(X[trn_inx], batch_size=10*1024, verbose=0)\n",
    "losses = compute_losses(Y[trn_inx], Y_trn_pred, eps=1e-5)\n",
    "for label, label_loss in zip(inx2label, losses):\n",
    "    print(\"{}: {}\".format(label, label_loss))\n",
    "print()\n",
    "\n",
    "trn_loss = sum(losses)/len(losses)\n",
    "trn_auc = metrics.roc_auc_score(Y[trn_inx], Y_trn_pred)\n",
    "\n",
    "print()\n",
    "print(\"avg_loss: {}\".format(trn_loss))\n",
    "print(\"ROC AUC: {}\".format(trn_auc))"
   ]
  },
  {
   "cell_type": "code",
   "execution_count": 82,
   "metadata": {
    "ExecuteTime": {
     "end_time": "2018-03-12T07:02:24.581497Z",
     "start_time": "2018-03-12T07:02:24.544235Z"
    }
   },
   "outputs": [
    {
     "name": "stdout",
     "output_type": "stream",
     "text": [
      "toxic: 0.08270217511127208\n",
      "severe_toxic: 0.018498712257632992\n",
      "obscene: 0.03883483217924231\n",
      "threat: 0.007212961960087428\n",
      "insult: 0.054083887144997816\n",
      "identity_hate: 0.015757508400783448\n",
      "\n",
      "\n",
      "avg_loss: 0.036181679509002675\n",
      "ROC AUC: 0.9908160135331507\n"
     ]
    }
   ],
   "source": [
    "Y_val_pred = model.predict(X[val_inx], batch_size=10*1024, verbose=0)\n",
    "losses = compute_losses(Y[val_inx], Y_val_pred, eps=1e-5)\n",
    "for label, label_loss in zip(inx2label, losses):\n",
    "    print(\"{}: {}\".format(label, label_loss))\n",
    "print()\n",
    "\n",
    "val_loss = sum(losses)/len(losses)\n",
    "val_auc = metrics.roc_auc_score(Y[val_inx], Y_val_pred)\n",
    "\n",
    "print()\n",
    "print(\"avg_loss: {}\".format(val_loss))\n",
    "print(\"ROC AUC: {}\".format(val_auc))"
   ]
  },
  {
   "cell_type": "code",
   "execution_count": null,
   "metadata": {},
   "outputs": [],
   "source": []
  }
 ],
 "metadata": {
  "hide_input": false,
  "kernelspec": {
   "display_name": "Python 3",
   "language": "python",
   "name": "python3"
  },
  "language_info": {
   "codemirror_mode": {
    "name": "ipython",
    "version": 3
   },
   "file_extension": ".py",
   "mimetype": "text/x-python",
   "name": "python",
   "nbconvert_exporter": "python",
   "pygments_lexer": "ipython3",
   "version": "3.5.4"
  },
  "toc": {
   "nav_menu": {},
   "number_sections": true,
   "sideBar": true,
   "skip_h1_title": false,
   "toc_cell": false,
   "toc_position": {},
   "toc_section_display": "block",
   "toc_window_display": false
  }
 },
 "nbformat": 4,
 "nbformat_minor": 2
}
