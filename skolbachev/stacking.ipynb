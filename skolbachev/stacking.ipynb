{
 "cells": [
  {
   "cell_type": "code",
   "execution_count": 1,
   "metadata": {
    "ExecuteTime": {
     "end_time": "2018-02-22T07:41:47.300004Z",
     "start_time": "2018-02-22T07:41:45.705976Z"
    }
   },
   "outputs": [
    {
     "name": "stderr",
     "output_type": "stream",
     "text": [
      "/opt/conda/lib/python3.5/site-packages/h5py/__init__.py:36: FutureWarning: Conversion of the second argument of issubdtype from `float` to `np.floating` is deprecated. In future, it will be treated as `np.float64 == np.dtype(float).type`.\n",
      "  from ._conv import register_converters as _register_converters\n",
      "Using TensorFlow backend.\n"
     ]
    },
    {
     "name": "stdout",
     "output_type": "stream",
     "text": [
      "Seed: 7961730\n"
     ]
    }
   ],
   "source": [
    "from local_utils import *"
   ]
  },
  {
   "cell_type": "code",
   "execution_count": 2,
   "metadata": {
    "ExecuteTime": {
     "end_time": "2018-02-22T07:41:48.190153Z",
     "start_time": "2018-02-22T07:41:47.302262Z"
    }
   },
   "outputs": [],
   "source": [
    "ids, comments, Y, test_ids, test_comments, inx2label, label2inx = load_data()"
   ]
  },
  {
   "cell_type": "code",
   "execution_count": 3,
   "metadata": {
    "ExecuteTime": {
     "end_time": "2018-02-19T18:52:00.181408Z",
     "start_time": "2018-02-19T18:51:59.934366Z"
    }
   },
   "outputs": [
    {
     "name": "stdout",
     "output_type": "stream",
     "text": [
      "avg_loss: 0.0376811615317482\n",
      "ROC AUC: 0.9901153361263012\n"
     ]
    }
   ],
   "source": [
    "biCuDNNGRUx2__crawl_300d__10f__bs256_pred = np.load(file = results_dir+\"biCuDNNGRUx2__crawl_300d__10f__bs256\"+\"_pred.npy\")\n",
    "biCuDNNGRUx2__crawl_300d__10f__bs256_test_pred = np.load(file = results_dir+\"biCuDNNGRUx2__crawl_300d__10f__bs256\"+\"_test_pred.npy\").mean(0)\n",
    "\n",
    "losses = compute_losses(Y, biCuDNNGRUx2__crawl_300d__10f__bs256_pred, eps=1e-5)\n",
    "print(\"avg_loss: {}\".format(sum(losses)/len(losses)))\n",
    "print(\"ROC AUC: {}\".format(metrics.roc_auc_score(Y, biCuDNNGRUx2__crawl_300d__10f__bs256_pred)))"
   ]
  },
  {
   "cell_type": "code",
   "execution_count": 4,
   "metadata": {
    "ExecuteTime": {
     "end_time": "2018-02-19T18:52:00.427442Z",
     "start_time": "2018-02-19T18:52:00.182372Z"
    }
   },
   "outputs": [
    {
     "name": "stdout",
     "output_type": "stream",
     "text": [
      "avg_loss: 0.03805227451549087\n",
      "ROC AUC: 0.990039717212191\n"
     ]
    }
   ],
   "source": [
    "biCuDNNGRUx2__glove_300d__10f__bs256_pred = np.load(file = results_dir+\"biCuDNNGRUx2__glove_300d__10f__bs256\"+\"_pred.npy\")\n",
    "biCuDNNGRUx2__glove_300d__10f__bs256_test_pred = np.load(file = results_dir+\"biCuDNNGRUx2__glove_300d__10f__bs256\"+\"_test_pred.npy\").mean(0)\n",
    "\n",
    "losses = compute_losses(Y, biCuDNNGRUx2__glove_300d__10f__bs256_pred, eps=1e-5)\n",
    "print(\"avg_loss: {}\".format(sum(losses)/len(losses)))\n",
    "print(\"ROC AUC: {}\".format(metrics.roc_auc_score(Y, biCuDNNGRUx2__glove_300d__10f__bs256_pred)))"
   ]
  },
  {
   "cell_type": "code",
   "execution_count": 5,
   "metadata": {
    "ExecuteTime": {
     "end_time": "2018-02-19T18:52:01.171885Z",
     "start_time": "2018-02-19T18:52:00.428489Z"
    }
   },
   "outputs": [
    {
     "name": "stdout",
     "output_type": "stream",
     "text": [
      "avg_loss: 0.03680355941992586\n",
      "ROC AUC: 0.9908420561588418\n",
      "\n",
      "geometric mean\n",
      "avg_loss: 0.03685768879506821\n",
      "ROC AUC: 0.9907977120369411\n",
      "\n",
      "harmonic mean\n",
      "avg_loss: 0.0370644646828918\n",
      "ROC AUC: 0.9905919295899382\n",
      "\n"
     ]
    }
   ],
   "source": [
    "pred = np.stack([biCuDNNGRUx2__crawl_300d__10f__bs256_pred, biCuDNNGRUx2__glove_300d__10f__bs256_pred])\n",
    "\n",
    "mean_pred = pred.mean(0)\n",
    "losses = compute_losses(Y, mean_pred, eps=1e-5)\n",
    "print(\"avg_loss: {}\".format(sum(losses)/len(losses)))\n",
    "print(\"ROC AUC: {}\".format(metrics.roc_auc_score(Y, mean_pred)))\n",
    "print()\n",
    "\n",
    "geometric_mean_pred = scipy.stats.mstats.gmean(pred+1e-15)\n",
    "losses = compute_losses(Y, geometric_mean_pred, eps=1e-5)\n",
    "print(\"geometric mean\")\n",
    "print(\"avg_loss: {}\".format(sum(losses)/len(losses)))\n",
    "print(\"ROC AUC: {}\".format(metrics.roc_auc_score(Y, geometric_mean_pred)))\n",
    "print()\n",
    "\n",
    "harmonic_mean_pred = scipy.stats.mstats.hmean(pred+1e-15)\n",
    "losses = compute_losses(Y, harmonic_mean_pred, eps=1e-5)\n",
    "print(\"harmonic mean\")\n",
    "print(\"avg_loss: {}\".format(sum(losses)/len(losses)))\n",
    "print(\"ROC AUC: {}\".format(metrics.roc_auc_score(Y, harmonic_mean_pred)))\n",
    "print()"
   ]
  },
  {
   "cell_type": "code",
   "execution_count": 6,
   "metadata": {
    "ExecuteTime": {
     "end_time": "2018-02-19T18:52:01.179236Z",
     "start_time": "2018-02-19T18:52:01.172962Z"
    }
   },
   "outputs": [],
   "source": [
    "oof_loss = 0.03680355941992586\n",
    "oof_auc = 0.9908420561588418\n",
    "\n",
    "model_name = \"biCuDNNGRUx2__mean__crawl_300d__glove_300d__10f__bs256\"\n",
    "test_pred = np.stack([biCuDNNGRUx2__crawl_300d__10f__bs256_test_pred, biCuDNNGRUx2__glove_300d__10f__bs256_test_pred]).mean(0)"
   ]
  },
  {
   "cell_type": "code",
   "execution_count": 7,
   "metadata": {
    "ExecuteTime": {
     "end_time": "2018-02-19T18:52:02.334035Z",
     "start_time": "2018-02-19T18:52:01.180393Z"
    }
   },
   "outputs": [
    {
     "data": {
      "text/html": [
       "<a href='results/biCuDNNGRUx2__mean__crawl_300d__glove_300d__10f__bs256__0.036804_0.990842.csv' target='_blank'>results/biCuDNNGRUx2__mean__crawl_300d__glove_300d__10f__bs256__0.036804_0.990842.csv</a><br>"
      ],
      "text/plain": [
       "/src/DL/skolbachev/toxic/results/biCuDNNGRUx2__mean__crawl_300d__glove_300d__10f__bs256__0.036804_0.990842.csv"
      ]
     },
     "execution_count": 7,
     "metadata": {},
     "output_type": "execute_result"
    }
   ],
   "source": [
    "submission_name = model_name+'__'+str(round(oof_loss, 6))+'_'+str(round(oof_auc, 6))+'.csv'\n",
    "\n",
    "sample_submission = pd.read_csv(data_dir + 'sample_submission.csv')\n",
    "sample_submission[inx2label] = test_pred\n",
    "sample_submission.to_csv(results_dir+submission_name, index=False)\n",
    "\n",
    "FileLink(results_dir+submission_name)"
   ]
  },
  {
   "cell_type": "code",
   "execution_count": null,
   "metadata": {},
   "outputs": [],
   "source": []
  }
 ],
 "metadata": {
  "kernelspec": {
   "display_name": "Python 3",
   "language": "python",
   "name": "python3"
  },
  "language_info": {
   "codemirror_mode": {
    "name": "ipython",
    "version": 3
   },
   "file_extension": ".py",
   "mimetype": "text/x-python",
   "name": "python",
   "nbconvert_exporter": "python",
   "pygments_lexer": "ipython3",
   "version": "3.5.4"
  },
  "toc": {
   "nav_menu": {},
   "number_sections": true,
   "sideBar": true,
   "skip_h1_title": false,
   "toc_cell": false,
   "toc_position": {},
   "toc_section_display": "block",
   "toc_window_display": false
  }
 },
 "nbformat": 4,
 "nbformat_minor": 2
}
