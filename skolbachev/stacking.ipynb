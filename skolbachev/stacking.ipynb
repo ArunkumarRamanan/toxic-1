{
 "cells": [
  {
   "cell_type": "code",
   "execution_count": 1,
   "metadata": {
    "ExecuteTime": {
     "end_time": "2018-03-04T10:39:13.499635Z",
     "start_time": "2018-03-04T10:39:12.329000Z"
    }
   },
   "outputs": [
    {
     "name": "stderr",
     "output_type": "stream",
     "text": [
      "/opt/conda/lib/python3.5/site-packages/h5py/__init__.py:36: FutureWarning: Conversion of the second argument of issubdtype from `float` to `np.floating` is deprecated. In future, it will be treated as `np.float64 == np.dtype(float).type`.\n",
      "  from ._conv import register_converters as _register_converters\n",
      "Using TensorFlow backend.\n"
     ]
    },
    {
     "name": "stdout",
     "output_type": "stream",
     "text": [
      "Seed: 7961730\n"
     ]
    }
   ],
   "source": [
    "from local_utils import *\n",
    "from sklearn.preprocessing import minmax_scale"
   ]
  },
  {
   "cell_type": "code",
   "execution_count": 2,
   "metadata": {
    "ExecuteTime": {
     "end_time": "2018-03-04T10:39:14.396991Z",
     "start_time": "2018-03-04T10:39:13.500540Z"
    }
   },
   "outputs": [],
   "source": [
    "ids, comments, Y, test_ids, test_comments, inx2label, label2inx = load_data()"
   ]
  },
  {
   "cell_type": "code",
   "execution_count": 3,
   "metadata": {
    "ExecuteTime": {
     "end_time": "2018-03-04T10:39:14.399433Z",
     "start_time": "2018-03-04T10:39:14.398075Z"
    }
   },
   "outputs": [],
   "source": [
    "# FastText"
   ]
  },
  {
   "cell_type": "code",
   "execution_count": 4,
   "metadata": {
    "ExecuteTime": {
     "end_time": "2018-03-04T10:39:14.659653Z",
     "start_time": "2018-03-04T10:39:14.400312Z"
    }
   },
   "outputs": [
    {
     "name": "stdout",
     "output_type": "stream",
     "text": [
      "avg_loss: 0.03667158747787232\n",
      "ROC AUC: 0.9910875692487013\n"
     ]
    }
   ],
   "source": [
    "model0__crawl_300d__emb_drop05__bs256__10f_pred = np.load(file = models_dir+\"model0__crawl_300d__emb_drop05__bs256__10f/X_pred.npy\")\n",
    "model0__crawl_300d__emb_drop05__bs256__10f_test_pred = np.load(file = models_dir+\"model0__crawl_300d__emb_drop05__bs256__10f/test_X_pred.npy\").mean(0)\n",
    "\n",
    "losses = compute_losses(Y, model0__crawl_300d__emb_drop05__bs256__10f_pred, eps=1e-5)\n",
    "loss = sum(losses)/len(losses)\n",
    "auc = metrics.roc_auc_score(Y, model0__crawl_300d__emb_drop05__bs256__10f_pred)\n",
    "print(\"avg_loss: {}\".format(loss))\n",
    "print(\"ROC AUC: {}\".format(auc))"
   ]
  },
  {
   "cell_type": "code",
   "execution_count": 5,
   "metadata": {
    "ExecuteTime": {
     "end_time": "2018-03-04T10:39:14.909456Z",
     "start_time": "2018-03-04T10:39:14.660653Z"
    }
   },
   "outputs": [
    {
     "name": "stdout",
     "output_type": "stream",
     "text": [
      "avg_loss: 0.03762789723990489\n",
      "ROC AUC: 0.9905625848095353\n"
     ]
    }
   ],
   "source": [
    "model1__crawl_300d__emb_drop05__bs256__10f_pred = np.load(file = models_dir+\"model1__crawl_300d__emb_drop05__bs256__10f/X_pred.npy\")\n",
    "model1__crawl_300d__emb_drop05__bs256__10f_test_pred = np.load(file = models_dir+\"model1__crawl_300d__emb_drop05__bs256__10f/test_X_pred.npy\").mean(0)\n",
    "\n",
    "losses = compute_losses(Y, model1__crawl_300d__emb_drop05__bs256__10f_pred, eps=1e-5)\n",
    "loss = sum(losses)/len(losses)\n",
    "auc = metrics.roc_auc_score(Y, model1__crawl_300d__emb_drop05__bs256__10f_pred)\n",
    "print(\"avg_loss: {}\".format(loss))\n",
    "print(\"ROC AUC: {}\".format(auc))"
   ]
  },
  {
   "cell_type": "code",
   "execution_count": 6,
   "metadata": {
    "ExecuteTime": {
     "end_time": "2018-03-04T10:39:15.159314Z",
     "start_time": "2018-03-04T10:39:14.910417Z"
    }
   },
   "outputs": [
    {
     "name": "stdout",
     "output_type": "stream",
     "text": [
      "avg_loss: 0.03771524965903259\n",
      "ROC AUC: 0.990813388694949\n"
     ]
    }
   ],
   "source": [
    "model2__crawl_300d__emb_drop05__bs256__10f_pred = np.load(file = models_dir+\"model2__crawl_300d__emb_drop05__bs256__10f/X_pred.npy\")\n",
    "model2__crawl_300d__emb_drop05__bs256__10f_test_pred = np.load(file = models_dir+\"model2__crawl_300d__emb_drop05__bs256__10f/test_X_pred.npy\").mean(0)\n",
    "\n",
    "losses = compute_losses(Y, model2__crawl_300d__emb_drop05__bs256__10f_pred, eps=1e-5)\n",
    "loss = sum(losses)/len(losses)\n",
    "auc = metrics.roc_auc_score(Y, model2__crawl_300d__emb_drop05__bs256__10f_pred)\n",
    "print(\"avg_loss: {}\".format(loss))\n",
    "print(\"ROC AUC: {}\".format(auc))"
   ]
  },
  {
   "cell_type": "code",
   "execution_count": 7,
   "metadata": {
    "ExecuteTime": {
     "end_time": "2018-03-04T10:39:15.409328Z",
     "start_time": "2018-03-04T10:39:15.160379Z"
    }
   },
   "outputs": [
    {
     "name": "stdout",
     "output_type": "stream",
     "text": [
      "avg_loss: 0.03668778175294191\n",
      "ROC AUC: 0.9911659724246551\n"
     ]
    }
   ],
   "source": [
    "model3__crawl_300d__emb_drop05__bs256__10f_pred = np.load(file = models_dir+\"model3__crawl_300d__emb_drop05__bs256__10f/X_pred.npy\")\n",
    "model3__crawl_300d__emb_drop05__bs256__10f_test_pred = np.load(file = models_dir+\"model3__crawl_300d__emb_drop05__bs256__10f/test_X_pred.npy\").mean(0)\n",
    "\n",
    "losses = compute_losses(Y, model3__crawl_300d__emb_drop05__bs256__10f_pred, eps=1e-5)\n",
    "loss = sum(losses)/len(losses)\n",
    "auc = metrics.roc_auc_score(Y, model3__crawl_300d__emb_drop05__bs256__10f_pred)\n",
    "print(\"avg_loss: {}\".format(loss))\n",
    "print(\"ROC AUC: {}\".format(auc))"
   ]
  },
  {
   "cell_type": "code",
   "execution_count": 8,
   "metadata": {
    "ExecuteTime": {
     "end_time": "2018-03-04T10:39:15.411712Z",
     "start_time": "2018-03-04T10:39:15.410327Z"
    }
   },
   "outputs": [],
   "source": [
    "# GloVe"
   ]
  },
  {
   "cell_type": "code",
   "execution_count": 9,
   "metadata": {
    "ExecuteTime": {
     "end_time": "2018-03-04T10:39:15.661301Z",
     "start_time": "2018-03-04T10:39:15.412647Z"
    }
   },
   "outputs": [
    {
     "name": "stdout",
     "output_type": "stream",
     "text": [
      "avg_loss: 0.03719982049642797\n",
      "ROC AUC: 0.9908130451768224\n"
     ]
    }
   ],
   "source": [
    "model0__glove_300d__emb_drop05__bs256__10f_pred = np.load(file = models_dir+\"model0__glove_300d__emb_drop05__bs256__10f/X_pred.npy\")\n",
    "model0__glove_300d__emb_drop05__bs256__10f_test_pred = np.load(file = models_dir+\"model0__glove_300d__emb_drop05__bs256__10f/test_X_pred.npy\").mean(0)\n",
    "\n",
    "losses = compute_losses(Y, model0__glove_300d__emb_drop05__bs256__10f_pred, eps=1e-5)\n",
    "loss = sum(losses)/len(losses)\n",
    "auc = metrics.roc_auc_score(Y, model0__glove_300d__emb_drop05__bs256__10f_pred)\n",
    "print(\"avg_loss: {}\".format(loss))\n",
    "print(\"ROC AUC: {}\".format(auc))"
   ]
  },
  {
   "cell_type": "code",
   "execution_count": 10,
   "metadata": {
    "ExecuteTime": {
     "end_time": "2018-03-04T10:39:15.910120Z",
     "start_time": "2018-03-04T10:39:15.662283Z"
    }
   },
   "outputs": [
    {
     "name": "stdout",
     "output_type": "stream",
     "text": [
      "avg_loss: 0.037944574448491614\n",
      "ROC AUC: 0.9902882130480376\n"
     ]
    }
   ],
   "source": [
    "model1__glove_300d__emb_drop05__bs256__10f_pred = np.load(file = models_dir+\"model1__glove_300d__emb_drop05__bs256__10f/X_pred.npy\")\n",
    "model1__glove_300d__emb_drop05__bs256__10f_test_pred = np.load(file = models_dir+\"model1__glove_300d__emb_drop05__bs256__10f/test_X_pred.npy\").mean(0)\n",
    "\n",
    "losses = compute_losses(Y, model1__glove_300d__emb_drop05__bs256__10f_pred, eps=1e-5)\n",
    "loss = sum(losses)/len(losses)\n",
    "auc = metrics.roc_auc_score(Y, model1__glove_300d__emb_drop05__bs256__10f_pred)\n",
    "print(\"avg_loss: {}\".format(loss))\n",
    "print(\"ROC AUC: {}\".format(auc))"
   ]
  },
  {
   "cell_type": "code",
   "execution_count": 11,
   "metadata": {
    "ExecuteTime": {
     "end_time": "2018-03-04T10:39:16.158751Z",
     "start_time": "2018-03-04T10:39:15.911094Z"
    }
   },
   "outputs": [
    {
     "name": "stdout",
     "output_type": "stream",
     "text": [
      "avg_loss: 0.038249368979554464\n",
      "ROC AUC: 0.9904216084142267\n"
     ]
    }
   ],
   "source": [
    "model2__glove_300d__emb_drop05__bs256__10f_pred = np.load(file = models_dir+\"model2__glove_300d__emb_drop05__bs256__10f/X_pred.npy\")\n",
    "model2__glove_300d__emb_drop05__bs256__10f_test_pred = np.load(file = models_dir+\"model2__glove_300d__emb_drop05__bs256__10f/test_X_pred.npy\").mean(0)\n",
    "\n",
    "losses = compute_losses(Y, model2__glove_300d__emb_drop05__bs256__10f_pred, eps=1e-5)\n",
    "loss = sum(losses)/len(losses)\n",
    "auc = metrics.roc_auc_score(Y, model2__glove_300d__emb_drop05__bs256__10f_pred)\n",
    "print(\"avg_loss: {}\".format(loss))\n",
    "print(\"ROC AUC: {}\".format(auc))"
   ]
  },
  {
   "cell_type": "code",
   "execution_count": 12,
   "metadata": {
    "ExecuteTime": {
     "end_time": "2018-03-04T10:39:16.988956Z",
     "start_time": "2018-03-04T10:39:16.705173Z"
    }
   },
   "outputs": [
    {
     "name": "stdout",
     "output_type": "stream",
     "text": [
      "avg_loss: 0.03719707508856092\n",
      "ROC AUC: 0.9907451200741724\n"
     ]
    }
   ],
   "source": [
    "model3__glove_300d__emb_drop05__bs256__10f_pred = np.load(file = models_dir+\"model3__glove_300d__emb_drop05__bs256__10f/X_pred.npy\")\n",
    "model3__glove_300d__emb_drop05__bs256__10f_test_pred = np.load(file = models_dir+\"model3__glove_300d__emb_drop05__bs256__10f/test_X_pred.npy\").mean(0)\n",
    "\n",
    "losses = compute_losses(Y, model3__glove_300d__emb_drop05__bs256__10f_pred, eps=1e-5)\n",
    "loss = sum(losses)/len(losses)\n",
    "auc = metrics.roc_auc_score(Y, model3__glove_300d__emb_drop05__bs256__10f_pred)\n",
    "print(\"avg_loss: {}\".format(loss))\n",
    "print(\"ROC AUC: {}\".format(auc))"
   ]
  },
  {
   "cell_type": "code",
   "execution_count": 13,
   "metadata": {
    "ExecuteTime": {
     "end_time": "2018-03-04T10:39:19.263651Z",
     "start_time": "2018-03-04T10:39:19.255606Z"
    }
   },
   "outputs": [],
   "source": [
    "# test_pred = model1__crawl_300d__emb_drop05__bs256__10f_test_pred\n",
    "# submission_name = \"model1__crawl_300d__emb_drop05__bs256__10f__\"+str(round(loss, 5))+\"_\"+str(round(auc, 5))+'.csv'\n",
    "\n",
    "# sample_submission = pd.read_csv(data_dir + 'sample_submission.csv')\n",
    "# sample_submission[inx2label] = test_pred\n",
    "# sample_submission.to_csv(results_dir+submission_name, index=False)\n",
    "\n",
    "# FileLink(results_dir+submission_name)"
   ]
  },
  {
   "cell_type": "code",
   "execution_count": 14,
   "metadata": {
    "ExecuteTime": {
     "end_time": "2018-03-04T10:39:22.307003Z",
     "start_time": "2018-03-04T10:39:21.460960Z"
    }
   },
   "outputs": [
    {
     "name": "stdout",
     "output_type": "stream",
     "text": [
      "mean\n",
      "avg_loss: 0.03593033949195443\n",
      "ROC AUC: 0.9916083114289842\n",
      "\n",
      "geometric mean\n",
      "avg_loss: 0.03601021330065297\n",
      "ROC AUC: 0.991613232833714\n",
      "\n",
      "harmonic mean\n",
      "avg_loss: 0.036237185511848756\n",
      "ROC AUC: 0.9915231891991606\n",
      "\n"
     ]
    }
   ],
   "source": [
    "# FastText\n",
    "pred = np.stack([minmax_scale(model0__crawl_300d__emb_drop05__bs256__10f_pred),\n",
    "                 minmax_scale(model1__crawl_300d__emb_drop05__bs256__10f_pred),\n",
    "                 minmax_scale(model2__crawl_300d__emb_drop05__bs256__10f_pred),\n",
    "                 minmax_scale(model3__crawl_300d__emb_drop05__bs256__10f_pred)])\n",
    "\n",
    "mean_pred = pred.mean(0)\n",
    "losses = compute_losses(Y, mean_pred, eps=1e-5)\n",
    "mean_loss = sum(losses)/len(losses)\n",
    "mean_auc = metrics.roc_auc_score(Y, mean_pred)\n",
    "print(\"mean\")\n",
    "print(\"avg_loss: {}\".format(mean_loss))\n",
    "print(\"ROC AUC: {}\".format(mean_auc))\n",
    "print()\n",
    "\n",
    "geometric_mean_pred = scipy.stats.mstats.gmean(pred+1e-15)\n",
    "losses = compute_losses(Y, geometric_mean_pred, eps=1e-5)\n",
    "gmean_loss = sum(losses)/len(losses)\n",
    "gmean_auc = metrics.roc_auc_score(Y, geometric_mean_pred)\n",
    "print(\"geometric mean\")\n",
    "print(\"avg_loss: {}\".format(gmean_loss))\n",
    "print(\"ROC AUC: {}\".format(gmean_auc))\n",
    "print()\n",
    "\n",
    "harmonic_mean_pred = scipy.stats.mstats.hmean(pred+1e-15)\n",
    "losses = compute_losses(Y, harmonic_mean_pred, eps=1e-5)\n",
    "harmonic_loss = sum(losses)/len(losses)\n",
    "harmonic_auc = metrics.roc_auc_score(Y, harmonic_mean_pred)\n",
    "print(\"harmonic mean\")\n",
    "print(\"avg_loss: {}\".format(harmonic_loss))\n",
    "print(\"ROC AUC: {}\".format(harmonic_auc))\n",
    "print()"
   ]
  },
  {
   "cell_type": "code",
   "execution_count": 15,
   "metadata": {
    "ExecuteTime": {
     "end_time": "2018-03-04T10:39:23.526617Z",
     "start_time": "2018-03-04T10:39:22.653431Z"
    }
   },
   "outputs": [
    {
     "name": "stdout",
     "output_type": "stream",
     "text": [
      "mean\n",
      "avg_loss: 0.03626906692051891\n",
      "ROC AUC: 0.9913446129505831\n",
      "\n",
      "geometric mean\n",
      "avg_loss: 0.03635977376139147\n",
      "ROC AUC: 0.9913359330496853\n",
      "\n",
      "harmonic mean\n",
      "avg_loss: 0.03661056174499124\n",
      "ROC AUC: 0.9912500403150627\n",
      "\n"
     ]
    }
   ],
   "source": [
    "# GloVe\n",
    "pred = np.stack([minmax_scale(model0__glove_300d__emb_drop05__bs256__10f_pred),\n",
    "                 minmax_scale(model1__glove_300d__emb_drop05__bs256__10f_pred),\n",
    "                 minmax_scale(model2__glove_300d__emb_drop05__bs256__10f_pred),\n",
    "                 minmax_scale(model3__glove_300d__emb_drop05__bs256__10f_pred)])\n",
    "\n",
    "mean_pred = pred.mean(0)\n",
    "losses = compute_losses(Y, mean_pred, eps=1e-5)\n",
    "mean_loss = sum(losses)/len(losses)\n",
    "mean_auc = metrics.roc_auc_score(Y, mean_pred)\n",
    "print(\"mean\")\n",
    "print(\"avg_loss: {}\".format(mean_loss))\n",
    "print(\"ROC AUC: {}\".format(mean_auc))\n",
    "print()\n",
    "\n",
    "geometric_mean_pred = scipy.stats.mstats.gmean(pred+1e-15)\n",
    "losses = compute_losses(Y, geometric_mean_pred, eps=1e-5)\n",
    "gmean_loss = sum(losses)/len(losses)\n",
    "gmean_auc = metrics.roc_auc_score(Y, geometric_mean_pred)\n",
    "print(\"geometric mean\")\n",
    "print(\"avg_loss: {}\".format(gmean_loss))\n",
    "print(\"ROC AUC: {}\".format(gmean_auc))\n",
    "print()\n",
    "\n",
    "harmonic_mean_pred = scipy.stats.mstats.hmean(pred+1e-15)\n",
    "losses = compute_losses(Y, harmonic_mean_pred, eps=1e-5)\n",
    "harmonic_loss = sum(losses)/len(losses)\n",
    "harmonic_auc = metrics.roc_auc_score(Y, harmonic_mean_pred)\n",
    "print(\"harmonic mean\")\n",
    "print(\"avg_loss: {}\".format(harmonic_loss))\n",
    "print(\"ROC AUC: {}\".format(harmonic_auc))\n",
    "print()"
   ]
  },
  {
   "cell_type": "code",
   "execution_count": 16,
   "metadata": {
    "ExecuteTime": {
     "end_time": "2018-03-04T10:39:24.510283Z",
     "start_time": "2018-03-04T10:39:23.547776Z"
    }
   },
   "outputs": [
    {
     "name": "stdout",
     "output_type": "stream",
     "text": [
      "mean\n",
      "avg_loss: 0.03567052686064296\n",
      "ROC AUC: 0.991745080033022\n",
      "\n",
      "geometric mean\n",
      "avg_loss: 0.03581365337970681\n",
      "ROC AUC: 0.9917112235343479\n",
      "\n",
      "harmonic mean\n",
      "avg_loss: 0.03619853852839156\n",
      "ROC AUC: 0.9915686146820822\n",
      "\n"
     ]
    }
   ],
   "source": [
    "# FastText + GolVe\n",
    "pred = np.stack([minmax_scale(model0__crawl_300d__emb_drop05__bs256__10f_pred),\n",
    "                 minmax_scale(model1__crawl_300d__emb_drop05__bs256__10f_pred),\n",
    "                 minmax_scale(model2__crawl_300d__emb_drop05__bs256__10f_pred),\n",
    "                 minmax_scale(model3__crawl_300d__emb_drop05__bs256__10f_pred),\n",
    "                 minmax_scale(model0__glove_300d__emb_drop05__bs256__10f_pred),\n",
    "                 minmax_scale(model1__glove_300d__emb_drop05__bs256__10f_pred),\n",
    "                 minmax_scale(model2__glove_300d__emb_drop05__bs256__10f_pred),\n",
    "                 minmax_scale(model3__glove_300d__emb_drop05__bs256__10f_pred)])\n",
    "\n",
    "mean_pred = pred.mean(0)\n",
    "losses = compute_losses(Y, mean_pred, eps=1e-5)\n",
    "mean_loss = sum(losses)/len(losses)\n",
    "mean_auc = metrics.roc_auc_score(Y, mean_pred)\n",
    "print(\"mean\")\n",
    "print(\"avg_loss: {}\".format(mean_loss))\n",
    "print(\"ROC AUC: {}\".format(mean_auc))\n",
    "print()\n",
    "\n",
    "geometric_mean_pred = scipy.stats.mstats.gmean(pred+1e-15)\n",
    "losses = compute_losses(Y, geometric_mean_pred, eps=1e-5)\n",
    "gmean_loss = sum(losses)/len(losses)\n",
    "gmean_auc = metrics.roc_auc_score(Y, geometric_mean_pred)\n",
    "print(\"geometric mean\")\n",
    "print(\"avg_loss: {}\".format(gmean_loss))\n",
    "print(\"ROC AUC: {}\".format(gmean_auc))\n",
    "print()\n",
    "\n",
    "harmonic_mean_pred = scipy.stats.mstats.hmean(pred+1e-15)\n",
    "losses = compute_losses(Y, harmonic_mean_pred, eps=1e-5)\n",
    "harmonic_loss = sum(losses)/len(losses)\n",
    "harmonic_auc = metrics.roc_auc_score(Y, harmonic_mean_pred)\n",
    "print(\"harmonic mean\")\n",
    "print(\"avg_loss: {}\".format(harmonic_loss))\n",
    "print(\"ROC AUC: {}\".format(harmonic_auc))\n",
    "print()"
   ]
  },
  {
   "cell_type": "code",
   "execution_count": 17,
   "metadata": {
    "ExecuteTime": {
     "end_time": "2018-03-04T10:39:28.919168Z",
     "start_time": "2018-03-04T10:39:27.676256Z"
    }
   },
   "outputs": [
    {
     "data": {
      "text/html": [
       "<a href='results/mean__models_0_1_2_3__crawl_300d__glove_300d__emb_drop05__bs256__10f__0.03567_0.99175.csv' target='_blank'>results/mean__models_0_1_2_3__crawl_300d__glove_300d__emb_drop05__bs256__10f__0.03567_0.99175.csv</a><br>"
      ],
      "text/plain": [
       "/src/DL/skolbachev/toxic/skolbachev/results/mean__models_0_1_2_3__crawl_300d__glove_300d__emb_drop05__bs256__10f__0.03567_0.99175.csv"
      ]
     },
     "execution_count": 17,
     "metadata": {},
     "output_type": "execute_result"
    }
   ],
   "source": [
    "test_pred = np.stack([minmax_scale(model0__crawl_300d__emb_drop05__bs256__10f_test_pred),\n",
    "                      minmax_scale(model1__crawl_300d__emb_drop05__bs256__10f_test_pred),\n",
    "                      minmax_scale(model2__crawl_300d__emb_drop05__bs256__10f_test_pred),\n",
    "                      minmax_scale(model3__crawl_300d__emb_drop05__bs256__10f_test_pred),\n",
    "                      minmax_scale(model0__glove_300d__emb_drop05__bs256__10f_test_pred),\n",
    "                      minmax_scale(model1__glove_300d__emb_drop05__bs256__10f_test_pred),\n",
    "                      minmax_scale(model2__glove_300d__emb_drop05__bs256__10f_test_pred),\n",
    "                      minmax_scale(model3__glove_300d__emb_drop05__bs256__10f_test_pred)]).mean(0)\n",
    "submission_name = \"mean__models_0_1_2_3__crawl_300d__glove_300d__emb_drop05__bs256__10f__\"+str(round(mean_loss, 5))+\"_\"+str(round(mean_auc, 5))+'.csv'\n",
    "\n",
    "sample_submission = pd.read_csv(data_dir + 'sample_submission.csv')\n",
    "sample_submission[inx2label] = test_pred\n",
    "sample_submission.to_csv(results_dir+submission_name, index=False)\n",
    "\n",
    "FileLink(results_dir+submission_name)"
   ]
  },
  {
   "cell_type": "code",
   "execution_count": 18,
   "metadata": {
    "ExecuteTime": {
     "end_time": "2018-03-04T10:39:37.646080Z",
     "start_time": "2018-03-04T10:39:36.267578Z"
    }
   },
   "outputs": [
    {
     "data": {
      "text/html": [
       "<a href='results/geometric_mean__models_0_1_2_3__crawl_300d__glove_300d__emb_drop05__bs256__10f__0.03581_0.99171.csv' target='_blank'>results/geometric_mean__models_0_1_2_3__crawl_300d__glove_300d__emb_drop05__bs256__10f__0.03581_0.99171.csv</a><br>"
      ],
      "text/plain": [
       "/src/DL/skolbachev/toxic/skolbachev/results/geometric_mean__models_0_1_2_3__crawl_300d__glove_300d__emb_drop05__bs256__10f__0.03581_0.99171.csv"
      ]
     },
     "execution_count": 18,
     "metadata": {},
     "output_type": "execute_result"
    }
   ],
   "source": [
    "test_pred = scipy.stats.mstats.gmean(\n",
    "    np.stack([minmax_scale(model0__crawl_300d__emb_drop05__bs256__10f_test_pred),\n",
    "              minmax_scale(model1__crawl_300d__emb_drop05__bs256__10f_test_pred),\n",
    "              minmax_scale(model2__crawl_300d__emb_drop05__bs256__10f_test_pred),\n",
    "              minmax_scale(model3__crawl_300d__emb_drop05__bs256__10f_test_pred),\n",
    "              minmax_scale(model0__glove_300d__emb_drop05__bs256__10f_test_pred),\n",
    "              minmax_scale(model1__glove_300d__emb_drop05__bs256__10f_test_pred),\n",
    "              minmax_scale(model2__glove_300d__emb_drop05__bs256__10f_test_pred),\n",
    "              minmax_scale(model3__glove_300d__emb_drop05__bs256__10f_test_pred)])+1e-15)\n",
    "submission_name = \"geometric_mean__models_0_1_2_3__crawl_300d__glove_300d__emb_drop05__bs256__10f__\"+str(round(gmean_loss, 5))+\"_\"+str(round(gmean_auc, 5))+'.csv'\n",
    "\n",
    "sample_submission = pd.read_csv(data_dir + 'sample_submission.csv')\n",
    "sample_submission[inx2label] = test_pred\n",
    "sample_submission.to_csv(results_dir+submission_name, index=False)\n",
    "\n",
    "FileLink(results_dir+submission_name)"
   ]
  },
  {
   "cell_type": "code",
   "execution_count": null,
   "metadata": {},
   "outputs": [],
   "source": []
  }
 ],
 "metadata": {
  "hide_input": false,
  "kernelspec": {
   "display_name": "Python 3",
   "language": "python",
   "name": "python3"
  },
  "language_info": {
   "codemirror_mode": {
    "name": "ipython",
    "version": 3
   },
   "file_extension": ".py",
   "mimetype": "text/x-python",
   "name": "python",
   "nbconvert_exporter": "python",
   "pygments_lexer": "ipython3",
   "version": "3.5.4"
  },
  "toc": {
   "nav_menu": {},
   "number_sections": true,
   "sideBar": true,
   "skip_h1_title": false,
   "toc_cell": false,
   "toc_position": {},
   "toc_section_display": "block",
   "toc_window_display": false
  }
 },
 "nbformat": 4,
 "nbformat_minor": 2
}
