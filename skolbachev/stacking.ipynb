{
 "cells": [
  {
   "cell_type": "code",
   "execution_count": 1,
   "metadata": {
    "ExecuteTime": {
     "end_time": "2018-03-01T14:00:39.535497Z",
     "start_time": "2018-03-01T14:00:37.828378Z"
    }
   },
   "outputs": [
    {
     "name": "stderr",
     "output_type": "stream",
     "text": [
      "/opt/conda/lib/python3.5/site-packages/h5py/__init__.py:36: FutureWarning: Conversion of the second argument of issubdtype from `float` to `np.floating` is deprecated. In future, it will be treated as `np.float64 == np.dtype(float).type`.\n",
      "  from ._conv import register_converters as _register_converters\n",
      "Using TensorFlow backend.\n"
     ]
    },
    {
     "name": "stdout",
     "output_type": "stream",
     "text": [
      "Seed: 7961730\n"
     ]
    }
   ],
   "source": [
    "from local_utils import *"
   ]
  },
  {
   "cell_type": "code",
   "execution_count": 2,
   "metadata": {
    "ExecuteTime": {
     "end_time": "2018-03-01T14:00:40.431107Z",
     "start_time": "2018-03-01T14:00:39.536491Z"
    }
   },
   "outputs": [],
   "source": [
    "ids, comments, Y, test_ids, test_comments, inx2label, label2inx = load_data()"
   ]
  },
  {
   "cell_type": "code",
   "execution_count": 3,
   "metadata": {
    "ExecuteTime": {
     "end_time": "2018-03-01T14:00:43.199035Z",
     "start_time": "2018-03-01T14:00:42.939508Z"
    }
   },
   "outputs": [
    {
     "name": "stdout",
     "output_type": "stream",
     "text": [
      "avg_loss: 0.03667158747787232\n",
      "ROC AUC: 0.9910875692487013\n"
     ]
    }
   ],
   "source": [
    "model0__crawl_300d__emb_drop05__bs256__10f_pred = np.load(file = models_dir+\"model0__crawl_300d__emb_drop05__bs256__10f/X_pred.npy\")\n",
    "model0__crawl_300d__emb_drop05__bs256__10f_test_pred = np.load(file = models_dir+\"model0__crawl_300d__emb_drop05__bs256__10f/test_X_pred.npy\").mean(0)\n",
    "\n",
    "losses = compute_losses(Y, model0__crawl_300d__emb_drop05__bs256__10f_pred, eps=1e-5)\n",
    "loss = sum(losses)/len(losses)\n",
    "auc = metrics.roc_auc_score(Y, model0__crawl_300d__emb_drop05__bs256__10f_pred)\n",
    "print(\"avg_loss: {}\".format(loss))\n",
    "print(\"ROC AUC: {}\".format(auc))"
   ]
  },
  {
   "cell_type": "code",
   "execution_count": 4,
   "metadata": {
    "ExecuteTime": {
     "end_time": "2018-03-01T14:00:44.642132Z",
     "start_time": "2018-03-01T14:00:44.394002Z"
    }
   },
   "outputs": [
    {
     "name": "stdout",
     "output_type": "stream",
     "text": [
      "avg_loss: 0.03771524965903259\n",
      "ROC AUC: 0.990813388694949\n"
     ]
    }
   ],
   "source": [
    "model2__crawl_300d__emb_drop05__bs256__10f_pred = np.load(file = models_dir+\"model2__crawl_300d__emb_drop05__bs256__10f/X_pred.npy\")\n",
    "model2__crawl_300d__emb_drop05__bs256__10f_test_pred = np.load(file = models_dir+\"model2__crawl_300d__emb_drop05__bs256__10f/test_X_pred.npy\").mean(0)\n",
    "\n",
    "losses = compute_losses(Y, model2__crawl_300d__emb_drop05__bs256__10f_pred, eps=1e-5)\n",
    "loss = sum(losses)/len(losses)\n",
    "auc = metrics.roc_auc_score(Y, model2__crawl_300d__emb_drop05__bs256__10f_pred)\n",
    "print(\"avg_loss: {}\".format(loss))\n",
    "print(\"ROC AUC: {}\".format(auc))"
   ]
  },
  {
   "cell_type": "code",
   "execution_count": 5,
   "metadata": {
    "ExecuteTime": {
     "end_time": "2018-03-01T14:00:49.223189Z",
     "start_time": "2018-03-01T14:00:48.466575Z"
    }
   },
   "outputs": [
    {
     "name": "stdout",
     "output_type": "stream",
     "text": [
      "mean\n",
      "avg_loss: 0.03633769445663424\n",
      "ROC AUC: 0.9914245931625513\n",
      "\n",
      "geometric mean\n",
      "avg_loss: 0.03640443513865776\n",
      "ROC AUC: 0.9914022585860978\n",
      "\n",
      "harmonic mean\n",
      "avg_loss: 0.036551924716553184\n",
      "ROC AUC: 0.9913109369326302\n",
      "\n"
     ]
    }
   ],
   "source": [
    "pred = np.stack([model0__crawl_300d__emb_drop05__bs256__10f_pred, model2__crawl_300d__emb_drop05__bs256__10f_pred])\n",
    "\n",
    "mean_pred = pred.mean(0)\n",
    "losses = compute_losses(Y, mean_pred, eps=1e-5)\n",
    "loss = sum(losses)/len(losses)\n",
    "auc = metrics.roc_auc_score(Y, mean_pred)\n",
    "print(\"mean\")\n",
    "print(\"avg_loss: {}\".format(loss))\n",
    "print(\"ROC AUC: {}\".format(auc))\n",
    "print()\n",
    "\n",
    "geometric_mean_pred = scipy.stats.mstats.gmean(pred+1e-15)\n",
    "losses = compute_losses(Y, geometric_mean_pred, eps=1e-5)\n",
    "print(\"geometric mean\")\n",
    "print(\"avg_loss: {}\".format(sum(losses)/len(losses)))\n",
    "print(\"ROC AUC: {}\".format(metrics.roc_auc_score(Y, geometric_mean_pred)))\n",
    "print()\n",
    "\n",
    "harmonic_mean_pred = scipy.stats.mstats.hmean(pred+1e-15)\n",
    "losses = compute_losses(Y, harmonic_mean_pred, eps=1e-5)\n",
    "print(\"harmonic mean\")\n",
    "print(\"avg_loss: {}\".format(sum(losses)/len(losses)))\n",
    "print(\"ROC AUC: {}\".format(metrics.roc_auc_score(Y, harmonic_mean_pred)))\n",
    "print()"
   ]
  },
  {
   "cell_type": "code",
   "execution_count": 8,
   "metadata": {
    "ExecuteTime": {
     "end_time": "2018-03-01T14:02:07.322219Z",
     "start_time": "2018-03-01T14:02:06.175224Z"
    }
   },
   "outputs": [
    {
     "data": {
      "text/html": [
       "<a href='results/mean_model0_model2__crawl_300d__emb_drop05__bs256__10f__0.03634_0.99142.csv' target='_blank'>results/mean_model0_model2__crawl_300d__emb_drop05__bs256__10f__0.03634_0.99142.csv</a><br>"
      ],
      "text/plain": [
       "/src/DL/skolbachev/toxic/skolbachev/results/mean_model0_model2__crawl_300d__emb_drop05__bs256__10f__0.03634_0.99142.csv"
      ]
     },
     "execution_count": 8,
     "metadata": {},
     "output_type": "execute_result"
    }
   ],
   "source": [
    "test_pred = np.stack([model0__crawl_300d__emb_drop05__bs256__10f_test_pred, model2__crawl_300d__emb_drop05__bs256__10f_test_pred]).mean(0)\n",
    "submission_name = \"mean_model0_model2__crawl_300d__emb_drop05__bs256__10f__\"+str(round(loss, 5))+\"_\"+str(round(auc, 5))+'.csv'\n",
    "\n",
    "sample_submission = pd.read_csv(data_dir + 'sample_submission.csv')\n",
    "sample_submission[inx2label] = test_pred\n",
    "sample_submission.to_csv(results_dir+submission_name, index=False)\n",
    "\n",
    "FileLink(results_dir+submission_name)"
   ]
  },
  {
   "cell_type": "code",
   "execution_count": null,
   "metadata": {},
   "outputs": [],
   "source": []
  }
 ],
 "metadata": {
  "kernelspec": {
   "display_name": "Python 3",
   "language": "python",
   "name": "python3"
  },
  "language_info": {
   "codemirror_mode": {
    "name": "ipython",
    "version": 3
   },
   "file_extension": ".py",
   "mimetype": "text/x-python",
   "name": "python",
   "nbconvert_exporter": "python",
   "pygments_lexer": "ipython3",
   "version": "3.5.4"
  },
  "toc": {
   "nav_menu": {},
   "number_sections": true,
   "sideBar": true,
   "skip_h1_title": false,
   "toc_cell": false,
   "toc_position": {},
   "toc_section_display": "block",
   "toc_window_display": false
  }
 },
 "nbformat": 4,
 "nbformat_minor": 2
}
