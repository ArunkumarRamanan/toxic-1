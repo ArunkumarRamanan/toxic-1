{
 "cells": [
  {
   "cell_type": "code",
   "execution_count": 1,
   "metadata": {
    "ExecuteTime": {
     "end_time": "2018-03-12T07:26:58.648198Z",
     "start_time": "2018-03-12T07:26:57.447469Z"
    }
   },
   "outputs": [
    {
     "name": "stderr",
     "output_type": "stream",
     "text": [
      "/opt/conda/lib/python3.5/site-packages/h5py/__init__.py:36: FutureWarning: Conversion of the second argument of issubdtype from `float` to `np.floating` is deprecated. In future, it will be treated as `np.float64 == np.dtype(float).type`.\n",
      "  from ._conv import register_converters as _register_converters\n",
      "Using TensorFlow backend.\n"
     ]
    },
    {
     "name": "stdout",
     "output_type": "stream",
     "text": [
      "Seed: 7961730\n"
     ]
    }
   ],
   "source": [
    "from local_utils import *\n",
    "from sklearn.preprocessing import minmax_scale"
   ]
  },
  {
   "cell_type": "code",
   "execution_count": 2,
   "metadata": {
    "ExecuteTime": {
     "end_time": "2018-03-12T07:26:59.556874Z",
     "start_time": "2018-03-12T07:26:58.649214Z"
    }
   },
   "outputs": [],
   "source": [
    "ids, comments, Y, test_ids, test_comments, inx2label, label2inx = load_data(True)"
   ]
  },
  {
   "cell_type": "code",
   "execution_count": 5,
   "metadata": {
    "ExecuteTime": {
     "end_time": "2018-03-12T07:27:09.574707Z",
     "start_time": "2018-03-12T07:27:09.248558Z"
    }
   },
   "outputs": [
    {
     "name": "stdout",
     "output_type": "stream",
     "text": [
      "train: 159411, valid: 160\n"
     ]
    }
   ],
   "source": [
    "trn_inx, val_inx = stratified_sampling(Y, 0.1, seed)\n",
    "print(\"train: {}, valid: {}\".format(len(trn_inx), len(val_inx)))"
   ]
  },
  {
   "cell_type": "markdown",
   "metadata": {},
   "source": [
    "### Single models"
   ]
  },
  {
   "cell_type": "code",
   "execution_count": 4,
   "metadata": {
    "ExecuteTime": {
     "end_time": "2018-03-12T07:15:56.110935Z",
     "start_time": "2018-03-12T07:15:56.109534Z"
    }
   },
   "outputs": [],
   "source": [
    "# FastText"
   ]
  },
  {
   "cell_type": "code",
   "execution_count": 5,
   "metadata": {
    "ExecuteTime": {
     "end_time": "2018-03-12T07:15:56.563590Z",
     "start_time": "2018-03-12T07:15:56.278026Z"
    }
   },
   "outputs": [
    {
     "name": "stdout",
     "output_type": "stream",
     "text": [
      "toxic: 0.07933850891978035\n",
      "severe_toxic: 0.02050739268757332\n",
      "obscene: 0.040153623659924156\n",
      "threat: 0.006984141327248989\n",
      "insult: 0.054676719075161063\n",
      "identity_hate: 0.01836913919754603\n",
      "\n",
      "avg_loss: 0.03667158747787232\n",
      "ROC AUC: 0.9910875692487013\n"
     ]
    }
   ],
   "source": [
    "model0__crawl_300d__emb_drop05__bs256__10f_pred = np.load(file = models_dir+\"model0__crawl_300d__emb_drop05__bs256__10f/X_pred.npy\")\n",
    "model0__crawl_300d__emb_drop05__bs256__10f_test_pred = np.load(file = models_dir+\"model0__crawl_300d__emb_drop05__bs256__10f/test_X_pred.npy\").mean(0)\n",
    "\n",
    "losses = compute_losses(Y, model0__crawl_300d__emb_drop05__bs256__10f_pred, eps=1e-5)\n",
    "for label, label_loss in zip(inx2label, losses):\n",
    "    print(\"{}: {}\".format(label, label_loss))\n",
    "print()\n",
    "loss = sum(losses)/len(losses)\n",
    "auc = metrics.roc_auc_score(Y, model0__crawl_300d__emb_drop05__bs256__10f_pred)\n",
    "print(\"avg_loss: {}\".format(loss))\n",
    "print(\"ROC AUC: {}\".format(auc))"
   ]
  },
  {
   "cell_type": "code",
   "execution_count": 6,
   "metadata": {
    "ExecuteTime": {
     "end_time": "2018-03-12T07:15:56.806345Z",
     "start_time": "2018-03-12T07:15:56.564633Z"
    }
   },
   "outputs": [
    {
     "name": "stdout",
     "output_type": "stream",
     "text": [
      "toxic: 0.08103924908208092\n",
      "severe_toxic: 0.020903291360567698\n",
      "obscene: 0.04161338493812825\n",
      "threat: 0.007510723575262411\n",
      "insult: 0.05593571740127185\n",
      "identity_hate: 0.018765017082118182\n",
      "\n",
      "avg_loss: 0.03762789723990489\n",
      "ROC AUC: 0.9905625848095353\n"
     ]
    }
   ],
   "source": [
    "model1__crawl_300d__emb_drop05__bs256__10f_pred = np.load(file = models_dir+\"model1__crawl_300d__emb_drop05__bs256__10f/X_pred.npy\")\n",
    "model1__crawl_300d__emb_drop05__bs256__10f_test_pred = np.load(file = models_dir+\"model1__crawl_300d__emb_drop05__bs256__10f/test_X_pred.npy\").mean(0)\n",
    "\n",
    "losses = compute_losses(Y, model1__crawl_300d__emb_drop05__bs256__10f_pred, eps=1e-5)\n",
    "for label, label_loss in zip(inx2label, losses):\n",
    "    print(\"{}: {}\".format(label, label_loss))\n",
    "print()\n",
    "loss = sum(losses)/len(losses)\n",
    "auc = metrics.roc_auc_score(Y, model1__crawl_300d__emb_drop05__bs256__10f_pred)\n",
    "print(\"avg_loss: {}\".format(loss))\n",
    "print(\"ROC AUC: {}\".format(auc))"
   ]
  },
  {
   "cell_type": "code",
   "execution_count": 7,
   "metadata": {
    "ExecuteTime": {
     "end_time": "2018-03-12T07:15:57.049074Z",
     "start_time": "2018-03-12T07:15:56.807345Z"
    }
   },
   "outputs": [
    {
     "name": "stdout",
     "output_type": "stream",
     "text": [
      "toxic: 0.08199803548989595\n",
      "severe_toxic: 0.021182779661474315\n",
      "obscene: 0.041519026660523\n",
      "threat: 0.007252970761590207\n",
      "insult: 0.05559800788130675\n",
      "identity_hate: 0.01874067749940531\n",
      "\n",
      "avg_loss: 0.03771524965903259\n",
      "ROC AUC: 0.990813388694949\n"
     ]
    }
   ],
   "source": [
    "model2__crawl_300d__emb_drop05__bs256__10f_pred = np.load(file = models_dir+\"model2__crawl_300d__emb_drop05__bs256__10f/X_pred.npy\")\n",
    "model2__crawl_300d__emb_drop05__bs256__10f_test_pred = np.load(file = models_dir+\"model2__crawl_300d__emb_drop05__bs256__10f/test_X_pred.npy\").mean(0)\n",
    "\n",
    "losses = compute_losses(Y, model2__crawl_300d__emb_drop05__bs256__10f_pred, eps=1e-5)\n",
    "for label, label_loss in zip(inx2label, losses):\n",
    "    print(\"{}: {}\".format(label, label_loss))\n",
    "print()\n",
    "loss = sum(losses)/len(losses)\n",
    "auc = metrics.roc_auc_score(Y, model2__crawl_300d__emb_drop05__bs256__10f_pred)\n",
    "print(\"avg_loss: {}\".format(loss))\n",
    "print(\"ROC AUC: {}\".format(auc))"
   ]
  },
  {
   "cell_type": "code",
   "execution_count": 8,
   "metadata": {
    "ExecuteTime": {
     "end_time": "2018-03-12T07:15:57.375749Z",
     "start_time": "2018-03-12T07:15:57.115982Z"
    }
   },
   "outputs": [
    {
     "name": "stdout",
     "output_type": "stream",
     "text": [
      "toxic: 0.07911813424708117\n",
      "severe_toxic: 0.020493040038301404\n",
      "obscene: 0.04062344714633032\n",
      "threat: 0.007112529739452258\n",
      "insult: 0.05442632091565246\n",
      "identity_hate: 0.01835321843083384\n",
      "\n",
      "avg_loss: 0.03668778175294191\n",
      "ROC AUC: 0.9911659724246551\n"
     ]
    }
   ],
   "source": [
    "model3__crawl_300d__emb_drop05__bs256__10f_pred = np.load(file = models_dir+\"model3__crawl_300d__emb_drop05__bs256__10f/X_pred.npy\")\n",
    "model3__crawl_300d__emb_drop05__bs256__10f_test_pred = np.load(file = models_dir+\"model3__crawl_300d__emb_drop05__bs256__10f/test_X_pred.npy\").mean(0)\n",
    "\n",
    "losses = compute_losses(Y, model3__crawl_300d__emb_drop05__bs256__10f_pred, eps=1e-5)\n",
    "for label, label_loss in zip(inx2label, losses):\n",
    "    print(\"{}: {}\".format(label, label_loss))\n",
    "print()\n",
    "loss = sum(losses)/len(losses)\n",
    "auc = metrics.roc_auc_score(Y, model3__crawl_300d__emb_drop05__bs256__10f_pred)\n",
    "print(\"avg_loss: {}\".format(loss))\n",
    "print(\"ROC AUC: {}\".format(auc))"
   ]
  },
  {
   "cell_type": "code",
   "execution_count": 9,
   "metadata": {
    "ExecuteTime": {
     "end_time": "2018-03-12T07:15:59.772864Z",
     "start_time": "2018-03-12T07:15:59.768007Z"
    }
   },
   "outputs": [],
   "source": [
    "# GloVe"
   ]
  },
  {
   "cell_type": "code",
   "execution_count": 10,
   "metadata": {
    "ExecuteTime": {
     "end_time": "2018-03-12T07:16:00.315774Z",
     "start_time": "2018-03-12T07:16:00.071817Z"
    }
   },
   "outputs": [
    {
     "name": "stdout",
     "output_type": "stream",
     "text": [
      "toxic: 0.08035294625525273\n",
      "severe_toxic: 0.020618421875593665\n",
      "obscene: 0.04128548681647777\n",
      "threat: 0.007260983874462711\n",
      "insult: 0.055039769043514125\n",
      "identity_hate: 0.018641315113266804\n",
      "\n",
      "avg_loss: 0.03719982049642797\n",
      "ROC AUC: 0.9908130451768224\n"
     ]
    }
   ],
   "source": [
    "model0__glove_300d__emb_drop05__bs256__10f_pred = np.load(file = models_dir+\"model0__glove_300d__emb_drop05__bs256__10f/X_pred.npy\")\n",
    "model0__glove_300d__emb_drop05__bs256__10f_test_pred = np.load(file = models_dir+\"model0__glove_300d__emb_drop05__bs256__10f/test_X_pred.npy\").mean(0)\n",
    "\n",
    "losses = compute_losses(Y, model0__glove_300d__emb_drop05__bs256__10f_pred, eps=1e-5)\n",
    "for label, label_loss in zip(inx2label, losses):\n",
    "    print(\"{}: {}\".format(label, label_loss))\n",
    "print()\n",
    "loss = sum(losses)/len(losses)\n",
    "auc = metrics.roc_auc_score(Y, model0__glove_300d__emb_drop05__bs256__10f_pred)\n",
    "print(\"avg_loss: {}\".format(loss))\n",
    "print(\"ROC AUC: {}\".format(auc))"
   ]
  },
  {
   "cell_type": "code",
   "execution_count": 11,
   "metadata": {
    "ExecuteTime": {
     "end_time": "2018-03-12T07:16:00.557964Z",
     "start_time": "2018-03-12T07:16:00.316887Z"
    }
   },
   "outputs": [
    {
     "name": "stdout",
     "output_type": "stream",
     "text": [
      "toxic: 0.08219532261372568\n",
      "severe_toxic: 0.02075455930001706\n",
      "obscene: 0.041967462110854226\n",
      "threat: 0.007588925942332469\n",
      "insult: 0.056156124135880135\n",
      "identity_hate: 0.019005052588140114\n",
      "\n",
      "avg_loss: 0.037944574448491614\n",
      "ROC AUC: 0.9902882130480376\n"
     ]
    }
   ],
   "source": [
    "model1__glove_300d__emb_drop05__bs256__10f_pred = np.load(file = models_dir+\"model1__glove_300d__emb_drop05__bs256__10f/X_pred.npy\")\n",
    "model1__glove_300d__emb_drop05__bs256__10f_test_pred = np.load(file = models_dir+\"model1__glove_300d__emb_drop05__bs256__10f/test_X_pred.npy\").mean(0)\n",
    "\n",
    "losses = compute_losses(Y, model1__glove_300d__emb_drop05__bs256__10f_pred, eps=1e-5)\n",
    "for label, label_loss in zip(inx2label, losses):\n",
    "    print(\"{}: {}\".format(label, label_loss))\n",
    "print()\n",
    "loss = sum(losses)/len(losses)\n",
    "auc = metrics.roc_auc_score(Y, model1__glove_300d__emb_drop05__bs256__10f_pred)\n",
    "print(\"avg_loss: {}\".format(loss))\n",
    "print(\"ROC AUC: {}\".format(auc))"
   ]
  },
  {
   "cell_type": "code",
   "execution_count": 12,
   "metadata": {
    "ExecuteTime": {
     "end_time": "2018-03-12T07:16:00.802580Z",
     "start_time": "2018-03-12T07:16:00.559861Z"
    }
   },
   "outputs": [
    {
     "name": "stdout",
     "output_type": "stream",
     "text": [
      "toxic: 0.08236887759561583\n",
      "severe_toxic: 0.021019196555480544\n",
      "obscene: 0.04287623138427265\n",
      "threat: 0.00776608372899849\n",
      "insult: 0.05645478219981725\n",
      "identity_hate: 0.01901104241314206\n",
      "\n",
      "avg_loss: 0.038249368979554464\n",
      "ROC AUC: 0.9904216084142267\n"
     ]
    }
   ],
   "source": [
    "model2__glove_300d__emb_drop05__bs256__10f_pred = np.load(file = models_dir+\"model2__glove_300d__emb_drop05__bs256__10f/X_pred.npy\")\n",
    "model2__glove_300d__emb_drop05__bs256__10f_test_pred = np.load(file = models_dir+\"model2__glove_300d__emb_drop05__bs256__10f/test_X_pred.npy\").mean(0)\n",
    "\n",
    "losses = compute_losses(Y, model2__glove_300d__emb_drop05__bs256__10f_pred, eps=1e-5)\n",
    "for label, label_loss in zip(inx2label, losses):\n",
    "    print(\"{}: {}\".format(label, label_loss))\n",
    "print()\n",
    "loss = sum(losses)/len(losses)\n",
    "auc = metrics.roc_auc_score(Y, model2__glove_300d__emb_drop05__bs256__10f_pred)\n",
    "print(\"avg_loss: {}\".format(loss))\n",
    "print(\"ROC AUC: {}\".format(auc))"
   ]
  },
  {
   "cell_type": "code",
   "execution_count": 13,
   "metadata": {
    "ExecuteTime": {
     "end_time": "2018-03-12T07:16:01.045029Z",
     "start_time": "2018-03-12T07:16:00.803654Z"
    }
   },
   "outputs": [
    {
     "name": "stdout",
     "output_type": "stream",
     "text": [
      "toxic: 0.07992852984869715\n",
      "severe_toxic: 0.020504997719629752\n",
      "obscene: 0.04157364441270133\n",
      "threat: 0.007440465332642855\n",
      "insult: 0.055313010792933104\n",
      "identity_hate: 0.018421802424761307\n",
      "\n",
      "avg_loss: 0.03719707508856092\n",
      "ROC AUC: 0.9907451200741724\n"
     ]
    }
   ],
   "source": [
    "model3__glove_300d__emb_drop05__bs256__10f_pred = np.load(file = models_dir+\"model3__glove_300d__emb_drop05__bs256__10f/X_pred.npy\")\n",
    "model3__glove_300d__emb_drop05__bs256__10f_test_pred = np.load(file = models_dir+\"model3__glove_300d__emb_drop05__bs256__10f/test_X_pred.npy\").mean(0)\n",
    "\n",
    "losses = compute_losses(Y, model3__glove_300d__emb_drop05__bs256__10f_pred, eps=1e-5)\n",
    "for label, label_loss in zip(inx2label, losses):\n",
    "    print(\"{}: {}\".format(label, label_loss))\n",
    "print()\n",
    "loss = sum(losses)/len(losses)\n",
    "auc = metrics.roc_auc_score(Y, model3__glove_300d__emb_drop05__bs256__10f_pred)\n",
    "print(\"avg_loss: {}\".format(loss))\n",
    "print(\"ROC AUC: {}\".format(auc))"
   ]
  },
  {
   "cell_type": "code",
   "execution_count": 14,
   "metadata": {
    "ExecuteTime": {
     "end_time": "2018-03-12T07:16:01.698806Z",
     "start_time": "2018-03-12T07:16:01.454478Z"
    }
   },
   "outputs": [
    {
     "name": "stdout",
     "output_type": "stream",
     "text": [
      "toxic: 0.08309953588716147\n",
      "severe_toxic: 0.020766948265267815\n",
      "obscene: 0.04284979890437961\n",
      "threat: 0.007648261594850784\n",
      "insult: 0.05642755537409587\n",
      "identity_hate: 0.01924666681341626\n",
      "\n",
      "avg_loss: 0.0383397944731953\n",
      "ROC AUC: 0.9899530158503688\n"
     ]
    }
   ],
   "source": [
    "# Twitter GloVe\n",
    "model0__glove_twitter_200d__emb_drop05__bs256__10f_pred = np.load(file = models_dir+\"model0__glove_twitter_200d__emb_drop05__bs256__10f/X_pred.npy\")\n",
    "model0__glove_twitter_200d__emb_drop05__bs256__10f_test_pred = np.load(file = models_dir+\"model0__glove_twitter_200d__emb_drop05__bs256__10f/test_X_pred.npy\").mean(0)\n",
    "\n",
    "losses = compute_losses(Y, model0__glove_twitter_200d__emb_drop05__bs256__10f_pred, eps=1e-5)\n",
    "for label, label_loss in zip(inx2label, losses):\n",
    "    print(\"{}: {}\".format(label, label_loss))\n",
    "print()\n",
    "loss = sum(losses)/len(losses)\n",
    "auc = metrics.roc_auc_score(Y, model0__glove_twitter_200d__emb_drop05__bs256__10f_pred)\n",
    "print(\"avg_loss: {}\".format(loss))\n",
    "print(\"ROC AUC: {}\".format(auc))"
   ]
  },
  {
   "cell_type": "code",
   "execution_count": 15,
   "metadata": {
    "ExecuteTime": {
     "end_time": "2018-03-12T07:16:02.274929Z",
     "start_time": "2018-03-12T07:16:01.994494Z"
    }
   },
   "outputs": [
    {
     "name": "stdout",
     "output_type": "stream",
     "text": [
      "toxic: 0.0797265391400044\n",
      "severe_toxic: 0.020511199690609685\n",
      "obscene: 0.039770054544941674\n",
      "threat: 0.007250455427830738\n",
      "insult: 0.05463110275940975\n",
      "identity_hate: 0.018037784672897194\n",
      "\n",
      "avg_loss: 0.0366545227059489\n",
      "ROC AUC: 0.9911913850256058\n"
     ]
    }
   ],
   "source": [
    "# Cleaned FastText with LSTM\n",
    "model0__crawl_300d__emb_drop05__bs256__lstm__prep_improved__10f_pred = np.load(file = models_dir+\"model0__crawl_300d__emb_drop05__lstm__bs256__prep_improved__10f/X_pred.npy\")\n",
    "model0__crawl_300d__emb_drop05__bs256__lstm__prep_improved__10f_test_pred = np.load(file = models_dir+\"model0__crawl_300d__emb_drop05__lstm__bs256__prep_improved__10f/test_X_pred.npy\").mean(0)\n",
    "\n",
    "losses = compute_losses(Y, model0__crawl_300d__emb_drop05__bs256__lstm__prep_improved__10f_pred, eps=1e-5)\n",
    "for label, label_loss in zip(inx2label, losses):\n",
    "    print(\"{}: {}\".format(label, label_loss))\n",
    "print()\n",
    "loss = sum(losses)/len(losses)\n",
    "auc = metrics.roc_auc_score(Y, model0__crawl_300d__emb_drop05__bs256__lstm__prep_improved__10f_pred)\n",
    "print(\"avg_loss: {}\".format(loss))\n",
    "print(\"ROC AUC: {}\".format(auc))"
   ]
  },
  {
   "cell_type": "code",
   "execution_count": 16,
   "metadata": {
    "ExecuteTime": {
     "end_time": "2018-03-12T07:16:02.848705Z",
     "start_time": "2018-03-12T07:16:02.567999Z"
    }
   },
   "outputs": [
    {
     "name": "stdout",
     "output_type": "stream",
     "text": [
      "toxic: 0.08016168183045783\n",
      "severe_toxic: 0.020763795247601476\n",
      "obscene: 0.04050075470853633\n",
      "threat: 0.00808012908809796\n",
      "insult: 0.05512319236234735\n",
      "identity_hate: 0.018611088953756915\n",
      "\n",
      "avg_loss: 0.03720677369846631\n",
      "ROC AUC: 0.9905731062720363\n"
     ]
    }
   ],
   "source": [
    "model3__crawl_300d__emb_drop05__bs256__lstm__prep_improved__10f_pred = np.load(file = models_dir+\"model3__crawl_300d__emb_drop05__lstm__bs256__prep_improved__10f/X_pred.npy\")\n",
    "model3__crawl_300d__emb_drop05__bs256__lstm__prep_improved__10f_test_pred = np.load(file = models_dir+\"model3__crawl_300d__emb_drop05__lstm__bs256__prep_improved__10f/test_X_pred.npy\").mean(0)\n",
    "\n",
    "losses = compute_losses(Y, model3__crawl_300d__emb_drop05__bs256__lstm__prep_improved__10f_pred, eps=1e-5)\n",
    "for label, label_loss in zip(inx2label, losses):\n",
    "    print(\"{}: {}\".format(label, label_loss))\n",
    "print()\n",
    "loss = sum(losses)/len(losses)\n",
    "auc = metrics.roc_auc_score(Y, model3__crawl_300d__emb_drop05__bs256__lstm__prep_improved__10f_pred)\n",
    "print(\"avg_loss: {}\".format(loss))\n",
    "print(\"ROC AUC: {}\".format(auc))"
   ]
  },
  {
   "cell_type": "code",
   "execution_count": 4,
   "metadata": {
    "ExecuteTime": {
     "end_time": "2018-03-11T06:43:23.646986Z",
     "start_time": "2018-03-11T06:43:22.500725Z"
    }
   },
   "outputs": [
    {
     "data": {
      "text/html": [
       "<a href='results/model10__crawl_300d__emb_drop05__bs256__prep_improved__10f_0.03665_0.99119.csv' target='_blank'>results/model10__crawl_300d__emb_drop05__bs256__prep_improved__10f_0.03665_0.99119.csv</a><br>"
      ],
      "text/plain": [
       "/src/DL/skolbachev/toxic/skolbachev/results/model10__crawl_300d__emb_drop05__bs256__prep_improved__10f_0.03665_0.99119.csv"
      ]
     },
     "execution_count": 4,
     "metadata": {},
     "output_type": "execute_result"
    }
   ],
   "source": [
    "# test_pred = model0__crawl_300d__emb_drop05__bs256__lstm__prep_improved__10f_test_pred\n",
    "# submission_name = \"model10__crawl_300d__emb_drop05__bs256__prep_improved__10f_\"+str(round(loss, 5))+\"_\"+str(round(auc, 5))+'.csv'\n",
    "\n",
    "# sample_submission = pd.read_csv(data_dir + 'sample_submission.csv')\n",
    "# sample_submission[inx2label] = test_pred\n",
    "# sample_submission.to_csv(results_dir+submission_name, index=False)\n",
    "\n",
    "# FileLink(results_dir+submission_name)"
   ]
  },
  {
   "cell_type": "markdown",
   "metadata": {},
   "source": [
    "### Averages of models"
   ]
  },
  {
   "cell_type": "code",
   "execution_count": 17,
   "metadata": {
    "ExecuteTime": {
     "end_time": "2018-03-12T07:16:08.251874Z",
     "start_time": "2018-03-12T07:16:07.421506Z"
    }
   },
   "outputs": [
    {
     "name": "stdout",
     "output_type": "stream",
     "text": [
      "mean\n",
      "toxic: 0.07756946910921646\n",
      "severe_toxic: 0.02029087382546213\n",
      "obscene: 0.039655578978026226\n",
      "threat: 0.006756695159846367\n",
      "insult: 0.05352398126872505\n",
      "identity_hate: 0.01778543861045035\n",
      "\n",
      "avg_loss: 0.03593033949195443\n",
      "ROC AUC: 0.9916083114289842\n",
      "\n",
      "geometric mean\n",
      "toxic: 0.07782410658461357\n",
      "severe_toxic: 0.02027687242264126\n",
      "obscene: 0.03973102126713903\n",
      "threat: 0.006817435970102808\n",
      "insult: 0.05355565187342056\n",
      "identity_hate: 0.01785619168600059\n",
      "\n",
      "avg_loss: 0.03601021330065297\n",
      "ROC AUC: 0.991613232833714\n",
      "\n",
      "harmonic mean\n",
      "toxic: 0.07834982518596835\n",
      "severe_toxic: 0.020315057075977715\n",
      "obscene: 0.03994656500328102\n",
      "threat: 0.006997533839037179\n",
      "insult: 0.053760652581767564\n",
      "identity_hate: 0.018053479385060724\n",
      "\n",
      "avg_loss: 0.036237185511848756\n",
      "ROC AUC: 0.9915231891991606\n",
      "\n"
     ]
    }
   ],
   "source": [
    "# FastText\n",
    "pred = np.stack([minmax_scale(model0__crawl_300d__emb_drop05__bs256__10f_pred),\n",
    "                 minmax_scale(model1__crawl_300d__emb_drop05__bs256__10f_pred),\n",
    "                 minmax_scale(model2__crawl_300d__emb_drop05__bs256__10f_pred),\n",
    "                 minmax_scale(model3__crawl_300d__emb_drop05__bs256__10f_pred)])\n",
    "\n",
    "mean_pred = pred.mean(0)\n",
    "losses = compute_losses(Y, mean_pred, eps=1e-5)\n",
    "print(\"mean\")\n",
    "for label, label_loss in zip(inx2label, losses):\n",
    "    print(\"{}: {}\".format(label, label_loss))\n",
    "print()\n",
    "mean_loss = sum(losses)/len(losses)\n",
    "mean_auc = metrics.roc_auc_score(Y, mean_pred)\n",
    "print(\"avg_loss: {}\".format(mean_loss))\n",
    "print(\"ROC AUC: {}\".format(mean_auc))\n",
    "print()\n",
    "\n",
    "geometric_mean_pred = scipy.stats.mstats.gmean(pred+1e-15)\n",
    "losses = compute_losses(Y, geometric_mean_pred, eps=1e-5)\n",
    "print(\"geometric mean\")\n",
    "for label, label_loss in zip(inx2label, losses):\n",
    "    print(\"{}: {}\".format(label, label_loss))\n",
    "print()\n",
    "gmean_loss = sum(losses)/len(losses)\n",
    "gmean_auc = metrics.roc_auc_score(Y, geometric_mean_pred)\n",
    "print(\"avg_loss: {}\".format(gmean_loss))\n",
    "print(\"ROC AUC: {}\".format(gmean_auc))\n",
    "print()\n",
    "\n",
    "harmonic_mean_pred = scipy.stats.mstats.hmean(pred+1e-15)\n",
    "losses = compute_losses(Y, harmonic_mean_pred, eps=1e-5)\n",
    "print(\"harmonic mean\")\n",
    "for label, label_loss in zip(inx2label, losses):\n",
    "    print(\"{}: {}\".format(label, label_loss))\n",
    "print()\n",
    "harmonic_loss = sum(losses)/len(losses)\n",
    "harmonic_auc = metrics.roc_auc_score(Y, harmonic_mean_pred)\n",
    "print(\"avg_loss: {}\".format(harmonic_loss))\n",
    "print(\"ROC AUC: {}\".format(harmonic_auc))\n",
    "print()"
   ]
  },
  {
   "cell_type": "code",
   "execution_count": 18,
   "metadata": {
    "ExecuteTime": {
     "end_time": "2018-03-12T07:16:09.071733Z",
     "start_time": "2018-03-12T07:16:08.252988Z"
    }
   },
   "outputs": [
    {
     "name": "stdout",
     "output_type": "stream",
     "text": [
      "mean\n",
      "toxic: 0.07811725735733634\n",
      "severe_toxic: 0.02020572847544834\n",
      "obscene: 0.04037986330754317\n",
      "threat: 0.007026458024943191\n",
      "insult: 0.05392814686691484\n",
      "identity_hate: 0.017956947490927563\n",
      "\n",
      "avg_loss: 0.03626906692051891\n",
      "ROC AUC: 0.9913446129505831\n",
      "\n",
      "geometric mean\n",
      "toxic: 0.0783586774167354\n",
      "severe_toxic: 0.020205825248268472\n",
      "obscene: 0.04046596348838576\n",
      "threat: 0.007091187760927748\n",
      "insult: 0.05401853784060797\n",
      "identity_hate: 0.018018450813423476\n",
      "\n",
      "avg_loss: 0.03635977376139147\n",
      "ROC AUC: 0.9913359330496853\n",
      "\n",
      "harmonic mean\n",
      "toxic: 0.07893839249347366\n",
      "severe_toxic: 0.020258396201980104\n",
      "obscene: 0.040691779665398706\n",
      "threat: 0.007275277816552503\n",
      "insult: 0.05428953651504107\n",
      "identity_hate: 0.018209987777501425\n",
      "\n",
      "avg_loss: 0.03661056174499124\n",
      "ROC AUC: 0.9912500403150627\n",
      "\n"
     ]
    }
   ],
   "source": [
    "# GloVe\n",
    "pred = np.stack([minmax_scale(model0__glove_300d__emb_drop05__bs256__10f_pred),\n",
    "                 minmax_scale(model1__glove_300d__emb_drop05__bs256__10f_pred),\n",
    "                 minmax_scale(model2__glove_300d__emb_drop05__bs256__10f_pred),\n",
    "                 minmax_scale(model3__glove_300d__emb_drop05__bs256__10f_pred)])\n",
    "\n",
    "mean_pred = pred.mean(0)\n",
    "losses = compute_losses(Y, mean_pred, eps=1e-5)\n",
    "print(\"mean\")\n",
    "for label, label_loss in zip(inx2label, losses):\n",
    "    print(\"{}: {}\".format(label, label_loss))\n",
    "print()\n",
    "mean_loss = sum(losses)/len(losses)\n",
    "mean_auc = metrics.roc_auc_score(Y, mean_pred)\n",
    "print(\"avg_loss: {}\".format(mean_loss))\n",
    "print(\"ROC AUC: {}\".format(mean_auc))\n",
    "print()\n",
    "\n",
    "geometric_mean_pred = scipy.stats.mstats.gmean(pred+1e-15)\n",
    "losses = compute_losses(Y, geometric_mean_pred, eps=1e-5)\n",
    "print(\"geometric mean\")\n",
    "for label, label_loss in zip(inx2label, losses):\n",
    "    print(\"{}: {}\".format(label, label_loss))\n",
    "print()\n",
    "gmean_loss = sum(losses)/len(losses)\n",
    "gmean_auc = metrics.roc_auc_score(Y, geometric_mean_pred)\n",
    "print(\"avg_loss: {}\".format(gmean_loss))\n",
    "print(\"ROC AUC: {}\".format(gmean_auc))\n",
    "print()\n",
    "\n",
    "harmonic_mean_pred = scipy.stats.mstats.hmean(pred+1e-15)\n",
    "losses = compute_losses(Y, harmonic_mean_pred, eps=1e-5)\n",
    "print(\"harmonic mean\")\n",
    "for label, label_loss in zip(inx2label, losses):\n",
    "    print(\"{}: {}\".format(label, label_loss))\n",
    "print()\n",
    "harmonic_loss = sum(losses)/len(losses)\n",
    "harmonic_auc = metrics.roc_auc_score(Y, harmonic_mean_pred)\n",
    "print(\"avg_loss: {}\".format(harmonic_loss))\n",
    "print(\"ROC AUC: {}\".format(harmonic_auc))\n",
    "print()"
   ]
  },
  {
   "cell_type": "code",
   "execution_count": 19,
   "metadata": {
    "ExecuteTime": {
     "end_time": "2018-03-12T07:16:12.744646Z",
     "start_time": "2018-03-12T07:16:11.661220Z"
    }
   },
   "outputs": [
    {
     "name": "stdout",
     "output_type": "stream",
     "text": [
      "mean\n",
      "toxic: 0.07561870326932812\n",
      "severe_toxic: 0.01999006772499816\n",
      "obscene: 0.0386439521452826\n",
      "threat: 0.006788497328011677\n",
      "insult: 0.05275776625499718\n",
      "identity_hate: 0.017292022828591727\n",
      "\n",
      "avg_loss: 0.03518183492520158\n",
      "ROC AUC: 0.9921522220596707\n",
      "\n",
      "geometric mean\n",
      "toxic: 0.07648554383323146\n",
      "severe_toxic: 0.020043020297934748\n",
      "obscene: 0.03927039006824046\n",
      "threat: 0.00687840602400439\n",
      "insult: 0.05295829414509\n",
      "identity_hate: 0.017604333516937177\n",
      "\n",
      "avg_loss: 0.035539997980906374\n",
      "ROC AUC: 0.9919293776588303\n",
      "\n",
      "harmonic mean\n",
      "toxic: 0.07816493135964453\n",
      "severe_toxic: 0.020216587258556323\n",
      "obscene: 0.04028938359731967\n",
      "threat: 0.007206638638142895\n",
      "insult: 0.05360097261743423\n",
      "identity_hate: 0.018121564024734443\n",
      "\n",
      "avg_loss: 0.03626667958263868\n",
      "ROC AUC: 0.9915876277357468\n",
      "\n"
     ]
    }
   ],
   "source": [
    "# FastText + GloVe + Twitter GloVe + cleaned FastText\n",
    "pred = np.stack([minmax_scale(model0__crawl_300d__emb_drop05__bs256__10f_pred),\n",
    "                 minmax_scale(model1__crawl_300d__emb_drop05__bs256__10f_pred),\n",
    "                 minmax_scale(model2__crawl_300d__emb_drop05__bs256__10f_pred),\n",
    "                 minmax_scale(model3__crawl_300d__emb_drop05__bs256__10f_pred),\n",
    "                 minmax_scale(model0__glove_300d__emb_drop05__bs256__10f_pred),\n",
    "                 minmax_scale(model1__glove_300d__emb_drop05__bs256__10f_pred),\n",
    "                 minmax_scale(model2__glove_300d__emb_drop05__bs256__10f_pred),\n",
    "                 minmax_scale(model3__glove_300d__emb_drop05__bs256__10f_pred),\n",
    "                 minmax_scale(model0__glove_twitter_200d__emb_drop05__bs256__10f_pred),\n",
    "                 minmax_scale(model0__crawl_300d__emb_drop05__bs256__lstm__prep_improved__10f_pred),\n",
    "                 minmax_scale(model3__crawl_300d__emb_drop05__bs256__lstm__prep_improved__10f_pred)])\n",
    "\n",
    "mean_pred = pred.mean(0)\n",
    "losses = compute_losses(Y, mean_pred, eps=1e-5)\n",
    "print(\"mean\")\n",
    "for label, label_loss in zip(inx2label, losses):\n",
    "    print(\"{}: {}\".format(label, label_loss))\n",
    "print()\n",
    "mean_loss = sum(losses)/len(losses)\n",
    "mean_auc = metrics.roc_auc_score(Y, mean_pred)\n",
    "print(\"avg_loss: {}\".format(mean_loss))\n",
    "print(\"ROC AUC: {}\".format(mean_auc))\n",
    "print()\n",
    "\n",
    "geometric_mean_pred = scipy.stats.mstats.gmean(pred+1e-15)\n",
    "losses = compute_losses(Y, geometric_mean_pred, eps=1e-5)\n",
    "print(\"geometric mean\")\n",
    "for label, label_loss in zip(inx2label, losses):\n",
    "    print(\"{}: {}\".format(label, label_loss))\n",
    "print()\n",
    "gmean_loss = sum(losses)/len(losses)\n",
    "gmean_auc = metrics.roc_auc_score(Y, geometric_mean_pred)\n",
    "print(\"avg_loss: {}\".format(gmean_loss))\n",
    "print(\"ROC AUC: {}\".format(gmean_auc))\n",
    "print()\n",
    "\n",
    "harmonic_mean_pred = scipy.stats.mstats.hmean(pred+1e-15)\n",
    "losses = compute_losses(Y, harmonic_mean_pred, eps=1e-5)\n",
    "print(\"harmonic mean\")\n",
    "for label, label_loss in zip(inx2label, losses):\n",
    "    print(\"{}: {}\".format(label, label_loss))\n",
    "print()\n",
    "harmonic_loss = sum(losses)/len(losses)\n",
    "harmonic_auc = metrics.roc_auc_score(Y, harmonic_mean_pred)\n",
    "print(\"avg_loss: {}\".format(harmonic_loss))\n",
    "print(\"ROC AUC: {}\".format(harmonic_auc))\n",
    "print()"
   ]
  },
  {
   "cell_type": "code",
   "execution_count": 23,
   "metadata": {
    "ExecuteTime": {
     "end_time": "2018-03-12T07:22:27.108658Z",
     "start_time": "2018-03-12T07:22:26.975623Z"
    }
   },
   "outputs": [
    {
     "name": "stdout",
     "output_type": "stream",
     "text": [
      "toxic: 0.9884550080653188\n",
      "severe_toxic: 0.9923176378682497\n",
      "obscene: 0.9952813714061106\n",
      "threat: 0.9949993000331085\n",
      "insult: 0.9904449905523727\n",
      "identity_hate: 0.9914150244328643\n",
      "ROC AUC: 0.9921522220596707\n",
      "\n"
     ]
    }
   ],
   "source": [
    "mean_pred = pred.mean(0)\n",
    "auc_by_class = []\n",
    "for i in range(Y.shape[1]):\n",
    "    auc = metrics.roc_auc_score(Y[:,i], mean_pred[:,i])\n",
    "    auc_by_class.append(auc)\n",
    "    print(\"{}: {}\".format(inx2label[i], auc))\n",
    "    \n",
    "mean_auc = np.array(auc_by_class).mean()\n",
    "print(\"ROC AUC: {}\".format(mean_auc))\n",
    "print()"
   ]
  },
  {
   "cell_type": "code",
   "execution_count": 20,
   "metadata": {
    "ExecuteTime": {
     "end_time": "2018-03-12T07:16:30.919745Z",
     "start_time": "2018-03-12T07:16:30.914965Z"
    }
   },
   "outputs": [
    {
     "data": {
      "text/plain": [
       "(159571, 6)"
      ]
     },
     "execution_count": 20,
     "metadata": {},
     "output_type": "execute_result"
    }
   ],
   "source": [
    "Y.shape"
   ]
  },
  {
   "cell_type": "code",
   "execution_count": 21,
   "metadata": {
    "ExecuteTime": {
     "end_time": "2018-03-12T07:16:34.790091Z",
     "start_time": "2018-03-12T07:16:34.785247Z"
    }
   },
   "outputs": [
    {
     "data": {
      "text/plain": [
       "(11, 159571, 6)"
      ]
     },
     "execution_count": 21,
     "metadata": {},
     "output_type": "execute_result"
    }
   ],
   "source": [
    "pred.shape"
   ]
  },
  {
   "cell_type": "code",
   "execution_count": null,
   "metadata": {},
   "outputs": [],
   "source": [
    "p = []\n",
    "for c in cols:\n",
    "    ws = scores[c]\n",
    "    y = train[c]\n",
    "    pred = 0\n",
    "    i = 0\n",
    "    for n in onms:\n",
    "        pred += ((ws[i]-np.min(ws))/(np.max(ws)-np.min(ws))+0.1)*train[n+'_'+c]\n",
    "    p.append(roc_auc_score(y,pred))\n",
    "    print(c,roc_auc_score(y,pred))\n",
    "np.mean(p)"
   ]
  },
  {
   "cell_type": "code",
   "execution_count": 20,
   "metadata": {
    "ExecuteTime": {
     "end_time": "2018-03-12T06:11:50.046777Z",
     "start_time": "2018-03-12T06:11:48.736665Z"
    }
   },
   "outputs": [
    {
     "data": {
      "text/html": [
       "<a href='results/mean__crawl_300d_0123__cleaned_lstm_03__glove_300d_0123__glove_twitter_200d_0__emb_drop05__bs256__10f__0.03518_0.99215.csv' target='_blank'>results/mean__crawl_300d_0123__cleaned_lstm_03__glove_300d_0123__glove_twitter_200d_0__emb_drop05__bs256__10f__0.03518_0.99215.csv</a><br>"
      ],
      "text/plain": [
       "/src/DL/skolbachev/toxic/skolbachev/results/mean__crawl_300d_0123__cleaned_lstm_03__glove_300d_0123__glove_twitter_200d_0__emb_drop05__bs256__10f__0.03518_0.99215.csv"
      ]
     },
     "execution_count": 20,
     "metadata": {},
     "output_type": "execute_result"
    }
   ],
   "source": [
    "test_pred = np.stack([minmax_scale(model0__crawl_300d__emb_drop05__bs256__10f_test_pred),\n",
    "                      minmax_scale(model1__crawl_300d__emb_drop05__bs256__10f_test_pred),\n",
    "                      minmax_scale(model2__crawl_300d__emb_drop05__bs256__10f_test_pred),\n",
    "                      minmax_scale(model3__crawl_300d__emb_drop05__bs256__10f_test_pred),\n",
    "                      minmax_scale(model0__glove_300d__emb_drop05__bs256__10f_test_pred),\n",
    "                      minmax_scale(model1__glove_300d__emb_drop05__bs256__10f_test_pred),\n",
    "                      minmax_scale(model2__glove_300d__emb_drop05__bs256__10f_test_pred),\n",
    "                      minmax_scale(model3__glove_300d__emb_drop05__bs256__10f_test_pred),\n",
    "                      minmax_scale(model0__glove_twitter_200d__emb_drop05__bs256__10f_test_pred),\n",
    "                      minmax_scale(model0__crawl_300d__emb_drop05__bs256__lstm__prep_improved__10f_test_pred),\n",
    "                      minmax_scale(model3__crawl_300d__emb_drop05__bs256__lstm__prep_improved__10f_test_pred)]).mean(0)\n",
    "submission_name = \"mean__crawl_300d_0123__cleaned_lstm_03__glove_300d_0123__glove_twitter_200d_0__emb_drop05__bs256__10f__\"+str(round(mean_loss, 5))+\"_\"+str(round(mean_auc, 5))+'.csv'\n",
    "\n",
    "sample_submission = pd.read_csv(data_dir + 'sample_submission.csv')\n",
    "sample_submission[inx2label] = test_pred\n",
    "sample_submission.to_csv(results_dir+submission_name, index=False)\n",
    "\n",
    "FileLink(results_dir+submission_name)"
   ]
  },
  {
   "cell_type": "code",
   "execution_count": 18,
   "metadata": {
    "ExecuteTime": {
     "end_time": "2018-03-04T10:39:37.646080Z",
     "start_time": "2018-03-04T10:39:36.267578Z"
    }
   },
   "outputs": [
    {
     "data": {
      "text/html": [
       "<a href='results/geometric_mean__models_0_1_2_3__crawl_300d__glove_300d__emb_drop05__bs256__10f__0.03581_0.99171.csv' target='_blank'>results/geometric_mean__models_0_1_2_3__crawl_300d__glove_300d__emb_drop05__bs256__10f__0.03581_0.99171.csv</a><br>"
      ],
      "text/plain": [
       "/src/DL/skolbachev/toxic/skolbachev/results/geometric_mean__models_0_1_2_3__crawl_300d__glove_300d__emb_drop05__bs256__10f__0.03581_0.99171.csv"
      ]
     },
     "execution_count": 18,
     "metadata": {},
     "output_type": "execute_result"
    }
   ],
   "source": [
    "# test_pred = scipy.stats.mstats.gmean(\n",
    "#     np.stack([minmax_scale(model0__crawl_300d__emb_drop05__bs256__10f_test_pred),\n",
    "#               minmax_scale(model1__crawl_300d__emb_drop05__bs256__10f_test_pred),\n",
    "#               minmax_scale(model2__crawl_300d__emb_drop05__bs256__10f_test_pred),\n",
    "#               minmax_scale(model3__crawl_300d__emb_drop05__bs256__10f_test_pred),\n",
    "#               minmax_scale(model0__glove_300d__emb_drop05__bs256__10f_test_pred),\n",
    "#               minmax_scale(model1__glove_300d__emb_drop05__bs256__10f_test_pred),\n",
    "#               minmax_scale(model2__glove_300d__emb_drop05__bs256__10f_test_pred),\n",
    "#               minmax_scale(model3__glove_300d__emb_drop05__bs256__10f_test_pred)])+1e-15)\n",
    "# submission_name = \"geometric_mean__models_0_1_2_3__crawl_300d__glove_300d__emb_drop05__bs256__10f__\"+str(round(gmean_loss, 5))+\"_\"+str(round(gmean_auc, 5))+'.csv'\n",
    "\n",
    "# sample_submission = pd.read_csv(data_dir + 'sample_submission.csv')\n",
    "# sample_submission[inx2label] = test_pred\n",
    "# sample_submission.to_csv(results_dir+submission_name, index=False)\n",
    "\n",
    "# FileLink(results_dir+submission_name)"
   ]
  },
  {
   "cell_type": "markdown",
   "metadata": {},
   "source": [
    "### Stacking"
   ]
  },
  {
   "cell_type": "code",
   "execution_count": 21,
   "metadata": {
    "ExecuteTime": {
     "end_time": "2018-03-12T06:12:36.032398Z",
     "start_time": "2018-03-12T06:12:35.994097Z"
    }
   },
   "outputs": [
    {
     "name": "stdout",
     "output_type": "stream",
     "text": [
      "mean\n",
      "toxic: 0.07850087374078868\n",
      "severe_toxic: 0.01857617971196556\n",
      "obscene: 0.03799611738311301\n",
      "threat: 0.006255824839167778\n",
      "insult: 0.053828973845202306\n",
      "identity_hate: 0.015188286548076671\n",
      "\n",
      "avg_loss: 0.035057709344719\n",
      "ROC AUC: 0.9923061441818471\n",
      "\n"
     ]
    }
   ],
   "source": [
    "mean_pred = pred[:,val_inx].mean(0)\n",
    "losses = compute_losses(Y[val_inx], mean_pred, eps=1e-5)\n",
    "print(\"mean\")\n",
    "for label, label_loss in zip(inx2label, losses):\n",
    "    print(\"{}: {}\".format(label, label_loss))\n",
    "print()\n",
    "mean_loss = sum(losses)/len(losses)\n",
    "mean_auc = metrics.roc_auc_score(Y[val_inx], mean_pred)\n",
    "print(\"avg_loss: {}\".format(mean_loss))\n",
    "print(\"ROC AUC: {}\".format(mean_auc))\n",
    "print()"
   ]
  },
  {
   "cell_type": "code",
   "execution_count": 44,
   "metadata": {
    "ExecuteTime": {
     "end_time": "2018-03-12T06:26:43.976558Z",
     "start_time": "2018-03-12T06:26:43.916270Z"
    }
   },
   "outputs": [
    {
     "name": "stdout",
     "output_type": "stream",
     "text": [
      "(159571, 66)\n",
      "(153164, 66)\n"
     ]
    }
   ],
   "source": [
    "X = np.concatenate([model0__crawl_300d__emb_drop05__bs256__10f_pred,\n",
    "                    model1__crawl_300d__emb_drop05__bs256__10f_pred,\n",
    "                    model2__crawl_300d__emb_drop05__bs256__10f_pred,\n",
    "                    model3__crawl_300d__emb_drop05__bs256__10f_pred,\n",
    "                    model0__glove_300d__emb_drop05__bs256__10f_pred,\n",
    "                    model1__glove_300d__emb_drop05__bs256__10f_pred,\n",
    "                    model2__glove_300d__emb_drop05__bs256__10f_pred,\n",
    "                    model3__glove_300d__emb_drop05__bs256__10f_pred,\n",
    "                    model0__glove_twitter_200d__emb_drop05__bs256__10f_pred,\n",
    "                    model0__crawl_300d__emb_drop05__bs256__lstm__prep_improved__10f_pred,\n",
    "                    model3__crawl_300d__emb_drop05__bs256__lstm__prep_improved__10f_pred], -1)\n",
    "\n",
    "test_X = np.concatenate([model0__crawl_300d__emb_drop05__bs256__10f_test_pred,\n",
    "                        model1__crawl_300d__emb_drop05__bs256__10f_test_pred,\n",
    "                        model2__crawl_300d__emb_drop05__bs256__10f_test_pred,\n",
    "                        model3__crawl_300d__emb_drop05__bs256__10f_test_pred,\n",
    "                        model0__glove_300d__emb_drop05__bs256__10f_test_pred,\n",
    "                        model1__glove_300d__emb_drop05__bs256__10f_test_pred,\n",
    "                        model2__glove_300d__emb_drop05__bs256__10f_test_pred,\n",
    "                        model3__glove_300d__emb_drop05__bs256__10f_test_pred,\n",
    "                        model0__glove_twitter_200d__emb_drop05__bs256__10f_test_pred,\n",
    "                        model0__crawl_300d__emb_drop05__bs256__lstm__prep_improved__10f_test_pred,\n",
    "                        model3__crawl_300d__emb_drop05__bs256__lstm__prep_improved__10f_test_pred], -1)\n",
    "\n",
    "print(X.shape)\n",
    "print(test_X.shape)"
   ]
  },
  {
   "cell_type": "code",
   "execution_count": 83,
   "metadata": {
    "ExecuteTime": {
     "end_time": "2018-03-12T07:02:48.303585Z",
     "start_time": "2018-03-12T07:02:48.112561Z"
    }
   },
   "outputs": [
    {
     "name": "stdout",
     "output_type": "stream",
     "text": [
      "_________________________________________________________________\n",
      "Layer (type)                 Output Shape              Param #   \n",
      "=================================================================\n",
      "input_14 (InputLayer)        (None, 66)                0         \n",
      "_________________________________________________________________\n",
      "batch_normalization_29 (Batc (None, 66)                264       \n",
      "_________________________________________________________________\n",
      "dropout_27 (Dropout)         (None, 66)                0         \n",
      "_________________________________________________________________\n",
      "dense_34 (Dense)             (None, 256)               17152     \n",
      "_________________________________________________________________\n",
      "batch_normalization_30 (Batc (None, 256)               1024      \n",
      "_________________________________________________________________\n",
      "dropout_28 (Dropout)         (None, 256)               0         \n",
      "_________________________________________________________________\n",
      "dense_35 (Dense)             (None, 256)               65792     \n",
      "_________________________________________________________________\n",
      "batch_normalization_31 (Batc (None, 256)               1024      \n",
      "_________________________________________________________________\n",
      "dropout_29 (Dropout)         (None, 256)               0         \n",
      "_________________________________________________________________\n",
      "dense_36 (Dense)             (None, 6)                 1542      \n",
      "=================================================================\n",
      "Total params: 86,798\n",
      "Trainable params: 85,642\n",
      "Non-trainable params: 1,156\n",
      "_________________________________________________________________\n"
     ]
    }
   ],
   "source": [
    "model_name = 'exp_stacking_model'\n",
    "\n",
    "def getSimpleNNModel(input_shape, output_shape):\n",
    "    x_input = Input(shape=input_shape)\n",
    "    x_feat = x_input\n",
    "    x_feat = BatchNormalization()(x_feat)\n",
    "    x_feat = Dropout(0.1)(x_feat) # Providing higher dropout should increase score \n",
    "\n",
    "    x_feat = Dense(256, activation=\"relu\")(x_feat)\n",
    "#     x_feat = Activation('relu')(x_feat)\n",
    "    x_feat = BatchNormalization()(x_feat)\n",
    "    x_feat = Dropout(0.1)(x_feat)\n",
    "\n",
    "    x_feat = Dense(256, activation=\"relu\")(x_feat)\n",
    "#     x_feat = Activation('relu')(x_feat)\n",
    "    x_feat = BatchNormalization()(x_feat)\n",
    "    x_feat = Dropout(0.1)(x_feat)\n",
    "\n",
    "    x_output = Dense(output_shape, activation='sigmoid')(x_feat)\n",
    "    return Model(inputs=x_input, outputs=x_output)\n",
    "\n",
    "model = getSimpleNNModel((X.shape[1],), Y.shape[1])\n",
    "model.summary()"
   ]
  },
  {
   "cell_type": "code",
   "execution_count": 84,
   "metadata": {
    "ExecuteTime": {
     "end_time": "2018-03-12T07:02:49.744107Z",
     "start_time": "2018-03-12T07:02:49.739781Z"
    }
   },
   "outputs": [],
   "source": [
    "model_checkpoint = ModelCheckpoint(models_dir+model_name+'.h5', monitor='val_loss', mode='min', verbose=1, save_best_only=True)\n",
    "early_stop = EarlyStopping(monitor='val_loss', min_delta=0, patience=6, verbose=1, mode='auto')\n",
    "lr_reduce = ReduceLROnPlateau(monitor='val_loss', factor=0.9, patience=1, min_lr=0.0001, verbose=1)"
   ]
  },
  {
   "cell_type": "code",
   "execution_count": 85,
   "metadata": {
    "ExecuteTime": {
     "end_time": "2018-03-12T07:02:49.774506Z",
     "start_time": "2018-03-12T07:02:49.751100Z"
    }
   },
   "outputs": [],
   "source": [
    "batch_size = 256\n",
    "val_batch_size = 10*1024\n",
    "\n",
    "trn_seq = FeatureSequence(X[trn_inx], Y[trn_inx], batch_size, shuffle=True)\n",
    "val_seq = FeatureSequence(X[val_inx], Y[val_inx], val_batch_size)\n",
    "roc_auc_eval = RocAucEvaluation(X[val_inx], Y[val_inx], batch_size=val_batch_size)"
   ]
  },
  {
   "cell_type": "code",
   "execution_count": 86,
   "metadata": {
    "ExecuteTime": {
     "end_time": "2018-03-12T07:04:14.915800Z",
     "start_time": "2018-03-12T07:02:50.671707Z"
    }
   },
   "outputs": [
    {
     "name": "stdout",
     "output_type": "stream",
     "text": [
      "Epoch 1/40\n",
      "561/561 [==============================] - 3s 5ms/step - loss: 0.3959 - val_loss: 0.1273\n",
      "\n",
      "Epoch 00001: val_loss improved from inf to 0.12727, saving model to models/exp_stacking_model.h5\n",
      "ROC-AUC: 0.90747775\n",
      "\n",
      "\n",
      "Epoch 2/40\n",
      "561/561 [==============================] - 2s 4ms/step - loss: 0.0822 - val_loss: 0.0537\n",
      "\n",
      "Epoch 00002: val_loss improved from 0.12727 to 0.05366, saving model to models/exp_stacking_model.h5\n",
      "ROC-AUC: 0.94937070\n",
      "\n",
      "\n",
      "Epoch 3/40\n",
      "561/561 [==============================] - 3s 6ms/step - loss: 0.0559 - val_loss: 0.0431\n",
      "\n",
      "Epoch 00003: val_loss improved from 0.05366 to 0.04313, saving model to models/exp_stacking_model.h5\n",
      "ROC-AUC: 0.96808720\n",
      "\n",
      "\n",
      "Epoch 4/40\n",
      "561/561 [==============================] - 2s 4ms/step - loss: 0.0494 - val_loss: 0.0402\n",
      "\n",
      "Epoch 00004: val_loss improved from 0.04313 to 0.04023, saving model to models/exp_stacking_model.h5\n",
      "ROC-AUC: 0.98438184\n",
      "\n",
      "\n",
      "Epoch 5/40\n",
      "561/561 [==============================] - 2s 4ms/step - loss: 0.0456 - val_loss: 0.0385\n",
      "\n",
      "Epoch 00005: val_loss improved from 0.04023 to 0.03851, saving model to models/exp_stacking_model.h5\n",
      "ROC-AUC: 0.98306185\n",
      "\n",
      "\n",
      "Epoch 6/40\n",
      "561/561 [==============================] - 4s 7ms/step - loss: 0.0436 - val_loss: 0.0373\n",
      "\n",
      "Epoch 00006: val_loss improved from 0.03851 to 0.03731, saving model to models/exp_stacking_model.h5\n",
      "ROC-AUC: 0.98755074\n",
      "\n",
      "\n",
      "Epoch 7/40\n",
      "561/561 [==============================] - 3s 6ms/step - loss: 0.0421 - val_loss: 0.0369\n",
      "\n",
      "Epoch 00007: val_loss improved from 0.03731 to 0.03688, saving model to models/exp_stacking_model.h5\n",
      "ROC-AUC: 0.98623588\n",
      "\n",
      "\n",
      "Epoch 8/40\n",
      "561/561 [==============================] - 3s 6ms/step - loss: 0.0413 - val_loss: 0.0367\n",
      "\n",
      "Epoch 00008: val_loss improved from 0.03688 to 0.03669, saving model to models/exp_stacking_model.h5\n",
      "ROC-AUC: 0.98659279\n",
      "\n",
      "\n",
      "Epoch 9/40\n",
      "561/561 [==============================] - 4s 6ms/step - loss: 0.0412 - val_loss: 0.0373\n",
      "\n",
      "Epoch 00009: val_loss did not improve\n",
      "ROC-AUC: 0.98671220\n",
      "\n",
      "\n",
      "Epoch 10/40\n",
      "561/561 [==============================] - 3s 5ms/step - loss: 0.0407 - val_loss: 0.0379\n",
      "\n",
      "Epoch 00010: val_loss did not improve\n",
      "ROC-AUC: 0.98917134\n",
      "\n",
      "\n",
      "Epoch 11/40\n",
      "561/561 [==============================] - 2s 4ms/step - loss: 0.0406 - val_loss: 0.0369\n",
      "\n",
      "Epoch 00011: val_loss did not improve\n",
      "ROC-AUC: 0.98532738\n",
      "\n",
      "\n",
      "Epoch 12/40\n",
      "561/561 [==============================] - 3s 5ms/step - loss: 0.0405 - val_loss: 0.0394\n",
      "\n",
      "Epoch 00012: val_loss did not improve\n",
      "ROC-AUC: 0.99111252\n",
      "\n",
      "\n",
      "Epoch 13/40\n",
      "561/561 [==============================] - 2s 4ms/step - loss: 0.0400 - val_loss: 0.0366\n",
      "\n",
      "Epoch 00013: val_loss improved from 0.03669 to 0.03660, saving model to models/exp_stacking_model.h5\n",
      "ROC-AUC: 0.99137049\n",
      "\n",
      "\n",
      "Epoch 14/40\n",
      "561/561 [==============================] - 3s 6ms/step - loss: 0.0396 - val_loss: 0.0366\n",
      "\n",
      "Epoch 00014: val_loss did not improve\n",
      "ROC-AUC: 0.99014635\n",
      "\n",
      "\n",
      "Epoch 15/40\n",
      "561/561 [==============================] - 2s 4ms/step - loss: 0.0387 - val_loss: 0.0362\n",
      "\n",
      "Epoch 00015: val_loss improved from 0.03660 to 0.03624, saving model to models/exp_stacking_model.h5\n",
      "ROC-AUC: 0.98744706\n",
      "\n",
      "\n",
      "Epoch 16/40\n",
      "561/561 [==============================] - 2s 4ms/step - loss: 0.0388 - val_loss: 0.0358\n",
      "\n",
      "Epoch 00016: val_loss improved from 0.03624 to 0.03583, saving model to models/exp_stacking_model.h5\n",
      "ROC-AUC: 0.99011904\n",
      "\n",
      "\n",
      "Epoch 17/40\n",
      "561/561 [==============================] - 3s 5ms/step - loss: 0.0387 - val_loss: 0.0359\n",
      "\n",
      "Epoch 00017: val_loss did not improve\n",
      "ROC-AUC: 0.99004723\n",
      "\n",
      "\n",
      "Epoch 18/40\n",
      "561/561 [==============================] - 3s 5ms/step - loss: 0.0385 - val_loss: 0.0358\n",
      "\n",
      "Epoch 00018: val_loss improved from 0.03583 to 0.03580, saving model to models/exp_stacking_model.h5\n",
      "ROC-AUC: 0.99016786\n",
      "\n",
      "\n",
      "Epoch 19/40\n",
      "561/561 [==============================] - 2s 4ms/step - loss: 0.0385 - val_loss: 0.0377\n",
      "\n",
      "Epoch 00019: val_loss did not improve\n",
      "ROC-AUC: 0.98975619\n",
      "\n",
      "\n",
      "Epoch 20/40\n",
      "561/561 [==============================] - 3s 6ms/step - loss: 0.0384 - val_loss: 0.0364\n",
      "\n",
      "Epoch 00020: val_loss did not improve\n",
      "ROC-AUC: 0.99019687\n",
      "\n",
      "\n",
      "Epoch 21/40\n",
      "561/561 [==============================] - 3s 4ms/step - loss: 0.0383 - val_loss: 0.0370\n",
      "\n",
      "Epoch 00021: val_loss did not improve\n",
      "ROC-AUC: 0.99085553\n",
      "\n",
      "\n",
      "Epoch 22/40\n",
      "561/561 [==============================] - 2s 4ms/step - loss: 0.0381 - val_loss: 0.0362\n",
      "\n",
      "Epoch 00022: val_loss did not improve\n",
      "ROC-AUC: 0.98916590\n",
      "\n",
      "\n",
      "Epoch 23/40\n",
      "561/561 [==============================] - 3s 5ms/step - loss: 0.0380 - val_loss: 0.0357\n",
      "\n",
      "Epoch 00023: val_loss improved from 0.03580 to 0.03569, saving model to models/exp_stacking_model.h5\n",
      "ROC-AUC: 0.99049925\n",
      "\n",
      "\n",
      "Epoch 24/40\n",
      "561/561 [==============================] - 3s 5ms/step - loss: 0.0378 - val_loss: 0.0359\n",
      "\n",
      "Epoch 00024: val_loss did not improve\n",
      "ROC-AUC: 0.99120301\n",
      "\n",
      "\n",
      "Epoch 25/40\n",
      "561/561 [==============================] - 2s 4ms/step - loss: 0.0377 - val_loss: 0.0359\n",
      "\n",
      "Epoch 00025: val_loss did not improve\n",
      "ROC-AUC: 0.99144901\n",
      "\n",
      "\n",
      "Epoch 26/40\n",
      "561/561 [==============================] - 2s 4ms/step - loss: 0.0375 - val_loss: 0.0357\n",
      "\n",
      "Epoch 00026: val_loss did not improve\n",
      "ROC-AUC: 0.98994337\n",
      "\n",
      "\n",
      "Epoch 27/40\n",
      "561/561 [==============================] - 3s 5ms/step - loss: 0.0375 - val_loss: 0.0363\n",
      "\n",
      "Epoch 00027: val_loss did not improve\n",
      "ROC-AUC: 0.99118905\n",
      "\n",
      "\n",
      "Epoch 28/40\n",
      "561/561 [==============================] - 2s 4ms/step - loss: 0.0374 - val_loss: 0.0365\n",
      "\n",
      "Epoch 00028: val_loss did not improve\n",
      "ROC-AUC: 0.98719896\n",
      "\n",
      "\n",
      "Epoch 29/40\n",
      "561/561 [==============================] - 3s 5ms/step - loss: 0.0374 - val_loss: 0.0362\n",
      "\n",
      "Epoch 00029: val_loss did not improve\n",
      "ROC-AUC: 0.98987792\n",
      "\n",
      "\n",
      "Epoch 00029: early stopping\n"
     ]
    },
    {
     "data": {
      "text/plain": [
       "<keras.callbacks.History at 0x7fd80699a320>"
      ]
     },
     "execution_count": 86,
     "metadata": {},
     "output_type": "execute_result"
    }
   ],
   "source": [
    "epochs=40\n",
    "clr = CyclicLR(base_lr=0.0001, max_lr=0.001, step_size=4*len(trn_seq), mode='triangular2')\n",
    "model.compile(loss=\"binary_crossentropy\", optimizer=optimizers.Nadam())\n",
    "# model.compile(loss=art_loss, optimizer=optimizers.Nadam())\n",
    "\n",
    "model.fit_generator(\n",
    "    generator=trn_seq, steps_per_epoch=len(trn_seq),\n",
    "    validation_data=val_seq, validation_steps=len(val_seq),\n",
    "    initial_epoch=0, epochs=epochs, shuffle=False, verbose=1,\n",
    "    callbacks=[model_checkpoint, clr, early_stop, roc_auc_eval],\n",
    "#     callbacks=[model_checkpoint, lr_reduce, early_stop, roc_auc_eval],\n",
    "    use_multiprocessing=False, workers=cpu_cores, max_queue_size=8*cpu_cores)"
   ]
  },
  {
   "cell_type": "code",
   "execution_count": 80,
   "metadata": {
    "ExecuteTime": {
     "end_time": "2018-03-12T07:02:23.984719Z",
     "start_time": "2018-03-12T07:02:22.090579Z"
    }
   },
   "outputs": [],
   "source": [
    "del model\n",
    "model = load_model(models_dir+model_name+'.h5', compile=True, \n",
    "                   custom_objects={'Attention':Attention, 'AttentionWeightedAverage':AttentionWeightedAverage,})"
   ]
  },
  {
   "cell_type": "code",
   "execution_count": 81,
   "metadata": {
    "ExecuteTime": {
     "end_time": "2018-03-12T07:02:24.543012Z",
     "start_time": "2018-03-12T07:02:23.985656Z"
    }
   },
   "outputs": [
    {
     "name": "stdout",
     "output_type": "stream",
     "text": [
      "toxic: 0.07247350948075913\n",
      "severe_toxic: 0.019731247020638908\n",
      "obscene: 0.03758337208276597\n",
      "threat: 0.006515034476806187\n",
      "insult: 0.0511227093887107\n",
      "identity_hate: 0.01682209329888373\n",
      "\n",
      "\n",
      "avg_loss: 0.03404132762476077\n",
      "ROC AUC: 0.9923487535515224\n"
     ]
    }
   ],
   "source": [
    "Y_trn_pred = model.predict(X[trn_inx], batch_size=10*1024, verbose=0)\n",
    "losses = compute_losses(Y[trn_inx], Y_trn_pred, eps=1e-5)\n",
    "for label, label_loss in zip(inx2label, losses):\n",
    "    print(\"{}: {}\".format(label, label_loss))\n",
    "print()\n",
    "\n",
    "trn_loss = sum(losses)/len(losses)\n",
    "trn_auc = metrics.roc_auc_score(Y[trn_inx], Y_trn_pred)\n",
    "\n",
    "print()\n",
    "print(\"avg_loss: {}\".format(trn_loss))\n",
    "print(\"ROC AUC: {}\".format(trn_auc))"
   ]
  },
  {
   "cell_type": "code",
   "execution_count": 82,
   "metadata": {
    "ExecuteTime": {
     "end_time": "2018-03-12T07:02:24.581497Z",
     "start_time": "2018-03-12T07:02:24.544235Z"
    }
   },
   "outputs": [
    {
     "name": "stdout",
     "output_type": "stream",
     "text": [
      "toxic: 0.08270217511127208\n",
      "severe_toxic: 0.018498712257632992\n",
      "obscene: 0.03883483217924231\n",
      "threat: 0.007212961960087428\n",
      "insult: 0.054083887144997816\n",
      "identity_hate: 0.015757508400783448\n",
      "\n",
      "\n",
      "avg_loss: 0.036181679509002675\n",
      "ROC AUC: 0.9908160135331507\n"
     ]
    }
   ],
   "source": [
    "Y_val_pred = model.predict(X[val_inx], batch_size=10*1024, verbose=0)\n",
    "losses = compute_losses(Y[val_inx], Y_val_pred, eps=1e-5)\n",
    "for label, label_loss in zip(inx2label, losses):\n",
    "    print(\"{}: {}\".format(label, label_loss))\n",
    "print()\n",
    "\n",
    "val_loss = sum(losses)/len(losses)\n",
    "val_auc = metrics.roc_auc_score(Y[val_inx], Y_val_pred)\n",
    "\n",
    "print()\n",
    "print(\"avg_loss: {}\".format(val_loss))\n",
    "print(\"ROC AUC: {}\".format(val_auc))"
   ]
  },
  {
   "cell_type": "code",
   "execution_count": null,
   "metadata": {},
   "outputs": [],
   "source": []
  }
 ],
 "metadata": {
  "hide_input": false,
  "kernelspec": {
   "display_name": "Python 3",
   "language": "python",
   "name": "python3"
  },
  "language_info": {
   "codemirror_mode": {
    "name": "ipython",
    "version": 3
   },
   "file_extension": ".py",
   "mimetype": "text/x-python",
   "name": "python",
   "nbconvert_exporter": "python",
   "pygments_lexer": "ipython3",
   "version": "3.5.4"
  },
  "toc": {
   "nav_menu": {},
   "number_sections": true,
   "sideBar": true,
   "skip_h1_title": false,
   "toc_cell": false,
   "toc_position": {},
   "toc_section_display": "block",
   "toc_window_display": false
  }
 },
 "nbformat": 4,
 "nbformat_minor": 2
}
